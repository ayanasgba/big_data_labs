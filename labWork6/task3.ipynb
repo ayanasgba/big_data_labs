{
 "cells": [
  {
   "cell_type": "markdown",
   "source": [
    "<h1>Создать модель классификатор, которая по определенному обучаемому набору (salary, city, age, vacation_prefer, transport_prefer) будет определять предпочтения человека (target), в каком городе провести отпуск.</h1>"
   ],
   "metadata": {
    "collapsed": false
   },
   "id": "6b12ca3b654fd36f"
  },
  {
   "cell_type": "code",
   "execution_count": 221,
   "id": "initial_id",
   "metadata": {
    "collapsed": true,
    "ExecuteTime": {
     "end_time": "2023-12-05T14:49:10.691707600Z",
     "start_time": "2023-12-05T14:49:10.669328800Z"
    }
   },
   "outputs": [],
   "source": [
    "# imports\n",
    "import pandas as pd\n",
    "import csv\n",
    "import random"
   ]
  },
  {
   "cell_type": "markdown",
   "source": [
    "<p>a. Создать свой датасет с категориальными данными (1000 строк), которые содержат следующие поля: (salary, city, age, vacation_prefer, transport_prefer, target). Применить import random (random. choice, random.randint) \n",
    "<br>\n",
    "<br>\n",
    "b. Salary – установить числовой тип (например 50000), city – город проживания (например, Bishkek), age – возраст (например, от 30 до 65), vacation_prefer – тип отдыха (например, Shopping или Beach\n",
    "holiday), transport_prefer – тип транспорта (например, auto, plane), target – город, в котором проведем отпуск (например, London, Moscow)</p>"
   ],
   "metadata": {
    "collapsed": false
   },
   "id": "2a84ba456ffd3437"
  },
  {
   "cell_type": "code",
   "execution_count": 222,
   "outputs": [],
   "source": [
    "rows = 500\n",
    "with open('data_third.csv', 'w') as f:\n",
    "    file = csv.writer(f)\n",
    "\n",
    "    file.writerow(['salary', 'city', 'age', 'vacation_prefer', 'transport_prefer', 'target'])\n",
    "   \n",
    "    for _ in range(rows):\n",
    "        salary = random.randint(30000, 100000)\n",
    "        city = random.choice(['Bishkek', 'Karakol', 'Osh', 'Kara-Balta', 'Naryn', 'Talas', 'Batken', 'Djalal-Abad', 'Balykchy'])\n",
    "        age = random.randint(30, 65)\n",
    "        vacation_prefer = random.choice(['Beach', 'Shopping', 'At home', 'Walking', 'Sport', 'Mountain', 'Park', 'Diving'])\n",
    "        transport_prefer = random.choice(['auto', 'plane', 'train', 'boat', 'cruise'])\n",
    "        target = random.choice(['Astana', 'Ankara', 'Berlin', 'Tashkent', 'Washington', 'Paris', 'Vien', 'Rome'])\n",
    "    \n",
    "        file.writerow([salary, city, age, vacation_prefer, transport_prefer, target])"
   ],
   "metadata": {
    "collapsed": false,
    "ExecuteTime": {
     "end_time": "2023-12-05T14:49:15.540800Z",
     "start_time": "2023-12-05T14:49:15.515438300Z"
    }
   },
   "id": "eecce8629f461515"
  },
  {
   "cell_type": "markdown",
   "source": [
    "<p>Чтение CSV-файла в DataFrame</p>"
   ],
   "metadata": {
    "collapsed": false
   },
   "id": "ea2b88f3d1e03b7f"
  },
  {
   "cell_type": "code",
   "execution_count": 223,
   "outputs": [],
   "source": [
    "df = pd.read_csv('data_third.csv')\n",
    "data1 = df.copy(deep=True)"
   ],
   "metadata": {
    "collapsed": false,
    "ExecuteTime": {
     "end_time": "2023-12-05T14:49:17.149892300Z",
     "start_time": "2023-12-05T14:49:17.142382700Z"
    }
   },
   "id": "9ef72b2e2cd8dac3"
  },
  {
   "cell_type": "markdown",
   "source": [
    "<p>Проверка наличия пропущенных значений</p>"
   ],
   "metadata": {
    "collapsed": false
   },
   "id": "c01f584a600bed7c"
  },
  {
   "cell_type": "code",
   "execution_count": 224,
   "outputs": [
    {
     "data": {
      "text/plain": "salary              0\ncity                0\nage                 0\nvacation_prefer     0\ntransport_prefer    0\ntarget              0\ndtype: int64"
     },
     "execution_count": 224,
     "metadata": {},
     "output_type": "execute_result"
    }
   ],
   "source": [
    "df.isnull().sum()"
   ],
   "metadata": {
    "collapsed": false,
    "ExecuteTime": {
     "end_time": "2023-12-05T14:49:18.570008200Z",
     "start_time": "2023-12-05T14:49:18.555484700Z"
    }
   },
   "id": "c307159b9192ad7c"
  },
  {
   "cell_type": "markdown",
   "source": [
    "<p>Преобразовать категориальные данные в числовые, используя\n",
    "panadas.get_dummies.</p>"
   ],
   "metadata": {
    "collapsed": false
   },
   "id": "5e956dd25dbb51f0"
  },
  {
   "cell_type": "markdown",
   "source": [
    "1 - True, False"
   ],
   "metadata": {
    "collapsed": false
   },
   "id": "c83cd4f71cd23796"
  },
  {
   "cell_type": "code",
   "execution_count": 225,
   "outputs": [
    {
     "name": "stdout",
     "output_type": "stream",
     "text": [
      "     salary        city  age vacation_prefer transport_prefer      target  \\\n",
      "0     47466     Karakol   42         Walking             auto      Berlin   \n",
      "1     65906    Balykchy   32           Beach            train        Vien   \n",
      "2     89765       Naryn   52           Sport             auto  Washington   \n",
      "3     80953         Osh   58         Walking           cruise      Ankara   \n",
      "4     49740  Kara-Balta   46         At home            plane      Astana   \n",
      "..      ...         ...  ...             ...              ...         ...   \n",
      "495   87552         Osh   32          Diving             boat      Astana   \n",
      "496   74464     Karakol   38           Sport             boat       Paris   \n",
      "497   37619      Batken   37         Walking             boat      Ankara   \n",
      "498   56007     Karakol   56           Sport            train  Washington   \n",
      "499   68979       Naryn   39        Shopping            plane      Astana   \n",
      "\n",
      "     salary  age  city_Batken  city_Bishkek  ...  transport_prefer_cruise  \\\n",
      "0     47466   42        False         False  ...                    False   \n",
      "1     65906   32        False         False  ...                    False   \n",
      "2     89765   52        False         False  ...                    False   \n",
      "3     80953   58        False         False  ...                     True   \n",
      "4     49740   46        False         False  ...                    False   \n",
      "..      ...  ...          ...           ...  ...                      ...   \n",
      "495   87552   32        False         False  ...                    False   \n",
      "496   74464   38        False         False  ...                    False   \n",
      "497   37619   37         True         False  ...                    False   \n",
      "498   56007   56        False         False  ...                    False   \n",
      "499   68979   39        False         False  ...                    False   \n",
      "\n",
      "     transport_prefer_plane  transport_prefer_train  target_Astana  \\\n",
      "0                     False                   False          False   \n",
      "1                     False                    True          False   \n",
      "2                     False                   False          False   \n",
      "3                     False                   False          False   \n",
      "4                      True                   False           True   \n",
      "..                      ...                     ...            ...   \n",
      "495                   False                   False           True   \n",
      "496                   False                   False          False   \n",
      "497                   False                   False          False   \n",
      "498                   False                    True          False   \n",
      "499                    True                   False           True   \n",
      "\n",
      "     target_Berlin  target_Paris  target_Rome  target_Tashkent  target_Vien  \\\n",
      "0             True         False        False            False        False   \n",
      "1            False         False        False            False         True   \n",
      "2            False         False        False            False        False   \n",
      "3            False         False        False            False        False   \n",
      "4            False         False        False            False        False   \n",
      "..             ...           ...          ...              ...          ...   \n",
      "495          False         False        False            False        False   \n",
      "496          False          True        False            False        False   \n",
      "497          False         False        False            False        False   \n",
      "498          False         False        False            False        False   \n",
      "499          False         False        False            False        False   \n",
      "\n",
      "     target_Washington  \n",
      "0                False  \n",
      "1                False  \n",
      "2                 True  \n",
      "3                False  \n",
      "4                False  \n",
      "..                 ...  \n",
      "495              False  \n",
      "496              False  \n",
      "497              False  \n",
      "498               True  \n",
      "499              False  \n",
      "\n",
      "[500 rows x 34 columns]\n"
     ]
    }
   ],
   "source": [
    "df_encoded = df.copy()\n",
    " \n",
    "dummies = pd.get_dummies(df_encoded, columns=['city', 'vacation_prefer', 'transport_prefer', 'target'],  drop_first=True)\n",
    " \n",
    "# Concatenate the dummies to original dataframe\n",
    "merged = pd.concat([df_encoded, dummies], axis='columns')\n",
    "\n",
    "merged.drop(['city', 'vacation_prefer', 'transport_prefer', 'target'], axis='columns')\n",
    "\n",
    "print(merged)"
   ],
   "metadata": {
    "collapsed": false,
    "ExecuteTime": {
     "end_time": "2023-12-05T14:49:23.674210700Z",
     "start_time": "2023-12-05T14:49:23.595477900Z"
    }
   },
   "id": "aa923109a5e4871f"
  },
  {
   "cell_type": "markdown",
   "source": [
    "2 - Числовые данные"
   ],
   "metadata": {
    "collapsed": false
   },
   "id": "229194b3ed0408eb"
  },
  {
   "cell_type": "code",
   "execution_count": 226,
   "outputs": [
    {
     "data": {
      "text/plain": "    salary  city  age  vacation_prefer  transport_prefer  target\n0    47466     5   42                7                 0       2\n1    65906     0   32                1                 4       6\n2    89765     6   52                6                 0       7\n3    80953     7   58                7                 2       0\n4    49740     4   46                0                 3       1\n5    85167     7   59                3                 2       3\n6    78438     6   55                7                 4       6\n7    92459     5   40                1                 1       0\n8    74759     8   52                4                 0       7\n9    59304     8   64                3                 0       0\n10   86613     6   39                2                 3       2\n11   53728     5   61                2                 2       5\n12   81909     3   37                3                 1       1\n13   73005     8   49                0                 2       4\n14   87322     7   45                1                 3       1\n15   92647     7   53                6                 4       4\n16   69581     1   44                6                 2       2\n17   78086     1   46                0                 1       0\n18   40818     7   30                3                 4       1\n19   61986     8   36                2                 0       3\n20   95125     0   56                4                 2       1\n21   49495     0   55                5                 4       6\n22   52095     3   48                3                 3       2\n23   53395     5   55                0                 2       7\n24   91513     0   32                5                 2       3\n25   84424     1   38                5                 4       3\n26   81143     6   44                0                 0       1\n27   38523     6   48                3                 3       7\n28   31230     6   43                3                 4       0\n29   43494     0   63                5                 2       4\n30   50905     2   34                0                 0       5\n31   30400     2   30                4                 3       6\n32   87976     6   50                6                 1       1\n33   77957     3   40                0                 1       1\n34   89883     7   57                3                 0       3\n35   90614     6   37                6                 3       5\n36   78308     6   62                5                 0       3\n37   50973     0   59                3                 4       6\n38   80625     8   35                4                 0       5\n39   80434     2   49                2                 0       6\n40   97108     4   59                1                 4       4\n41   32385     0   47                4                 4       0\n42   39104     0   42                3                 3       2\n43   32984     1   38                5                 1       6\n44   99953     1   53                3                 2       2\n45   94761     2   49                2                 0       5\n46   33712     5   37                3                 0       7\n47   95624     8   56                4                 0       2\n48   93817     3   32                4                 4       5\n49   34031     5   48                4                 3       2",
      "text/html": "<div>\n<style scoped>\n    .dataframe tbody tr th:only-of-type {\n        vertical-align: middle;\n    }\n\n    .dataframe tbody tr th {\n        vertical-align: top;\n    }\n\n    .dataframe thead th {\n        text-align: right;\n    }\n</style>\n<table border=\"1\" class=\"dataframe\">\n  <thead>\n    <tr style=\"text-align: right;\">\n      <th></th>\n      <th>salary</th>\n      <th>city</th>\n      <th>age</th>\n      <th>vacation_prefer</th>\n      <th>transport_prefer</th>\n      <th>target</th>\n    </tr>\n  </thead>\n  <tbody>\n    <tr>\n      <th>0</th>\n      <td>47466</td>\n      <td>5</td>\n      <td>42</td>\n      <td>7</td>\n      <td>0</td>\n      <td>2</td>\n    </tr>\n    <tr>\n      <th>1</th>\n      <td>65906</td>\n      <td>0</td>\n      <td>32</td>\n      <td>1</td>\n      <td>4</td>\n      <td>6</td>\n    </tr>\n    <tr>\n      <th>2</th>\n      <td>89765</td>\n      <td>6</td>\n      <td>52</td>\n      <td>6</td>\n      <td>0</td>\n      <td>7</td>\n    </tr>\n    <tr>\n      <th>3</th>\n      <td>80953</td>\n      <td>7</td>\n      <td>58</td>\n      <td>7</td>\n      <td>2</td>\n      <td>0</td>\n    </tr>\n    <tr>\n      <th>4</th>\n      <td>49740</td>\n      <td>4</td>\n      <td>46</td>\n      <td>0</td>\n      <td>3</td>\n      <td>1</td>\n    </tr>\n    <tr>\n      <th>5</th>\n      <td>85167</td>\n      <td>7</td>\n      <td>59</td>\n      <td>3</td>\n      <td>2</td>\n      <td>3</td>\n    </tr>\n    <tr>\n      <th>6</th>\n      <td>78438</td>\n      <td>6</td>\n      <td>55</td>\n      <td>7</td>\n      <td>4</td>\n      <td>6</td>\n    </tr>\n    <tr>\n      <th>7</th>\n      <td>92459</td>\n      <td>5</td>\n      <td>40</td>\n      <td>1</td>\n      <td>1</td>\n      <td>0</td>\n    </tr>\n    <tr>\n      <th>8</th>\n      <td>74759</td>\n      <td>8</td>\n      <td>52</td>\n      <td>4</td>\n      <td>0</td>\n      <td>7</td>\n    </tr>\n    <tr>\n      <th>9</th>\n      <td>59304</td>\n      <td>8</td>\n      <td>64</td>\n      <td>3</td>\n      <td>0</td>\n      <td>0</td>\n    </tr>\n    <tr>\n      <th>10</th>\n      <td>86613</td>\n      <td>6</td>\n      <td>39</td>\n      <td>2</td>\n      <td>3</td>\n      <td>2</td>\n    </tr>\n    <tr>\n      <th>11</th>\n      <td>53728</td>\n      <td>5</td>\n      <td>61</td>\n      <td>2</td>\n      <td>2</td>\n      <td>5</td>\n    </tr>\n    <tr>\n      <th>12</th>\n      <td>81909</td>\n      <td>3</td>\n      <td>37</td>\n      <td>3</td>\n      <td>1</td>\n      <td>1</td>\n    </tr>\n    <tr>\n      <th>13</th>\n      <td>73005</td>\n      <td>8</td>\n      <td>49</td>\n      <td>0</td>\n      <td>2</td>\n      <td>4</td>\n    </tr>\n    <tr>\n      <th>14</th>\n      <td>87322</td>\n      <td>7</td>\n      <td>45</td>\n      <td>1</td>\n      <td>3</td>\n      <td>1</td>\n    </tr>\n    <tr>\n      <th>15</th>\n      <td>92647</td>\n      <td>7</td>\n      <td>53</td>\n      <td>6</td>\n      <td>4</td>\n      <td>4</td>\n    </tr>\n    <tr>\n      <th>16</th>\n      <td>69581</td>\n      <td>1</td>\n      <td>44</td>\n      <td>6</td>\n      <td>2</td>\n      <td>2</td>\n    </tr>\n    <tr>\n      <th>17</th>\n      <td>78086</td>\n      <td>1</td>\n      <td>46</td>\n      <td>0</td>\n      <td>1</td>\n      <td>0</td>\n    </tr>\n    <tr>\n      <th>18</th>\n      <td>40818</td>\n      <td>7</td>\n      <td>30</td>\n      <td>3</td>\n      <td>4</td>\n      <td>1</td>\n    </tr>\n    <tr>\n      <th>19</th>\n      <td>61986</td>\n      <td>8</td>\n      <td>36</td>\n      <td>2</td>\n      <td>0</td>\n      <td>3</td>\n    </tr>\n    <tr>\n      <th>20</th>\n      <td>95125</td>\n      <td>0</td>\n      <td>56</td>\n      <td>4</td>\n      <td>2</td>\n      <td>1</td>\n    </tr>\n    <tr>\n      <th>21</th>\n      <td>49495</td>\n      <td>0</td>\n      <td>55</td>\n      <td>5</td>\n      <td>4</td>\n      <td>6</td>\n    </tr>\n    <tr>\n      <th>22</th>\n      <td>52095</td>\n      <td>3</td>\n      <td>48</td>\n      <td>3</td>\n      <td>3</td>\n      <td>2</td>\n    </tr>\n    <tr>\n      <th>23</th>\n      <td>53395</td>\n      <td>5</td>\n      <td>55</td>\n      <td>0</td>\n      <td>2</td>\n      <td>7</td>\n    </tr>\n    <tr>\n      <th>24</th>\n      <td>91513</td>\n      <td>0</td>\n      <td>32</td>\n      <td>5</td>\n      <td>2</td>\n      <td>3</td>\n    </tr>\n    <tr>\n      <th>25</th>\n      <td>84424</td>\n      <td>1</td>\n      <td>38</td>\n      <td>5</td>\n      <td>4</td>\n      <td>3</td>\n    </tr>\n    <tr>\n      <th>26</th>\n      <td>81143</td>\n      <td>6</td>\n      <td>44</td>\n      <td>0</td>\n      <td>0</td>\n      <td>1</td>\n    </tr>\n    <tr>\n      <th>27</th>\n      <td>38523</td>\n      <td>6</td>\n      <td>48</td>\n      <td>3</td>\n      <td>3</td>\n      <td>7</td>\n    </tr>\n    <tr>\n      <th>28</th>\n      <td>31230</td>\n      <td>6</td>\n      <td>43</td>\n      <td>3</td>\n      <td>4</td>\n      <td>0</td>\n    </tr>\n    <tr>\n      <th>29</th>\n      <td>43494</td>\n      <td>0</td>\n      <td>63</td>\n      <td>5</td>\n      <td>2</td>\n      <td>4</td>\n    </tr>\n    <tr>\n      <th>30</th>\n      <td>50905</td>\n      <td>2</td>\n      <td>34</td>\n      <td>0</td>\n      <td>0</td>\n      <td>5</td>\n    </tr>\n    <tr>\n      <th>31</th>\n      <td>30400</td>\n      <td>2</td>\n      <td>30</td>\n      <td>4</td>\n      <td>3</td>\n      <td>6</td>\n    </tr>\n    <tr>\n      <th>32</th>\n      <td>87976</td>\n      <td>6</td>\n      <td>50</td>\n      <td>6</td>\n      <td>1</td>\n      <td>1</td>\n    </tr>\n    <tr>\n      <th>33</th>\n      <td>77957</td>\n      <td>3</td>\n      <td>40</td>\n      <td>0</td>\n      <td>1</td>\n      <td>1</td>\n    </tr>\n    <tr>\n      <th>34</th>\n      <td>89883</td>\n      <td>7</td>\n      <td>57</td>\n      <td>3</td>\n      <td>0</td>\n      <td>3</td>\n    </tr>\n    <tr>\n      <th>35</th>\n      <td>90614</td>\n      <td>6</td>\n      <td>37</td>\n      <td>6</td>\n      <td>3</td>\n      <td>5</td>\n    </tr>\n    <tr>\n      <th>36</th>\n      <td>78308</td>\n      <td>6</td>\n      <td>62</td>\n      <td>5</td>\n      <td>0</td>\n      <td>3</td>\n    </tr>\n    <tr>\n      <th>37</th>\n      <td>50973</td>\n      <td>0</td>\n      <td>59</td>\n      <td>3</td>\n      <td>4</td>\n      <td>6</td>\n    </tr>\n    <tr>\n      <th>38</th>\n      <td>80625</td>\n      <td>8</td>\n      <td>35</td>\n      <td>4</td>\n      <td>0</td>\n      <td>5</td>\n    </tr>\n    <tr>\n      <th>39</th>\n      <td>80434</td>\n      <td>2</td>\n      <td>49</td>\n      <td>2</td>\n      <td>0</td>\n      <td>6</td>\n    </tr>\n    <tr>\n      <th>40</th>\n      <td>97108</td>\n      <td>4</td>\n      <td>59</td>\n      <td>1</td>\n      <td>4</td>\n      <td>4</td>\n    </tr>\n    <tr>\n      <th>41</th>\n      <td>32385</td>\n      <td>0</td>\n      <td>47</td>\n      <td>4</td>\n      <td>4</td>\n      <td>0</td>\n    </tr>\n    <tr>\n      <th>42</th>\n      <td>39104</td>\n      <td>0</td>\n      <td>42</td>\n      <td>3</td>\n      <td>3</td>\n      <td>2</td>\n    </tr>\n    <tr>\n      <th>43</th>\n      <td>32984</td>\n      <td>1</td>\n      <td>38</td>\n      <td>5</td>\n      <td>1</td>\n      <td>6</td>\n    </tr>\n    <tr>\n      <th>44</th>\n      <td>99953</td>\n      <td>1</td>\n      <td>53</td>\n      <td>3</td>\n      <td>2</td>\n      <td>2</td>\n    </tr>\n    <tr>\n      <th>45</th>\n      <td>94761</td>\n      <td>2</td>\n      <td>49</td>\n      <td>2</td>\n      <td>0</td>\n      <td>5</td>\n    </tr>\n    <tr>\n      <th>46</th>\n      <td>33712</td>\n      <td>5</td>\n      <td>37</td>\n      <td>3</td>\n      <td>0</td>\n      <td>7</td>\n    </tr>\n    <tr>\n      <th>47</th>\n      <td>95624</td>\n      <td>8</td>\n      <td>56</td>\n      <td>4</td>\n      <td>0</td>\n      <td>2</td>\n    </tr>\n    <tr>\n      <th>48</th>\n      <td>93817</td>\n      <td>3</td>\n      <td>32</td>\n      <td>4</td>\n      <td>4</td>\n      <td>5</td>\n    </tr>\n    <tr>\n      <th>49</th>\n      <td>34031</td>\n      <td>5</td>\n      <td>48</td>\n      <td>4</td>\n      <td>3</td>\n      <td>2</td>\n    </tr>\n  </tbody>\n</table>\n</div>"
     },
     "execution_count": 226,
     "metadata": {},
     "output_type": "execute_result"
    }
   ],
   "source": [
    "from sklearn.preprocessing import LabelEncoder\n",
    "\n",
    "label_encoder = LabelEncoder()\n",
    "\n",
    "for column in ['city', 'vacation_prefer', 'transport_prefer', 'target']:\n",
    "    df[column] = label_encoder.fit_transform(df[column])\n",
    "\n",
    "df.head(50)"
   ],
   "metadata": {
    "collapsed": false,
    "ExecuteTime": {
     "end_time": "2023-12-05T14:49:32.560373700Z",
     "start_time": "2023-12-05T14:49:32.509406500Z"
    }
   },
   "id": "8ee8e11dcd0bb35e"
  },
  {
   "cell_type": "markdown",
   "source": [
    "Выделить обучающую выборку и тестовую выборку (X_train, y_train, X_test, y_test)"
   ],
   "metadata": {
    "collapsed": false
   },
   "id": "da7dff91a1bbc1f8"
  },
  {
   "cell_type": "code",
   "execution_count": 227,
   "outputs": [
    {
     "name": "stdout",
     "output_type": "stream",
     "text": [
      "Размер обучающей выборки: (400, 5)\n",
      "Размер тестовой выборки: (100, 5)\n"
     ]
    }
   ],
   "source": [
    "from sklearn.model_selection import train_test_split\n",
    "\n",
    "# Разделение на обучающую и тестовую выборку\n",
    "X = df.drop('target', axis=1)\n",
    "y = df['target'].values\n",
    "\n",
    "X_train, X_test, y_train, y_test = train_test_split(X, y, test_size=0.2, random_state=42)\n",
    "\n",
    "# Вывод размеров обучающей и тестовой выборок\n",
    "print(f\"Размер обучающей выборки: {X_train.shape}\")\n",
    "print(f\"Размер тестовой выборки: {X_test.shape}\")\n"
   ],
   "metadata": {
    "collapsed": false,
    "ExecuteTime": {
     "end_time": "2023-12-05T14:49:34.177874900Z",
     "start_time": "2023-12-05T14:49:34.130304300Z"
    }
   },
   "id": "e38e5e7cd4cab278"
  },
  {
   "cell_type": "markdown",
   "source": [
    "Выбрать модель классификатор "
   ],
   "metadata": {
    "collapsed": false
   },
   "id": "d6324a9caa724bc"
  },
  {
   "cell_type": "code",
   "execution_count": 228,
   "outputs": [
    {
     "data": {
      "text/plain": "LogisticRegression(C=0.01, random_state=42)",
      "text/html": "<style>#sk-container-id-11 {color: black;}#sk-container-id-11 pre{padding: 0;}#sk-container-id-11 div.sk-toggleable {background-color: white;}#sk-container-id-11 label.sk-toggleable__label {cursor: pointer;display: block;width: 100%;margin-bottom: 0;padding: 0.3em;box-sizing: border-box;text-align: center;}#sk-container-id-11 label.sk-toggleable__label-arrow:before {content: \"▸\";float: left;margin-right: 0.25em;color: #696969;}#sk-container-id-11 label.sk-toggleable__label-arrow:hover:before {color: black;}#sk-container-id-11 div.sk-estimator:hover label.sk-toggleable__label-arrow:before {color: black;}#sk-container-id-11 div.sk-toggleable__content {max-height: 0;max-width: 0;overflow: hidden;text-align: left;background-color: #f0f8ff;}#sk-container-id-11 div.sk-toggleable__content pre {margin: 0.2em;color: black;border-radius: 0.25em;background-color: #f0f8ff;}#sk-container-id-11 input.sk-toggleable__control:checked~div.sk-toggleable__content {max-height: 200px;max-width: 100%;overflow: auto;}#sk-container-id-11 input.sk-toggleable__control:checked~label.sk-toggleable__label-arrow:before {content: \"▾\";}#sk-container-id-11 div.sk-estimator input.sk-toggleable__control:checked~label.sk-toggleable__label {background-color: #d4ebff;}#sk-container-id-11 div.sk-label input.sk-toggleable__control:checked~label.sk-toggleable__label {background-color: #d4ebff;}#sk-container-id-11 input.sk-hidden--visually {border: 0;clip: rect(1px 1px 1px 1px);clip: rect(1px, 1px, 1px, 1px);height: 1px;margin: -1px;overflow: hidden;padding: 0;position: absolute;width: 1px;}#sk-container-id-11 div.sk-estimator {font-family: monospace;background-color: #f0f8ff;border: 1px dotted black;border-radius: 0.25em;box-sizing: border-box;margin-bottom: 0.5em;}#sk-container-id-11 div.sk-estimator:hover {background-color: #d4ebff;}#sk-container-id-11 div.sk-parallel-item::after {content: \"\";width: 100%;border-bottom: 1px solid gray;flex-grow: 1;}#sk-container-id-11 div.sk-label:hover label.sk-toggleable__label {background-color: #d4ebff;}#sk-container-id-11 div.sk-serial::before {content: \"\";position: absolute;border-left: 1px solid gray;box-sizing: border-box;top: 0;bottom: 0;left: 50%;z-index: 0;}#sk-container-id-11 div.sk-serial {display: flex;flex-direction: column;align-items: center;background-color: white;padding-right: 0.2em;padding-left: 0.2em;position: relative;}#sk-container-id-11 div.sk-item {position: relative;z-index: 1;}#sk-container-id-11 div.sk-parallel {display: flex;align-items: stretch;justify-content: center;background-color: white;position: relative;}#sk-container-id-11 div.sk-item::before, #sk-container-id-11 div.sk-parallel-item::before {content: \"\";position: absolute;border-left: 1px solid gray;box-sizing: border-box;top: 0;bottom: 0;left: 50%;z-index: -1;}#sk-container-id-11 div.sk-parallel-item {display: flex;flex-direction: column;z-index: 1;position: relative;background-color: white;}#sk-container-id-11 div.sk-parallel-item:first-child::after {align-self: flex-end;width: 50%;}#sk-container-id-11 div.sk-parallel-item:last-child::after {align-self: flex-start;width: 50%;}#sk-container-id-11 div.sk-parallel-item:only-child::after {width: 0;}#sk-container-id-11 div.sk-dashed-wrapped {border: 1px dashed gray;margin: 0 0.4em 0.5em 0.4em;box-sizing: border-box;padding-bottom: 0.4em;background-color: white;}#sk-container-id-11 div.sk-label label {font-family: monospace;font-weight: bold;display: inline-block;line-height: 1.2em;}#sk-container-id-11 div.sk-label-container {text-align: center;}#sk-container-id-11 div.sk-container {/* jupyter's `normalize.less` sets `[hidden] { display: none; }` but bootstrap.min.css set `[hidden] { display: none !important; }` so we also need the `!important` here to be able to override the default hidden behavior on the sphinx rendered scikit-learn.org. See: https://github.com/scikit-learn/scikit-learn/issues/21755 */display: inline-block !important;position: relative;}#sk-container-id-11 div.sk-text-repr-fallback {display: none;}</style><div id=\"sk-container-id-11\" class=\"sk-top-container\"><div class=\"sk-text-repr-fallback\"><pre>LogisticRegression(C=0.01, random_state=42)</pre><b>In a Jupyter environment, please rerun this cell to show the HTML representation or trust the notebook. <br />On GitHub, the HTML representation is unable to render, please try loading this page with nbviewer.org.</b></div><div class=\"sk-container\" hidden><div class=\"sk-item\"><div class=\"sk-estimator sk-toggleable\"><input class=\"sk-toggleable__control sk-hidden--visually\" id=\"sk-estimator-id-11\" type=\"checkbox\" checked><label for=\"sk-estimator-id-11\" class=\"sk-toggleable__label sk-toggleable__label-arrow\">LogisticRegression</label><div class=\"sk-toggleable__content\"><pre>LogisticRegression(C=0.01, random_state=42)</pre></div></div></div></div></div>"
     },
     "execution_count": 228,
     "metadata": {},
     "output_type": "execute_result"
    }
   ],
   "source": [
    "from sklearn.linear_model import LogisticRegression\n",
    "\n",
    "# Создание модели логистической регрессии с указанными гиперпараметрами\n",
    "logreg = LogisticRegression(C=0.01, random_state=42)\n",
    "\n",
    "# Обучение модели на обучающих данных\n",
    "logreg.fit(X_train, y_train)"
   ],
   "metadata": {
    "collapsed": false,
    "ExecuteTime": {
     "end_time": "2023-12-05T14:50:01.886231700Z",
     "start_time": "2023-12-05T14:50:01.854358900Z"
    }
   },
   "id": "bf2f3b210b19eb5"
  },
  {
   "cell_type": "code",
   "execution_count": 229,
   "outputs": [
    {
     "name": "stdout",
     "output_type": "stream",
     "text": [
      "Training set score: 0.142\n",
      "Test set score: 0.130\n"
     ]
    }
   ],
   "source": [
    "print('Training set score: {:.3f}'.format(logreg.score(X_train, y_train)))\n",
    "\n",
    "print('Test set score: {:.3f}'.format(logreg.score(X_test, y_test)))"
   ],
   "metadata": {
    "collapsed": false,
    "ExecuteTime": {
     "end_time": "2023-12-05T14:50:02.233221300Z",
     "start_time": "2023-12-05T14:50:02.225212500Z"
    }
   },
   "id": "a79450b4dcd330d3"
  },
  {
   "cell_type": "code",
   "execution_count": 230,
   "outputs": [
    {
     "name": "stdout",
     "output_type": "stream",
     "text": [
      "Accuracy on Test Data: 0.13\n"
     ]
    }
   ],
   "source": [
    "from sklearn.metrics import accuracy_score, confusion_matrix\n",
    "\n",
    "# Прогноз на тестовой выборке\n",
    "y_pred = logreg.predict(X_test)\n",
    "\n",
    "# Оценка модели на тестовой выборке\n",
    "accuracy = accuracy_score(y_test, y_pred)\n",
    "print('Accuracy on Test Data: {:.2f}'.format(accuracy))"
   ],
   "metadata": {
    "collapsed": false,
    "ExecuteTime": {
     "end_time": "2023-12-05T14:50:02.610759100Z",
     "start_time": "2023-12-05T14:50:02.579411600Z"
    }
   },
   "id": "bec6cf1959b31333"
  },
  {
   "cell_type": "code",
   "execution_count": 231,
   "outputs": [
    {
     "data": {
      "text/plain": "<Figure size 800x600 with 1 Axes>",
      "image/png": "[encoded data removed]"
     },
     "metadata": {},
     "output_type": "display_data"
    }
   ],
   "source": [
    "from matplotlib import pyplot as plt\n",
    "import seaborn as sns\n",
    "# Вычисление матрицы ошибок\n",
    "cm = confusion_matrix(y_test, y_pred)\n",
    "\n",
    "# Визуализация матрицы ошибок\n",
    "plt.figure(figsize=(8, 6))\n",
    "sns.heatmap(cm, annot=True, fmt='d', cmap='Blues', cbar=False)\n",
    "plt.title('Матрица ошибок (Confusion Matrix)')\n",
    "plt.xlabel('Предсказанные значения')\n",
    "plt.ylabel('Фактические значения')\n",
    "plt.show()"
   ],
   "metadata": {
    "collapsed": false,
    "ExecuteTime": {
     "end_time": "2023-12-05T14:50:03.494129400Z",
     "start_time": "2023-12-05T14:50:03.162194600Z"
    }
   },
   "id": "b77f0b9b07d29d00"
  },
  {
   "cell_type": "code",
   "execution_count": 232,
   "outputs": [],
   "source": [
    "from sklearn.model_selection import cross_val_score\n",
    "\n",
    "scores = cross_val_score(logreg, X, y, cv=5, scoring='accuracy')"
   ],
   "metadata": {
    "collapsed": false,
    "ExecuteTime": {
     "end_time": "2023-12-05T14:50:04.281660900Z",
     "start_time": "2023-12-05T14:50:04.202265Z"
    }
   },
   "id": "61371af929d44ae8"
  },
  {
   "cell_type": "code",
   "execution_count": 233,
   "outputs": [
    {
     "name": "stdout",
     "output_type": "stream",
     "text": [
      "Средняя точность модели: 0.122\n"
     ]
    }
   ],
   "source": [
    "# Вывод средней точности\n",
    "print('Средняя точность модели: {:.3f}'.format(scores.mean()))"
   ],
   "metadata": {
    "collapsed": false,
    "ExecuteTime": {
     "end_time": "2023-12-05T14:50:04.833083400Z",
     "start_time": "2023-12-05T14:50:04.828843800Z"
    }
   },
   "id": "961c6947cd0732b3"
  },
  {
   "cell_type": "code",
   "execution_count": 234,
   "outputs": [
    {
     "name": "stdout",
     "output_type": "stream",
     "text": [
      "Значения правильности перекрестной проверки: \n",
      "[0.14 0.1  0.11 0.15 0.09]\n",
      "Значения правильности перекрестной проверки: \n",
      "[0.13772455 0.13173653 0.11445783]\n"
     ]
    }
   ],
   "source": [
    "from sklearn.model_selection import KFold\n",
    "\n",
    "kfold = KFold(n_splits=5)\n",
    "\n",
    "print(\"Значения правильности перекрестной проверки: \\n{}\".format(cross_val_score(logreg, X, y, cv=kfold)))\n",
    "\n",
    "kfold3 = KFold(n_splits=3)\n",
    "print(\"Значения правильности перекрестной проверки: \\n{}\".format(cross_val_score(logreg, X, y, cv=kfold3)))"
   ],
   "metadata": {
    "collapsed": false,
    "ExecuteTime": {
     "end_time": "2023-12-05T14:50:05.274711Z",
     "start_time": "2023-12-05T14:50:05.199866300Z"
    }
   },
   "id": "9f38a20b2c5bd51"
  },
  {
   "cell_type": "code",
   "execution_count": 236,
   "outputs": [],
   "source": [
    "from sklearn.model_selection import train_test_split\n",
    "from sklearn.preprocessing import MinMaxScaler\n",
    "from sklearn.svm import SVC\n",
    "from sklearn.metrics import accuracy_score"
   ],
   "metadata": {
    "collapsed": false,
    "ExecuteTime": {
     "end_time": "2023-12-05T14:50:23.963719700Z",
     "start_time": "2023-12-05T14:50:23.954365Z"
    }
   },
   "id": "814ff5d10031a7c3"
  },
  {
   "cell_type": "code",
   "execution_count": 237,
   "outputs": [
    {
     "name": "stdout",
     "output_type": "stream",
     "text": [
      "model accuracy: 0.12\n"
     ]
    }
   ],
   "source": [
    "X = df.drop('target', axis=1)\n",
    "y = df['target']\n",
    "\n",
    "# normalize\n",
    "scaler = MinMaxScaler()\n",
    "X_scaled = scaler.fit_transform(X)\n",
    "\n",
    "X_train, X_test, y_train, y_test = train_test_split(X_scaled, y, random_state=0)\n",
    "\n",
    "svm = SVC()\n",
    "svm.fit(X_train, y_train)\n",
    "\n",
    "y_pred = svm.predict(X_test)\n",
    "\n",
    "accuracy = accuracy_score(y_test, y_pred)\n",
    "print('model accuracy:', accuracy)"
   ],
   "metadata": {
    "collapsed": false,
    "ExecuteTime": {
     "end_time": "2023-12-05T14:50:25.251965600Z",
     "start_time": "2023-12-05T14:50:25.218585900Z"
    }
   },
   "id": "4d807a63f776abf7"
  },
  {
   "cell_type": "code",
   "execution_count": 238,
   "outputs": [
    {
     "name": "stdout",
     "output_type": "stream",
     "text": [
      "[[3 4 3 4 1 0 1 2]\n",
      " [4 2 6 3 0 0 2 2]\n",
      " [5 2 6 1 1 1 1 0]\n",
      " [3 0 4 1 0 4 0 0]\n",
      " [5 0 5 3 0 1 1 2]\n",
      " [5 1 5 0 1 0 2 1]\n",
      " [2 2 4 1 0 1 3 2]\n",
      " [2 0 4 3 0 1 2 0]]\n"
     ]
    },
    {
     "data": {
      "text/plain": "<Figure size 640x480 with 2 Axes>",
      "image/png": "[encoded data removed]"
     },
     "metadata": {},
     "output_type": "display_data"
    }
   ],
   "source": [
    "from sklearn.metrics import confusion_matrix\n",
    "import seaborn as sns\n",
    "import matplotlib.pyplot as plt\n",
    "\n",
    "confusion = confusion_matrix(y_test, y_pred)\n",
    "print(confusion)\n",
    "\n",
    "sns.heatmap(confusion, annot=True)\n",
    "\n",
    "plt.xlabel('predicted')\n",
    "plt.ylabel('actual')\n",
    "plt.show()"
   ],
   "metadata": {
    "collapsed": false,
    "ExecuteTime": {
     "end_time": "2023-12-05T14:50:31.535435300Z",
     "start_time": "2023-12-05T14:50:31.130150200Z"
    }
   },
   "id": "a8c60bcf45b3fbbe"
  },
  {
   "cell_type": "code",
   "execution_count": 239,
   "outputs": [
    {
     "name": "stdout",
     "output_type": "stream",
     "text": [
      "best SVM score: 0.144\n",
      "best parameters: {'gamma': 100, 'C': 0.001}\n"
     ]
    }
   ],
   "source": [
    "from sklearn.svm import SVC\n",
    "\n",
    "best_svc = 0\n",
    "for gamma in [0.001, 0.01, 0.1, 1, 10, 100]:\n",
    "    for C in [0.001, 0.01, 0.1, 1, 10, 100]:\n",
    "        svm = SVC(gamma=gamma, C=C)\n",
    "        svm.fit(X_train, y_train)\n",
    "        s_score = svm.score(X_test, y_test)\n",
    "\n",
    "        if s_score > best_svc:\n",
    "            best_svc = s_score\n",
    "            best_combo = {'gamma': gamma, 'C': C}\n",
    "\n",
    "print('best SVM score: {}'.format(best_svc))\n",
    "print('best parameters: {}'.format(best_combo))"
   ],
   "metadata": {
    "collapsed": false,
    "ExecuteTime": {
     "end_time": "2023-12-05T14:50:55.383196900Z",
     "start_time": "2023-12-05T14:50:54.483163500Z"
    }
   },
   "id": "45793a98a8166ed6"
  },
  {
   "cell_type": "code",
   "execution_count": 241,
   "outputs": [
    {
     "name": "stdout",
     "output_type": "stream",
     "text": [
      "test score: 0.08\n",
      "best params:  {'C': 10, 'gamma': 0.001}\n",
      "best score:  0.1733333333333333\n",
      "whole args view : SVC(C=10, gamma=0.001)\n"
     ]
    },
    {
     "data": {
      "text/plain": "   mean_fit_time  std_fit_time  mean_score_time  std_score_time param_C  \\\n0       0.017444      0.003425         0.006251        0.007656   0.001   \n1       0.011896      0.005143         0.013528        0.007885   0.001   \n2       0.015424      0.000411         0.005331        0.006691   0.001   \n3       0.016727      0.010465         0.011268        0.006120   0.001   \n4       0.017629      0.008727         0.012832        0.006272   0.001   \n\n  param_gamma                        params  split0_test_score  \\\n0       0.001  {'C': 0.001, 'gamma': 0.001}           0.146667   \n1        0.01   {'C': 0.001, 'gamma': 0.01}           0.133333   \n2         0.1    {'C': 0.001, 'gamma': 0.1}           0.133333   \n3           1      {'C': 0.001, 'gamma': 1}           0.133333   \n4          10     {'C': 0.001, 'gamma': 10}           0.133333   \n\n   split1_test_score  split2_test_score  split3_test_score  split4_test_score  \\\n0           0.160000           0.133333           0.146667           0.160000   \n1           0.160000           0.146667           0.146667           0.160000   \n2           0.160000           0.146667           0.146667           0.133333   \n3           0.133333           0.146667           0.133333           0.120000   \n4           0.133333           0.146667           0.146667           0.146667   \n\n   mean_test_score  std_test_score  rank_test_score  \n0         0.149333        0.009978                4  \n1         0.149333        0.009978                4  \n2         0.144000        0.009978               14  \n3         0.133333        0.008433               34  \n4         0.141333        0.006532               17  ",
      "text/html": "<div>\n<style scoped>\n    .dataframe tbody tr th:only-of-type {\n        vertical-align: middle;\n    }\n\n    .dataframe tbody tr th {\n        vertical-align: top;\n    }\n\n    .dataframe thead th {\n        text-align: right;\n    }\n</style>\n<table border=\"1\" class=\"dataframe\">\n  <thead>\n    <tr style=\"text-align: right;\">\n      <th></th>\n      <th>mean_fit_time</th>\n      <th>std_fit_time</th>\n      <th>mean_score_time</th>\n      <th>std_score_time</th>\n      <th>param_C</th>\n      <th>param_gamma</th>\n      <th>params</th>\n      <th>split0_test_score</th>\n      <th>split1_test_score</th>\n      <th>split2_test_score</th>\n      <th>split3_test_score</th>\n      <th>split4_test_score</th>\n      <th>mean_test_score</th>\n      <th>std_test_score</th>\n      <th>rank_test_score</th>\n    </tr>\n  </thead>\n  <tbody>\n    <tr>\n      <th>0</th>\n      <td>0.017444</td>\n      <td>0.003425</td>\n      <td>0.006251</td>\n      <td>0.007656</td>\n      <td>0.001</td>\n      <td>0.001</td>\n      <td>{'C': 0.001, 'gamma': 0.001}</td>\n      <td>0.146667</td>\n      <td>0.160000</td>\n      <td>0.133333</td>\n      <td>0.146667</td>\n      <td>0.160000</td>\n      <td>0.149333</td>\n      <td>0.009978</td>\n      <td>4</td>\n    </tr>\n    <tr>\n      <th>1</th>\n      <td>0.011896</td>\n      <td>0.005143</td>\n      <td>0.013528</td>\n      <td>0.007885</td>\n      <td>0.001</td>\n      <td>0.01</td>\n      <td>{'C': 0.001, 'gamma': 0.01}</td>\n      <td>0.133333</td>\n      <td>0.160000</td>\n      <td>0.146667</td>\n      <td>0.146667</td>\n      <td>0.160000</td>\n      <td>0.149333</td>\n      <td>0.009978</td>\n      <td>4</td>\n    </tr>\n    <tr>\n      <th>2</th>\n      <td>0.015424</td>\n      <td>0.000411</td>\n      <td>0.005331</td>\n      <td>0.006691</td>\n      <td>0.001</td>\n      <td>0.1</td>\n      <td>{'C': 0.001, 'gamma': 0.1}</td>\n      <td>0.133333</td>\n      <td>0.160000</td>\n      <td>0.146667</td>\n      <td>0.146667</td>\n      <td>0.133333</td>\n      <td>0.144000</td>\n      <td>0.009978</td>\n      <td>14</td>\n    </tr>\n    <tr>\n      <th>3</th>\n      <td>0.016727</td>\n      <td>0.010465</td>\n      <td>0.011268</td>\n      <td>0.006120</td>\n      <td>0.001</td>\n      <td>1</td>\n      <td>{'C': 0.001, 'gamma': 1}</td>\n      <td>0.133333</td>\n      <td>0.133333</td>\n      <td>0.146667</td>\n      <td>0.133333</td>\n      <td>0.120000</td>\n      <td>0.133333</td>\n      <td>0.008433</td>\n      <td>34</td>\n    </tr>\n    <tr>\n      <th>4</th>\n      <td>0.017629</td>\n      <td>0.008727</td>\n      <td>0.012832</td>\n      <td>0.006272</td>\n      <td>0.001</td>\n      <td>10</td>\n      <td>{'C': 0.001, 'gamma': 10}</td>\n      <td>0.133333</td>\n      <td>0.133333</td>\n      <td>0.146667</td>\n      <td>0.146667</td>\n      <td>0.146667</td>\n      <td>0.141333</td>\n      <td>0.006532</td>\n      <td>17</td>\n    </tr>\n  </tbody>\n</table>\n</div>"
     },
     "metadata": {},
     "output_type": "display_data"
    }
   ],
   "source": [
    "from sklearn.model_selection import GridSearchCV\n",
    "\n",
    "grid1 = {'gamma': [0.001, 0.01, 0.1, 1, 10, 100], 'C': [0.001, 0.01, 0.1, 1, 10, 100]}\n",
    "gs1 = GridSearchCV(SVC(), grid1, cv=5)\n",
    "X_train, X_test, y_train, y_test = train_test_split(X, y, random_state=0)\n",
    "gs1.fit(X_train, y_train)\n",
    "score1 = gs1.score(X_test, y_test)\n",
    "\n",
    "print('test score:', score1)\n",
    "print('best params: ', gs1.best_params_)\n",
    "print('best score: ', gs1.best_score_)\n",
    "print('whole args view :', gs1.best_estimator_)\n",
    "\n",
    "results1 = pd.DataFrame(gs1.cv_results_)\n",
    "display(results1.head())"
   ],
   "metadata": {
    "collapsed": false,
    "ExecuteTime": {
     "end_time": "2023-12-05T14:51:25.083185200Z",
     "start_time": "2023-12-05T14:51:20.027167900Z"
    }
   },
   "id": "5db20cc8306a569c"
  },
  {
   "cell_type": "code",
   "execution_count": 242,
   "outputs": [
    {
     "data": {
      "text/plain": "<Figure size 640x480 with 2 Axes>",
      "image/png": "[encoded data removed]"
     },
     "metadata": {},
     "output_type": "display_data"
    }
   ],
   "source": [
    "import seaborn as sns\n",
    "import matplotlib.pyplot as plt\n",
    "import numpy as np\n",
    "\n",
    "sc = np.array(results1.mean_test_score).reshape(6, 6)\n",
    "ax = sns.heatmap(sc, annot=True, xticklabels=grid1['gamma'], yticklabels=grid1['C'], cmap='hsv')\n",
    "ax.set(xlabel='gamma', ylabel='C')\n",
    "ax.xaxis.tick_top()\n",
    "\n",
    "plt.show()"
   ],
   "metadata": {
    "collapsed": false,
    "ExecuteTime": {
     "end_time": "2023-12-05T14:51:31.810458200Z",
     "start_time": "2023-12-05T14:51:31.497877200Z"
    }
   },
   "id": "e6dc530d43f059e9"
  },
  {
   "cell_type": "code",
   "execution_count": 243,
   "outputs": [
    {
     "name": "stdout",
     "output_type": "stream",
     "text": [
      "              precision    recall  f1-score   support\n",
      "\n",
      "           0       0.10      0.17      0.13        18\n",
      "           1       0.18      0.11      0.13        19\n",
      "           2       0.16      0.35      0.22        17\n",
      "           3       0.06      0.08      0.07        12\n",
      "           4       0.00      0.00      0.00        17\n",
      "           5       0.00      0.00      0.00        15\n",
      "           6       0.25      0.20      0.22        15\n",
      "           7       0.00      0.00      0.00        12\n",
      "\n",
      "    accuracy                           0.12       125\n",
      "   macro avg       0.09      0.11      0.10       125\n",
      "weighted avg       0.10      0.12      0.10       125\n"
     ]
    }
   ],
   "source": [
    "from sklearn.metrics import classification_report\n",
    "\n",
    "print(classification_report(y_test, y_pred))"
   ],
   "metadata": {
    "collapsed": false,
    "ExecuteTime": {
     "end_time": "2023-12-05T14:51:42.724628600Z",
     "start_time": "2023-12-05T14:51:42.602324300Z"
    }
   },
   "id": "8032fad865df49e0"
  },
  {
   "cell_type": "markdown",
   "source": [
    "В результате проведенной работы была создана модель классификатора для определения предпочтений человека по проведению отпуска в различных городах. Для этого был создан собственный датасет из 500 строк с категориальными данными, такими как зарплата, город проживания, возраст, предпочтения отпуска и транспорта, а также целевая переменная - город, в котором предпочитается провести отпуск.\n",
    "\n",
    "Для преобразования категориальных данных в числовые использовалась техника one-hot encoding с помощью pandas.get_dummies. Затем данные были разделены на обучающую и тестовую выборки, и была выбрана модель логистической регрессии для обучения. Оценка модели показала низкую точность на тестовых данных (Accuracy on Test Data: 0.13), что может свидетельствовать о недостаточной сложности модели.\n",
    "\n",
    "Далее были проведены оценки модели с использованием кросс-валидации и подбора параметров модели. \n",
    "\n",
    "После этого была применена модель Support Vector Machine (SVM) с использованием GridSearchCV для подбора оптимальных параметров. Несмотря на эти усилия, точность модели осталась невысокой (model accuracy: 0.12).\n",
    "\n",
    "Объем данных оказался недостаточным для построения более точной модели и правильности прогнозирования, так как я создала датасет с 500-строками, используя разные методы, постралась улучшить работу обучения и прогноза."
   ],
   "metadata": {
    "collapsed": false
   },
   "id": "5ce0e2e6d6f6038"
  },
  {
   "cell_type": "code",
   "execution_count": null,
   "outputs": [],
   "source": [],
   "metadata": {
    "collapsed": false
   },
   "id": "4d176c1f981a9b7"
  }
 ],
 "metadata": {
  "kernelspec": {
   "display_name": "Python 3",
   "language": "python",
   "name": "python3"
  },
  "language_info": {
   "codemirror_mode": {
    "name": "ipython",
    "version": 2
   },
   "file_extension": ".py",
   "mimetype": "text/x-python",
   "name": "python",
   "nbconvert_exporter": "python",
   "pygments_lexer": "ipython2",
   "version": "2.7.6"
  }
 },
 "nbformat": 4,
 "nbformat_minor": 5
}
