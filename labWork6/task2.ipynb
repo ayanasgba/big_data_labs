{
 "cells": [
  {
   "cell_type": "markdown",
   "source": [
    "<h1>Лабораторная работа №6.\n",
    "Оценка и улучшение качества модели.</h1>\n",
    "<p>Cross Validation</p>"
   ],
   "metadata": {
    "collapsed": false
   },
   "id": "dbd7ddf09f763af4"
  },
  {
   "cell_type": "code",
   "execution_count": 1,
   "outputs": [
    {
     "name": "stdout",
     "output_type": "stream",
     "text": [
      "cross-validation scores (5 folds): [0.98245614 0.98245614 0.97368421 0.97368421 0.99115044]\n",
      "the average cross-validation score (5 folds): 0.98\n"
     ]
    }
   ],
   "source": [
    "from sklearn.datasets import load_breast_cancer\n",
    "from sklearn.preprocessing import StandardScaler\n",
    "from sklearn.linear_model import LogisticRegression\n",
    "from sklearn.model_selection import cross_val_score\n",
    "import numpy as np\n",
    "\n",
    "breast_cancer = load_breast_cancer()\n",
    "X = breast_cancer.data\n",
    "y = breast_cancer.target\n",
    "\n",
    "# normalizing data\n",
    "scaler = StandardScaler()\n",
    "X_scaled = scaler.fit_transform(X)\n",
    "\n",
    "logreg = LogisticRegression(max_iter=10000)\n",
    "scores = cross_val_score(logreg, X_scaled, y, cv=5)\n",
    "\n",
    "print('cross-validation scores (5 folds): {}'.format(scores))\n",
    "print('the average cross-validation score (5 folds): {:.2f}'.format(np.mean(scores)))"
   ],
   "metadata": {
    "collapsed": false,
    "ExecuteTime": {
     "end_time": "2023-12-05T14:37:41.418770500Z",
     "start_time": "2023-12-05T14:37:41.018192600Z"
    }
   },
   "id": "initial_id"
  },
  {
   "cell_type": "code",
   "execution_count": 2,
   "outputs": [
    {
     "data": {
      "text/plain": "   fit_time  score_time  test_score  train_score\n0  0.000000    0.015991    0.982456     0.991209\n1  0.015635    0.000000    0.982456     0.989011\n2  0.015625    0.000000    0.973684     0.989011\n3  0.015623    0.000000    0.973684     0.991209\n4  0.015626    0.000000    0.991150     0.986842",
      "text/html": "<div>\n<style scoped>\n    .dataframe tbody tr th:only-of-type {\n        vertical-align: middle;\n    }\n\n    .dataframe tbody tr th {\n        vertical-align: top;\n    }\n\n    .dataframe thead th {\n        text-align: right;\n    }\n</style>\n<table border=\"1\" class=\"dataframe\">\n  <thead>\n    <tr style=\"text-align: right;\">\n      <th></th>\n      <th>fit_time</th>\n      <th>score_time</th>\n      <th>test_score</th>\n      <th>train_score</th>\n    </tr>\n  </thead>\n  <tbody>\n    <tr>\n      <th>0</th>\n      <td>0.000000</td>\n      <td>0.015991</td>\n      <td>0.982456</td>\n      <td>0.991209</td>\n    </tr>\n    <tr>\n      <th>1</th>\n      <td>0.015635</td>\n      <td>0.000000</td>\n      <td>0.982456</td>\n      <td>0.989011</td>\n    </tr>\n    <tr>\n      <th>2</th>\n      <td>0.015625</td>\n      <td>0.000000</td>\n      <td>0.973684</td>\n      <td>0.989011</td>\n    </tr>\n    <tr>\n      <th>3</th>\n      <td>0.015623</td>\n      <td>0.000000</td>\n      <td>0.973684</td>\n      <td>0.991209</td>\n    </tr>\n    <tr>\n      <th>4</th>\n      <td>0.015626</td>\n      <td>0.000000</td>\n      <td>0.991150</td>\n      <td>0.986842</td>\n    </tr>\n  </tbody>\n</table>\n</div>"
     },
     "metadata": {},
     "output_type": "display_data"
    },
    {
     "name": "stdout",
     "output_type": "stream",
     "text": [
      "mean time and score:\n",
      " fit_time       0.012502\n",
      "score_time     0.003198\n",
      "test_score     0.980686\n",
      "train_score    0.989456\n",
      "dtype: float64\n"
     ]
    }
   ],
   "source": [
    "from sklearn.model_selection import cross_validate\n",
    "import pandas as pd\n",
    "\n",
    "res = cross_validate(logreg, X_scaled, y, cv=5, return_train_score=True)\n",
    "\n",
    "res_df = pd.DataFrame(res)\n",
    "display(res_df)\n",
    "print('mean time and score:\\n', res_df.mean())"
   ],
   "metadata": {
    "collapsed": false,
    "ExecuteTime": {
     "end_time": "2023-12-05T14:37:43.308768900Z",
     "start_time": "2023-12-05T14:37:43.210817800Z"
    }
   },
   "id": "cde48e2759b72010"
  },
  {
   "cell_type": "code",
   "execution_count": 3,
   "outputs": [
    {
     "name": "stdout",
     "output_type": "stream",
     "text": [
      "breast_cancer targets:\n",
      "[0 0 0 0 0 0 0 0 0 0 0 0 0 0 0 0 0 0 0 1 1 1 0 0 0 0 0 0 0 0 0 0 0 0 0 0 0\n",
      " 1 0 0 0 0 0 0 0 0 1 0 1 1 1 1 1 0 0 1 0 0 1 1 1 1 0 1 0 0 1 1 1 1 0 1 0 0\n",
      " 1 0 1 0 0 1 1 1 0 0 1 0 0 0 1 1 1 0 1 1 0 0 1 1 1 0 0 1 1 1 1 0 1 1 0 1 1\n",
      " 1 1 1 1 1 1 0 0 0 1 0 0 1 1 1 0 0 1 0 1 0 0 1 0 0 1 1 0 1 1 0 1 1 1 1 0 1\n",
      " 1 1 1 1 1 1 1 1 0 1 1 1 1 0 0 1 0 1 1 0 0 1 1 0 0 1 1 1 1 0 1 1 0 0 0 1 0\n",
      " 1 0 1 1 1 0 1 1 0 0 1 0 0 0 0 1 0 0 0 1 0 1 0 1 1 0 1 0 0 0 0 1 1 0 0 1 1\n",
      " 1 0 1 1 1 1 1 0 0 1 1 0 1 1 0 0 1 0 1 1 1 1 0 1 1 1 1 1 0 1 0 0 0 0 0 0 0\n",
      " 0 0 0 0 0 0 0 1 1 1 1 1 1 0 1 0 1 1 0 1 1 0 1 0 0 1 1 1 1 1 1 1 1 1 1 1 1\n",
      " 1 0 1 1 0 1 0 1 1 1 1 1 1 1 1 1 1 1 1 1 1 0 1 1 1 0 1 0 1 1 1 1 0 0 0 1 1\n",
      " 1 1 0 1 0 1 0 1 1 1 0 1 1 1 1 1 1 1 0 0 0 1 1 1 1 1 1 1 1 1 1 1 0 0 1 0 0\n",
      " 0 1 0 0 1 1 1 1 1 0 1 1 1 1 1 0 1 1 1 0 1 1 0 0 1 1 1 1 1 1 0 1 1 1 1 1 1\n",
      " 1 0 1 1 1 1 1 0 1 1 0 1 1 1 1 1 1 1 1 1 1 1 1 0 1 0 0 1 0 1 1 1 1 1 0 1 1\n",
      " 0 1 0 1 1 0 1 0 1 1 1 1 1 1 1 1 0 0 1 1 1 1 1 1 0 1 1 1 1 1 1 1 1 1 1 0 1\n",
      " 1 1 1 1 1 1 0 1 0 1 1 0 1 1 1 1 1 0 0 1 0 1 0 1 1 1 1 1 0 1 1 0 1 0 1 0 0\n",
      " 1 1 1 0 1 1 1 1 1 1 1 1 1 1 1 0 1 0 0 1 1 1 1 1 1 1 1 1 1 1 1 1 1 1 1 1 1\n",
      " 1 1 1 1 1 1 1 0 0 0 0 0 0 1]\n"
     ]
    }
   ],
   "source": [
    "print('breast_cancer targets:\\n{}'.format(y))"
   ],
   "metadata": {
    "collapsed": false,
    "ExecuteTime": {
     "end_time": "2023-12-05T14:37:44.016613300Z",
     "start_time": "2023-12-05T14:37:44.001075200Z"
    }
   },
   "id": "c2c0720236949ef8"
  },
  {
   "cell_type": "code",
   "execution_count": 4,
   "outputs": [
    {
     "name": "stdout",
     "output_type": "stream",
     "text": [
      "cross-validation scores (3 folds): [0.97894737 0.97368421 0.97354497]\n",
      "the average cross-validation score (3 folds): 0.98\n"
     ]
    }
   ],
   "source": [
    "from sklearn.model_selection import StratifiedKFold\n",
    "\n",
    "skf = StratifiedKFold(n_splits=3)\n",
    "skf.get_n_splits(X, y)\n",
    "\n",
    "bcl = LogisticRegression()\n",
    "skf_scores = cross_val_score(bcl, X_scaled, y, cv=skf)\n",
    "\n",
    "print('cross-validation scores (3 folds): {}'.format(skf_scores))\n",
    "print('the average cross-validation score (3 folds): {:.2f}'.format(np.mean(skf_scores)))"
   ],
   "metadata": {
    "collapsed": false,
    "ExecuteTime": {
     "end_time": "2023-12-05T14:37:44.578649500Z",
     "start_time": "2023-12-05T14:37:44.516679400Z"
    }
   },
   "id": "b4b8cbc74d5423b8"
  },
  {
   "cell_type": "code",
   "execution_count": 5,
   "outputs": [
    {
     "name": "stdout",
     "output_type": "stream",
     "text": [
      "accuracy value of cross-validation:\n",
      "[0.96315789 0.97894737 0.97354497]\n"
     ]
    }
   ],
   "source": [
    "from sklearn.model_selection import KFold\n",
    "\n",
    "k_fold = KFold(n_splits=3)\n",
    "\n",
    "print('accuracy value of cross-validation:\\n{}'.format(cross_val_score(logreg, X_scaled, y, cv=k_fold)))"
   ],
   "metadata": {
    "collapsed": false,
    "ExecuteTime": {
     "end_time": "2023-12-05T14:37:44.957309800Z",
     "start_time": "2023-12-05T14:37:44.877779Z"
    }
   },
   "id": "54550a5c6ae9ab6a"
  },
  {
   "cell_type": "code",
   "execution_count": 6,
   "outputs": [
    {
     "name": "stdout",
     "output_type": "stream",
     "text": [
      "accuracy value of cross-validation:\n",
      "[0.97894737 0.95789474 0.98941799]\n"
     ]
    }
   ],
   "source": [
    "fold_k = KFold(n_splits=3, shuffle=True, random_state=0)\n",
    "print('accuracy value of cross-validation:\\n{}'.format(cross_val_score(logreg, X_scaled, y, cv=fold_k)))"
   ],
   "metadata": {
    "collapsed": false,
    "ExecuteTime": {
     "end_time": "2023-12-05T14:37:45.249309900Z",
     "start_time": "2023-12-05T14:37:45.195365600Z"
    }
   },
   "id": "bcb489d56ee97efe"
  },
  {
   "cell_type": "code",
   "execution_count": 7,
   "outputs": [
    {
     "name": "stdout",
     "output_type": "stream",
     "text": [
      "number of iterations:  569\n",
      "the average cross validation score: 0.9789103690685413\n"
     ]
    }
   ],
   "source": [
    "from sklearn.model_selection import LeaveOneOut\n",
    "\n",
    "loo = LeaveOneOut()\n",
    "loo_scores = cross_val_score(logreg, X_scaled, y, cv=loo)\n",
    "\n",
    "print('number of iterations: ', len(loo_scores))\n",
    "print('the average cross validation score: {}'.format(np.mean(loo_scores)))"
   ],
   "metadata": {
    "collapsed": false,
    "ExecuteTime": {
     "end_time": "2023-12-05T14:37:53.350573600Z",
     "start_time": "2023-12-05T14:37:45.421910600Z"
    }
   },
   "id": "c4d093dbc2f3e230"
  },
  {
   "cell_type": "code",
   "execution_count": 8,
   "outputs": [
    {
     "name": "stdout",
     "output_type": "stream",
     "text": [
      "accuracy values of shuffle-split cross-validation:\n",
      "[0.98947368 0.98245614 0.9754386  0.98596491 0.97894737 0.97192982\n",
      " 0.9754386  0.97192982 0.96140351 0.9754386 ]\n",
      "the average cross validation score: 0.98\n"
     ]
    }
   ],
   "source": [
    "from sklearn.model_selection import ShuffleSplit\n",
    "\n",
    "shuffle_split = ShuffleSplit(test_size=.5, train_size=.5, n_splits=10)\n",
    "\n",
    "shuffle_scores = cross_val_score(logreg, X_scaled, y, cv=shuffle_split)\n",
    "print('accuracy values of shuffle-split cross-validation:\\n{}'.format(shuffle_scores))\n",
    "print('the average cross validation score: {:.2f}'.format(np.mean(shuffle_scores)))"
   ],
   "metadata": {
    "collapsed": false,
    "ExecuteTime": {
     "end_time": "2023-12-05T14:37:53.420080600Z",
     "start_time": "2023-12-05T14:37:53.350573600Z"
    }
   },
   "id": "333144b137c640c"
  },
  {
   "cell_type": "markdown",
   "source": [
    "<p>Grid Search</p>"
   ],
   "metadata": {
    "collapsed": false
   },
   "id": "1e6f7030f65ec4a2"
  },
  {
   "cell_type": "code",
   "execution_count": 9,
   "outputs": [
    {
     "name": "stdout",
     "output_type": "stream",
     "text": [
      "train set shape: 426, test train shape: 143\n",
      "C:  0.001 penalty:  l1 accuracy: 0.916\n",
      "C:  0.001 penalty:  l2 accuracy: 0.944\n",
      "C:  0.1 penalty:  l1 accuracy: 0.944\n",
      "C:  0.1 penalty:  l2 accuracy: 0.937\n",
      "C:  1 penalty:  l1 accuracy: 0.937\n",
      "C:  1 penalty:  l2 accuracy: 0.937\n",
      "C:  10 penalty:  l1 accuracy: 0.937\n",
      "C:  10 penalty:  l2 accuracy: 0.937\n",
      "the best accuracy value: 0.944\n",
      "the best parameter values: {'C': 0.001, 'penalty': 'l2'}\n"
     ]
    }
   ],
   "source": [
    "from sklearn.model_selection import train_test_split\n",
    "\n",
    "cancer_X = breast_cancer.data\n",
    "cancer_y = breast_cancer.target\n",
    "\n",
    "X_train, X_test, y_train, y_test = train_test_split(cancer_X, cancer_y, random_state=0)\n",
    "print('train set shape: {}, test train shape: {}'.format(X_train.shape[0], X_test.shape[0]))\n",
    "\n",
    "best_score = 0\n",
    "for C in [0.001, 0.1, 1, 10]:\n",
    "    # l1 regularization - lasso, l2 reg - ridge\n",
    "    for penalty in ['l1', 'l2']:\n",
    "        logr = LogisticRegression(C=C, penalty=penalty, solver='saga', max_iter=10000)\n",
    "        logr.fit(X_train, y_train)\n",
    "        l_score = logr.score(X_test, y_test)\n",
    "        print('C: ', C, 'penalty: ', penalty, 'accuracy: {:.3f}'.format(l_score))\n",
    "\n",
    "        if l_score > best_score:\n",
    "            best_score = l_score\n",
    "            best_parameters = {'C': C, 'penalty': penalty}\n",
    "\n",
    "print('the best accuracy value: {:.3f}'.format(best_score))\n",
    "print('the best parameter values: {}'.format(best_parameters))"
   ],
   "metadata": {
    "collapsed": false,
    "ExecuteTime": {
     "end_time": "2023-12-05T14:38:03.271172300Z",
     "start_time": "2023-12-05T14:37:57.685785900Z"
    }
   },
   "id": "6e430182432612e"
  },
  {
   "cell_type": "code",
   "execution_count": 10,
   "outputs": [
    {
     "name": "stdout",
     "output_type": "stream",
     "text": [
      "best SVM score:  0.9300699300699301\n",
      "best parameters:  (0.001, 1)\n"
     ]
    }
   ],
   "source": [
    "from sklearn.svm import SVC\n",
    "\n",
    "best_svc = 0\n",
    "for gamma in [0.001, 0.01, 0.1, 1, 10, 100]:\n",
    "    for C in [0.001, 0.01, 0.1, 1, 10, 100]:\n",
    "        svm = SVC(gamma=gamma, C=C)\n",
    "        svm.fit(X_train, y_train)\n",
    "        s_score = svm.score(X_test, y_test)\n",
    "\n",
    "        if s_score > best_svc:\n",
    "            best_svc = s_score\n",
    "            best_svc_parameters = (gamma, C)\n",
    "\n",
    "print('best SVM score: ', best_svc)\n",
    "print('best parameters: ', best_svc_parameters)"
   ],
   "metadata": {
    "collapsed": false,
    "ExecuteTime": {
     "end_time": "2023-12-05T14:38:04.267458300Z",
     "start_time": "2023-12-05T14:38:03.271172300Z"
    }
   },
   "id": "6413ad677710d475"
  },
  {
   "cell_type": "code",
   "execution_count": 11,
   "outputs": [
    {
     "name": "stdout",
     "output_type": "stream",
     "text": [
      "best dt score:  0.9370629370629371\n",
      "best dt max_depth param:  2\n"
     ]
    }
   ],
   "source": [
    "from sklearn.tree import DecisionTreeClassifier\n",
    "\n",
    "best_dt = 0\n",
    "for max_depth in [1, 2, 3, 5, 7, 9, 11]:\n",
    "    dt = DecisionTreeClassifier(max_depth=max_depth, random_state=0)\n",
    "    dt.fit(X_train, y_train)\n",
    "    d_score = dt.score(X_test, y_test)\n",
    "\n",
    "    if d_score > best_dt:\n",
    "        best_dt = d_score\n",
    "        best_dt_param = max_depth\n",
    "\n",
    "print('best dt score: ', best_dt)\n",
    "print('best dt max_depth param: ', best_dt_param)"
   ],
   "metadata": {
    "collapsed": false,
    "ExecuteTime": {
     "end_time": "2023-12-05T14:38:06.761661500Z",
     "start_time": "2023-12-05T14:38:06.626216900Z"
    }
   },
   "id": "253ce76980a30618"
  },
  {
   "cell_type": "code",
   "execution_count": 12,
   "outputs": [
    {
     "name": "stdout",
     "output_type": "stream",
     "text": [
      "test score: 0.9440559440559441\n",
      "best params:  {'C': 0.001, 'penalty': 'l2'}\n",
      "best score:  0.9130506155950752\n",
      "whole args view : LogisticRegression(C=0.001, max_iter=10000, solver='saga')\n"
     ]
    },
    {
     "data": {
      "text/plain": "   mean_fit_time  std_fit_time  mean_score_time  std_score_time param_C  \\\n0       0.449104      0.133295         0.000000        0.000000   0.001   \n1       0.391421      0.036023         0.000000        0.000000   0.001   \n2       0.590789      0.037907         0.000000        0.000000     0.1   \n3       0.517192      0.023120         0.000000        0.000000     0.1   \n4       0.558954      0.029887         0.003126        0.006252       1   \n\n  param_penalty                         params  split0_test_score  \\\n0            l1  {'C': 0.001, 'penalty': 'l1'}           0.965116   \n1            l2  {'C': 0.001, 'penalty': 'l2'}           0.953488   \n2            l1    {'C': 0.1, 'penalty': 'l1'}           0.953488   \n3            l2    {'C': 0.1, 'penalty': 'l2'}           0.953488   \n4            l1      {'C': 1, 'penalty': 'l1'}           0.953488   \n\n   split1_test_score  split2_test_score  split3_test_score  split4_test_score  \\\n0           0.858824           0.894118           0.941176           0.905882   \n1           0.870588           0.929412           0.894118           0.917647   \n2           0.858824           0.929412           0.894118           0.917647   \n3           0.858824           0.917647           0.894118           0.917647   \n4           0.858824           0.917647           0.894118           0.917647   \n\n   mean_test_score  std_test_score  rank_test_score  \n0         0.913023        0.037020                2  \n1         0.913051        0.028585                1  \n2         0.910698        0.032235                3  \n3         0.908345        0.031195                4  \n4         0.908345        0.031195                4  ",
      "text/html": "<div>\n<style scoped>\n    .dataframe tbody tr th:only-of-type {\n        vertical-align: middle;\n    }\n\n    .dataframe tbody tr th {\n        vertical-align: top;\n    }\n\n    .dataframe thead th {\n        text-align: right;\n    }\n</style>\n<table border=\"1\" class=\"dataframe\">\n  <thead>\n    <tr style=\"text-align: right;\">\n      <th></th>\n      <th>mean_fit_time</th>\n      <th>std_fit_time</th>\n      <th>mean_score_time</th>\n      <th>std_score_time</th>\n      <th>param_C</th>\n      <th>param_penalty</th>\n      <th>params</th>\n      <th>split0_test_score</th>\n      <th>split1_test_score</th>\n      <th>split2_test_score</th>\n      <th>split3_test_score</th>\n      <th>split4_test_score</th>\n      <th>mean_test_score</th>\n      <th>std_test_score</th>\n      <th>rank_test_score</th>\n    </tr>\n  </thead>\n  <tbody>\n    <tr>\n      <th>0</th>\n      <td>0.449104</td>\n      <td>0.133295</td>\n      <td>0.000000</td>\n      <td>0.000000</td>\n      <td>0.001</td>\n      <td>l1</td>\n      <td>{'C': 0.001, 'penalty': 'l1'}</td>\n      <td>0.965116</td>\n      <td>0.858824</td>\n      <td>0.894118</td>\n      <td>0.941176</td>\n      <td>0.905882</td>\n      <td>0.913023</td>\n      <td>0.037020</td>\n      <td>2</td>\n    </tr>\n    <tr>\n      <th>1</th>\n      <td>0.391421</td>\n      <td>0.036023</td>\n      <td>0.000000</td>\n      <td>0.000000</td>\n      <td>0.001</td>\n      <td>l2</td>\n      <td>{'C': 0.001, 'penalty': 'l2'}</td>\n      <td>0.953488</td>\n      <td>0.870588</td>\n      <td>0.929412</td>\n      <td>0.894118</td>\n      <td>0.917647</td>\n      <td>0.913051</td>\n      <td>0.028585</td>\n      <td>1</td>\n    </tr>\n    <tr>\n      <th>2</th>\n      <td>0.590789</td>\n      <td>0.037907</td>\n      <td>0.000000</td>\n      <td>0.000000</td>\n      <td>0.1</td>\n      <td>l1</td>\n      <td>{'C': 0.1, 'penalty': 'l1'}</td>\n      <td>0.953488</td>\n      <td>0.858824</td>\n      <td>0.929412</td>\n      <td>0.894118</td>\n      <td>0.917647</td>\n      <td>0.910698</td>\n      <td>0.032235</td>\n      <td>3</td>\n    </tr>\n    <tr>\n      <th>3</th>\n      <td>0.517192</td>\n      <td>0.023120</td>\n      <td>0.000000</td>\n      <td>0.000000</td>\n      <td>0.1</td>\n      <td>l2</td>\n      <td>{'C': 0.1, 'penalty': 'l2'}</td>\n      <td>0.953488</td>\n      <td>0.858824</td>\n      <td>0.917647</td>\n      <td>0.894118</td>\n      <td>0.917647</td>\n      <td>0.908345</td>\n      <td>0.031195</td>\n      <td>4</td>\n    </tr>\n    <tr>\n      <th>4</th>\n      <td>0.558954</td>\n      <td>0.029887</td>\n      <td>0.003126</td>\n      <td>0.006252</td>\n      <td>1</td>\n      <td>l1</td>\n      <td>{'C': 1, 'penalty': 'l1'}</td>\n      <td>0.953488</td>\n      <td>0.858824</td>\n      <td>0.917647</td>\n      <td>0.894118</td>\n      <td>0.917647</td>\n      <td>0.908345</td>\n      <td>0.031195</td>\n      <td>4</td>\n    </tr>\n  </tbody>\n</table>\n</div>"
     },
     "metadata": {},
     "output_type": "display_data"
    }
   ],
   "source": [
    "from sklearn.model_selection import GridSearchCV\n",
    "\n",
    "lr_grid = {'C': [0.001, 0.1, 1, 10], 'penalty': ['l1', 'l2']}\n",
    "grid_search_lr = GridSearchCV(LogisticRegression(solver='saga', max_iter=10000), lr_grid)\n",
    "X_train, X_test, y_train, y_test = train_test_split(X, y, random_state=0)\n",
    "grid_search_lr.fit(X_train, y_train)\n",
    "score_gs = grid_search_lr.score(X_test, y_test)\n",
    "\n",
    "print('test score:', score_gs)\n",
    "print('best params: ', grid_search_lr.best_params_)\n",
    "print('best score: ', grid_search_lr.best_score_)\n",
    "print('whole args view :', grid_search_lr.best_estimator_)\n",
    "\n",
    "results = pd.DataFrame(grid_search_lr.cv_results_)\n",
    "display(results.head())"
   ],
   "metadata": {
    "collapsed": false,
    "ExecuteTime": {
     "end_time": "2023-12-05T14:38:28.927150Z",
     "start_time": "2023-12-05T14:38:07.308062800Z"
    }
   },
   "id": "5cbc38e8bb8d401f"
  },
  {
   "cell_type": "code",
   "execution_count": 13,
   "outputs": [
    {
     "name": "stdout",
     "output_type": "stream",
     "text": [
      "test score: 0.9300699300699301\n",
      "best params:  {'C': 1, 'gamma': 0.001}\n",
      "best score:  0.9223803009575923\n",
      "whole args view : SVC(C=1, gamma=0.001)\n"
     ]
    },
    {
     "data": {
      "text/plain": "   mean_fit_time  std_fit_time  mean_score_time  std_score_time param_C  \\\n0       0.007141      0.007260         0.000000        0.000000   0.001   \n1       0.009517      0.007775         0.003050        0.006099   0.001   \n2       0.015712      0.001155         0.000000        0.000000   0.001   \n3       0.009405      0.009094         0.012005        0.006079   0.001   \n4       0.014295      0.007867         0.004628        0.006223   0.001   \n\n  param_gamma                        params  split0_test_score  \\\n0       0.001  {'C': 0.001, 'gamma': 0.001}           0.627907   \n1        0.01   {'C': 0.001, 'gamma': 0.01}           0.627907   \n2         0.1    {'C': 0.001, 'gamma': 0.1}           0.627907   \n3           1      {'C': 0.001, 'gamma': 1}           0.627907   \n4          10     {'C': 0.001, 'gamma': 10}           0.627907   \n\n   split1_test_score  split2_test_score  split3_test_score  split4_test_score  \\\n0           0.635294           0.623529           0.623529           0.623529   \n1           0.635294           0.623529           0.623529           0.623529   \n2           0.635294           0.623529           0.623529           0.623529   \n3           0.635294           0.623529           0.623529           0.623529   \n4           0.635294           0.623529           0.623529           0.623529   \n\n   mean_test_score  std_test_score  rank_test_score  \n0         0.626758        0.004593                6  \n1         0.626758        0.004593                6  \n2         0.626758        0.004593                6  \n3         0.626758        0.004593                6  \n4         0.626758        0.004593                6  ",
      "text/html": "<div>\n<style scoped>\n    .dataframe tbody tr th:only-of-type {\n        vertical-align: middle;\n    }\n\n    .dataframe tbody tr th {\n        vertical-align: top;\n    }\n\n    .dataframe thead th {\n        text-align: right;\n    }\n</style>\n<table border=\"1\" class=\"dataframe\">\n  <thead>\n    <tr style=\"text-align: right;\">\n      <th></th>\n      <th>mean_fit_time</th>\n      <th>std_fit_time</th>\n      <th>mean_score_time</th>\n      <th>std_score_time</th>\n      <th>param_C</th>\n      <th>param_gamma</th>\n      <th>params</th>\n      <th>split0_test_score</th>\n      <th>split1_test_score</th>\n      <th>split2_test_score</th>\n      <th>split3_test_score</th>\n      <th>split4_test_score</th>\n      <th>mean_test_score</th>\n      <th>std_test_score</th>\n      <th>rank_test_score</th>\n    </tr>\n  </thead>\n  <tbody>\n    <tr>\n      <th>0</th>\n      <td>0.007141</td>\n      <td>0.007260</td>\n      <td>0.000000</td>\n      <td>0.000000</td>\n      <td>0.001</td>\n      <td>0.001</td>\n      <td>{'C': 0.001, 'gamma': 0.001}</td>\n      <td>0.627907</td>\n      <td>0.635294</td>\n      <td>0.623529</td>\n      <td>0.623529</td>\n      <td>0.623529</td>\n      <td>0.626758</td>\n      <td>0.004593</td>\n      <td>6</td>\n    </tr>\n    <tr>\n      <th>1</th>\n      <td>0.009517</td>\n      <td>0.007775</td>\n      <td>0.003050</td>\n      <td>0.006099</td>\n      <td>0.001</td>\n      <td>0.01</td>\n      <td>{'C': 0.001, 'gamma': 0.01}</td>\n      <td>0.627907</td>\n      <td>0.635294</td>\n      <td>0.623529</td>\n      <td>0.623529</td>\n      <td>0.623529</td>\n      <td>0.626758</td>\n      <td>0.004593</td>\n      <td>6</td>\n    </tr>\n    <tr>\n      <th>2</th>\n      <td>0.015712</td>\n      <td>0.001155</td>\n      <td>0.000000</td>\n      <td>0.000000</td>\n      <td>0.001</td>\n      <td>0.1</td>\n      <td>{'C': 0.001, 'gamma': 0.1}</td>\n      <td>0.627907</td>\n      <td>0.635294</td>\n      <td>0.623529</td>\n      <td>0.623529</td>\n      <td>0.623529</td>\n      <td>0.626758</td>\n      <td>0.004593</td>\n      <td>6</td>\n    </tr>\n    <tr>\n      <th>3</th>\n      <td>0.009405</td>\n      <td>0.009094</td>\n      <td>0.012005</td>\n      <td>0.006079</td>\n      <td>0.001</td>\n      <td>1</td>\n      <td>{'C': 0.001, 'gamma': 1}</td>\n      <td>0.627907</td>\n      <td>0.635294</td>\n      <td>0.623529</td>\n      <td>0.623529</td>\n      <td>0.623529</td>\n      <td>0.626758</td>\n      <td>0.004593</td>\n      <td>6</td>\n    </tr>\n    <tr>\n      <th>4</th>\n      <td>0.014295</td>\n      <td>0.007867</td>\n      <td>0.004628</td>\n      <td>0.006223</td>\n      <td>0.001</td>\n      <td>10</td>\n      <td>{'C': 0.001, 'gamma': 10}</td>\n      <td>0.627907</td>\n      <td>0.635294</td>\n      <td>0.623529</td>\n      <td>0.623529</td>\n      <td>0.623529</td>\n      <td>0.626758</td>\n      <td>0.004593</td>\n      <td>6</td>\n    </tr>\n  </tbody>\n</table>\n</div>"
     },
     "metadata": {},
     "output_type": "display_data"
    }
   ],
   "source": [
    "from sklearn.model_selection import GridSearchCV\n",
    "\n",
    "grid1 = {'gamma': [0.001, 0.01, 0.1, 1, 10, 100], 'C': [0.001, 0.01, 0.1, 1, 10, 100]}\n",
    "gs1 = GridSearchCV(SVC(), grid1, cv=5)\n",
    "X_train, X_test, y_train, y_test = train_test_split(X, y, random_state=0)\n",
    "gs1.fit(X_train, y_train)\n",
    "score1 = gs1.score(X_test, y_test)\n",
    "\n",
    "print('test score:', score1)\n",
    "print('best params: ', gs1.best_params_)\n",
    "print('best score: ', gs1.best_score_)\n",
    "print('whole args view :', gs1.best_estimator_)\n",
    "\n",
    "results1 = pd.DataFrame(gs1.cv_results_)\n",
    "display(results1.head())"
   ],
   "metadata": {
    "collapsed": false,
    "ExecuteTime": {
     "end_time": "2023-12-05T14:38:33.109094600Z",
     "start_time": "2023-12-05T14:38:30.247212800Z"
    }
   },
   "id": "c19e5b704cb7d1a9"
  },
  {
   "cell_type": "code",
   "execution_count": 14,
   "outputs": [
    {
     "data": {
      "text/plain": "<Figure size 640x480 with 2 Axes>",
      "image/png": "[encoded data removed]"
     },
     "metadata": {},
     "output_type": "display_data"
    }
   ],
   "source": [
    "import seaborn as sns\n",
    "import matplotlib.pyplot as plt\n",
    "\n",
    "sc = np.array(results1.mean_test_score).reshape(6, 6)\n",
    "ax = sns.heatmap(sc, annot=True, xticklabels=grid1['gamma'], yticklabels=grid1['C'], cmap='hsv')\n",
    "ax.set(xlabel='gamma', ylabel='C')\n",
    "ax.xaxis.tick_top()\n",
    "\n",
    "plt.show()"
   ],
   "metadata": {
    "collapsed": false,
    "ExecuteTime": {
     "end_time": "2023-12-05T14:38:34.305860200Z",
     "start_time": "2023-12-05T14:38:33.993523900Z"
    }
   },
   "id": "259e822c49b5d24b"
  },
  {
   "cell_type": "code",
   "execution_count": 16,
   "outputs": [
    {
     "name": "stdout",
     "output_type": "stream",
     "text": [
      "train set shape: 319, validation set shape: 107, test set shape: 143\n",
      "best validation score:  0.8598130841121495\n",
      "best params:  {'C': 0.1, 'penalty': 'l1'}\n",
      "best score:  0.9436507936507936\n",
      "accuracy on test set with best params:  0.9440559440559441\n"
     ]
    }
   ],
   "source": [
    "X_trainval, X_test, y_trainval, y_test = train_test_split(X, y, random_state=0)\n",
    "X_train, X_valid, y_train, y_valid = train_test_split(X_trainval, y_trainval, random_state=0)\n",
    "print('train set shape: {}, validation set shape: {}, test set shape: {}'.format(X_train.shape[0], X_valid.shape[0],\n",
    "                                                                                 X_test.shape[0]))\n",
    "\n",
    "grid_lr = GridSearchCV(LogisticRegression(solver='saga', max_iter=10000), lr_grid)\n",
    "grid_lr.fit(X_train, y_train)\n",
    "validation_score = grid_lr.score(X_valid, y_valid)\n",
    "\n",
    "print('best validation score: ', validation_score)\n",
    "print('best params: ', grid_lr.best_params_)\n",
    "print('best score: ', grid_lr.best_score_)\n",
    "\n",
    "new_logreg = LogisticRegression(solver='saga', max_iter=10000, **grid_lr.best_params_)\n",
    "new_logreg.fit(X_trainval, y_trainval)\n",
    "test_score = new_logreg.score(X_test, y_test)\n",
    "\n",
    "print('accuracy on test set with best params: ', test_score)"
   ],
   "metadata": {
    "collapsed": false,
    "ExecuteTime": {
     "end_time": "2023-12-05T14:39:25.553726300Z",
     "start_time": "2023-12-05T14:39:08.239496200Z"
    }
   },
   "id": "123b962b7cbd15e8"
  },
  {
   "cell_type": "code",
   "execution_count": 17,
   "outputs": [
    {
     "name": "stdout",
     "output_type": "stream",
     "text": [
      "best logistic regression score:  0.9130506155950752\n",
      "best params:  {'C': 0.001, 'penalty': 'l2'}\n",
      "test accuracy:  0.9440559440559441\n"
     ]
    }
   ],
   "source": [
    "best_lr = 0\n",
    "for C in [0.001, 0.1, 1, 10]:\n",
    "    for penalty in ['l1', 'l2']:\n",
    "        lr = LogisticRegression(solver='saga', max_iter=10000, C=C, penalty=penalty)\n",
    "        scoress = cross_val_score(lr, X_trainval, y_trainval, cv=5)\n",
    "        score = np.mean(scoress)\n",
    "\n",
    "        if score > best_lr:\n",
    "            best_lr = score\n",
    "            best_params = {'C': C, 'penalty': penalty}\n",
    "\n",
    "print('best logistic regression score: ', best_lr)\n",
    "print('best params: ', best_params)\n",
    "\n",
    "new_lr = LogisticRegression(solver='saga', max_iter=10000, **best_params).fit(X_trainval, y_trainval)\n",
    "score_test = new_lr.score(X_test, y_test)\n",
    "print('test accuracy: ', score_test)"
   ],
   "metadata": {
    "collapsed": false,
    "ExecuteTime": {
     "end_time": "2023-12-05T14:39:46.705120300Z",
     "start_time": "2023-12-05T14:39:25.553726300Z"
    }
   },
   "id": "3e212cca1aedfb10"
  },
  {
   "cell_type": "code",
   "execution_count": 18,
   "outputs": [
    {
     "name": "stdout",
     "output_type": "stream",
     "text": [
      "best param values: {'C': 0.1, 'kernel': 'linear'}\n",
      "best cross-val accuracy value: 0.96\n"
     ]
    },
    {
     "data": {
      "text/plain": "    mean_fit_time  std_fit_time  mean_score_time  std_score_time param_C  \\\n0        0.003192      0.004668         0.003229        0.006459   0.001   \n1        0.006131      0.007512         0.000000        0.000000   0.001   \n2        0.004722      0.006037         0.000923        0.001847   0.001   \n3        0.009474      0.005925         0.000000        0.000000   0.001   \n4        0.009377      0.007656         0.000000        0.000000   0.001   \n5        0.003125      0.006250         0.009360        0.007643   0.001   \n6        0.006249      0.007654         0.000000        0.000000    0.01   \n7        0.009375      0.007654         0.001288        0.002576    0.01   \n8        0.014114      0.011901         0.001269        0.002537    0.01   \n9        0.010297      0.004466         0.010650        0.009106    0.01   \n10       0.012761      0.003457         0.004940        0.004606    0.01   \n11       0.013029      0.007714         0.005187        0.005882    0.01   \n12       0.009265      0.005379         0.019523        0.039046     0.1   \n13       0.007381      0.005647         0.002000        0.002815     0.1   \n14       0.009368      0.006156         0.003002        0.006004     0.1   \n15       0.011263      0.008242         0.001075        0.001693     0.1   \n16       0.012323      0.006166         0.000000        0.000000     0.1   \n17       0.004526      0.006176         0.011178        0.006149     0.1   \n18       0.006251      0.007655         0.000000        0.000000       1   \n19       0.003728      0.006064         0.005731        0.007067       1   \n20       0.006250      0.007655         0.003125        0.006249       1   \n21       0.006329      0.008030         0.003125        0.006251       1   \n22       0.009377      0.007656         0.003125        0.006250       1   \n23       0.007551      0.007008         0.001901        0.003802       1   \n24       0.006251      0.007656         0.003126        0.006252      10   \n25       0.006228      0.007628         0.003124        0.006248      10   \n26       0.007179      0.007115         0.001267        0.002533      10   \n27       0.004321      0.006100         0.005127        0.006526      10   \n28       0.006252      0.007657         0.003125        0.006250      10   \n29       0.006250      0.007654         0.003226        0.006203      10   \n30       0.003210      0.006420         0.003100        0.006201     100   \n31       0.006249      0.007654         0.000000        0.000000     100   \n32       0.004327      0.006110         0.005127        0.006526     100   \n33       0.006250      0.007655         0.003125        0.006250     100   \n34       0.012590      0.006297         0.000000        0.000000     100   \n35       0.006253      0.007658         0.003617        0.006280     100   \n36       0.002801      0.005601         0.000000        0.000000   0.001   \n37       0.008905      0.007322         0.000000        0.000000    0.01   \n38       0.037687      0.012398         0.003126        0.006251     0.1   \n39       0.371968      0.248033         0.003127        0.006254       1   \n40       3.081691      2.249468         0.003126        0.006252      10   \n41       3.404721      2.765871         0.000000        0.000000     100   \n\n   param_gamma param_kernel                                         params  \\\n0        0.001          rbf  {'C': 0.001, 'gamma': 0.001, 'kernel': 'rbf'}   \n1         0.01          rbf   {'C': 0.001, 'gamma': 0.01, 'kernel': 'rbf'}   \n2          0.1          rbf    {'C': 0.001, 'gamma': 0.1, 'kernel': 'rbf'}   \n3            1          rbf      {'C': 0.001, 'gamma': 1, 'kernel': 'rbf'}   \n4           10          rbf     {'C': 0.001, 'gamma': 10, 'kernel': 'rbf'}   \n5          100          rbf    {'C': 0.001, 'gamma': 100, 'kernel': 'rbf'}   \n6        0.001          rbf   {'C': 0.01, 'gamma': 0.001, 'kernel': 'rbf'}   \n7         0.01          rbf    {'C': 0.01, 'gamma': 0.01, 'kernel': 'rbf'}   \n8          0.1          rbf     {'C': 0.01, 'gamma': 0.1, 'kernel': 'rbf'}   \n9            1          rbf       {'C': 0.01, 'gamma': 1, 'kernel': 'rbf'}   \n10          10          rbf      {'C': 0.01, 'gamma': 10, 'kernel': 'rbf'}   \n11         100          rbf     {'C': 0.01, 'gamma': 100, 'kernel': 'rbf'}   \n12       0.001          rbf    {'C': 0.1, 'gamma': 0.001, 'kernel': 'rbf'}   \n13        0.01          rbf     {'C': 0.1, 'gamma': 0.01, 'kernel': 'rbf'}   \n14         0.1          rbf      {'C': 0.1, 'gamma': 0.1, 'kernel': 'rbf'}   \n15           1          rbf        {'C': 0.1, 'gamma': 1, 'kernel': 'rbf'}   \n16          10          rbf       {'C': 0.1, 'gamma': 10, 'kernel': 'rbf'}   \n17         100          rbf      {'C': 0.1, 'gamma': 100, 'kernel': 'rbf'}   \n18       0.001          rbf      {'C': 1, 'gamma': 0.001, 'kernel': 'rbf'}   \n19        0.01          rbf       {'C': 1, 'gamma': 0.01, 'kernel': 'rbf'}   \n20         0.1          rbf        {'C': 1, 'gamma': 0.1, 'kernel': 'rbf'}   \n21           1          rbf          {'C': 1, 'gamma': 1, 'kernel': 'rbf'}   \n22          10          rbf         {'C': 1, 'gamma': 10, 'kernel': 'rbf'}   \n23         100          rbf        {'C': 1, 'gamma': 100, 'kernel': 'rbf'}   \n24       0.001          rbf     {'C': 10, 'gamma': 0.001, 'kernel': 'rbf'}   \n25        0.01          rbf      {'C': 10, 'gamma': 0.01, 'kernel': 'rbf'}   \n26         0.1          rbf       {'C': 10, 'gamma': 0.1, 'kernel': 'rbf'}   \n27           1          rbf         {'C': 10, 'gamma': 1, 'kernel': 'rbf'}   \n28          10          rbf        {'C': 10, 'gamma': 10, 'kernel': 'rbf'}   \n29         100          rbf       {'C': 10, 'gamma': 100, 'kernel': 'rbf'}   \n30       0.001          rbf    {'C': 100, 'gamma': 0.001, 'kernel': 'rbf'}   \n31        0.01          rbf     {'C': 100, 'gamma': 0.01, 'kernel': 'rbf'}   \n32         0.1          rbf      {'C': 100, 'gamma': 0.1, 'kernel': 'rbf'}   \n33           1          rbf        {'C': 100, 'gamma': 1, 'kernel': 'rbf'}   \n34          10          rbf       {'C': 100, 'gamma': 10, 'kernel': 'rbf'}   \n35         100          rbf      {'C': 100, 'gamma': 100, 'kernel': 'rbf'}   \n36         NaN       linear               {'C': 0.001, 'kernel': 'linear'}   \n37         NaN       linear                {'C': 0.01, 'kernel': 'linear'}   \n38         NaN       linear                 {'C': 0.1, 'kernel': 'linear'}   \n39         NaN       linear                   {'C': 1, 'kernel': 'linear'}   \n40         NaN       linear                  {'C': 10, 'kernel': 'linear'}   \n41         NaN       linear                 {'C': 100, 'kernel': 'linear'}   \n\n    split0_test_score  split1_test_score  split2_test_score  \\\n0            0.625000           0.640625           0.640625   \n1            0.625000           0.640625           0.640625   \n2            0.625000           0.640625           0.640625   \n3            0.625000           0.640625           0.640625   \n4            0.625000           0.640625           0.640625   \n5            0.625000           0.640625           0.640625   \n6            0.625000           0.640625           0.640625   \n7            0.625000           0.640625           0.640625   \n8            0.625000           0.640625           0.640625   \n9            0.625000           0.640625           0.640625   \n10           0.625000           0.640625           0.640625   \n11           0.625000           0.640625           0.640625   \n12           0.625000           0.640625           0.640625   \n13           0.625000           0.640625           0.640625   \n14           0.625000           0.640625           0.640625   \n15           0.625000           0.640625           0.640625   \n16           0.625000           0.640625           0.640625   \n17           0.625000           0.640625           0.640625   \n18           0.937500           0.875000           0.875000   \n19           0.625000           0.640625           0.625000   \n20           0.625000           0.640625           0.640625   \n21           0.625000           0.640625           0.640625   \n22           0.625000           0.640625           0.640625   \n23           0.625000           0.640625           0.640625   \n24           0.937500           0.859375           0.875000   \n25           0.625000           0.640625           0.625000   \n26           0.625000           0.640625           0.640625   \n27           0.625000           0.640625           0.640625   \n28           0.625000           0.640625           0.640625   \n29           0.625000           0.640625           0.640625   \n30           0.937500           0.859375           0.875000   \n31           0.625000           0.640625           0.625000   \n32           0.625000           0.640625           0.640625   \n33           0.625000           0.640625           0.640625   \n34           0.625000           0.640625           0.640625   \n35           0.625000           0.640625           0.640625   \n36           0.968750           0.937500           0.890625   \n37           0.953125           0.953125           0.890625   \n38           0.953125           0.968750           0.937500   \n39           0.937500           0.968750           0.937500   \n40           0.937500           0.968750           0.890625   \n41           0.937500           0.968750           0.906250   \n\n    split3_test_score  split4_test_score  mean_test_score  std_test_score  \\\n0            0.640625           0.634921         0.636359        0.006094   \n1            0.640625           0.634921         0.636359        0.006094   \n2            0.640625           0.634921         0.636359        0.006094   \n3            0.640625           0.634921         0.636359        0.006094   \n4            0.640625           0.634921         0.636359        0.006094   \n5            0.640625           0.634921         0.636359        0.006094   \n6            0.640625           0.634921         0.636359        0.006094   \n7            0.640625           0.634921         0.636359        0.006094   \n8            0.640625           0.634921         0.636359        0.006094   \n9            0.640625           0.634921         0.636359        0.006094   \n10           0.640625           0.634921         0.636359        0.006094   \n11           0.640625           0.634921         0.636359        0.006094   \n12           0.640625           0.634921         0.636359        0.006094   \n13           0.640625           0.634921         0.636359        0.006094   \n14           0.640625           0.634921         0.636359        0.006094   \n15           0.640625           0.634921         0.636359        0.006094   \n16           0.640625           0.634921         0.636359        0.006094   \n17           0.640625           0.634921         0.636359        0.006094   \n18           0.937500           0.968254         0.918651        0.037368   \n19           0.640625           0.634921         0.633234        0.007038   \n20           0.640625           0.634921         0.636359        0.006094   \n21           0.640625           0.634921         0.636359        0.006094   \n22           0.640625           0.634921         0.636359        0.006094   \n23           0.640625           0.634921         0.636359        0.006094   \n24           0.937500           0.968254         0.915526        0.041331   \n25           0.640625           0.634921         0.633234        0.007038   \n26           0.640625           0.634921         0.636359        0.006094   \n27           0.640625           0.634921         0.636359        0.006094   \n28           0.640625           0.634921         0.636359        0.006094   \n29           0.640625           0.634921         0.636359        0.006094   \n30           0.937500           0.968254         0.915526        0.041331   \n31           0.640625           0.634921         0.633234        0.007038   \n32           0.640625           0.634921         0.636359        0.006094   \n33           0.640625           0.634921         0.636359        0.006094   \n34           0.640625           0.634921         0.636359        0.006094   \n35           0.640625           0.634921         0.636359        0.006094   \n36           0.968750           0.984127         0.949950        0.033315   \n37           0.984375           0.984127         0.953075        0.034187   \n38           0.984375           0.968254         0.962401        0.015897   \n39           0.968750           0.968254         0.956151        0.015229   \n40           0.968750           0.920635         0.937252        0.029781   \n41           0.968750           0.952381         0.946726        0.023347   \n\n    rank_test_score  \n0                10  \n1                10  \n2                10  \n3                10  \n4                10  \n5                10  \n6                10  \n7                10  \n8                10  \n9                10  \n10               10  \n11               10  \n12               10  \n13               10  \n14               10  \n15               10  \n16               10  \n17               10  \n18                7  \n19               40  \n20               10  \n21               10  \n22               10  \n23               10  \n24                8  \n25               40  \n26               10  \n27               10  \n28               10  \n29               10  \n30                8  \n31               40  \n32               10  \n33               10  \n34               10  \n35               10  \n36                4  \n37                3  \n38                1  \n39                2  \n40                6  \n41                5  ",
      "text/html": "<div>\n<style scoped>\n    .dataframe tbody tr th:only-of-type {\n        vertical-align: middle;\n    }\n\n    .dataframe tbody tr th {\n        vertical-align: top;\n    }\n\n    .dataframe thead th {\n        text-align: right;\n    }\n</style>\n<table border=\"1\" class=\"dataframe\">\n  <thead>\n    <tr style=\"text-align: right;\">\n      <th></th>\n      <th>mean_fit_time</th>\n      <th>std_fit_time</th>\n      <th>mean_score_time</th>\n      <th>std_score_time</th>\n      <th>param_C</th>\n      <th>param_gamma</th>\n      <th>param_kernel</th>\n      <th>params</th>\n      <th>split0_test_score</th>\n      <th>split1_test_score</th>\n      <th>split2_test_score</th>\n      <th>split3_test_score</th>\n      <th>split4_test_score</th>\n      <th>mean_test_score</th>\n      <th>std_test_score</th>\n      <th>rank_test_score</th>\n    </tr>\n  </thead>\n  <tbody>\n    <tr>\n      <th>0</th>\n      <td>0.003192</td>\n      <td>0.004668</td>\n      <td>0.003229</td>\n      <td>0.006459</td>\n      <td>0.001</td>\n      <td>0.001</td>\n      <td>rbf</td>\n      <td>{'C': 0.001, 'gamma': 0.001, 'kernel': 'rbf'}</td>\n      <td>0.625000</td>\n      <td>0.640625</td>\n      <td>0.640625</td>\n      <td>0.640625</td>\n      <td>0.634921</td>\n      <td>0.636359</td>\n      <td>0.006094</td>\n      <td>10</td>\n    </tr>\n    <tr>\n      <th>1</th>\n      <td>0.006131</td>\n      <td>0.007512</td>\n      <td>0.000000</td>\n      <td>0.000000</td>\n      <td>0.001</td>\n      <td>0.01</td>\n      <td>rbf</td>\n      <td>{'C': 0.001, 'gamma': 0.01, 'kernel': 'rbf'}</td>\n      <td>0.625000</td>\n      <td>0.640625</td>\n      <td>0.640625</td>\n      <td>0.640625</td>\n      <td>0.634921</td>\n      <td>0.636359</td>\n      <td>0.006094</td>\n      <td>10</td>\n    </tr>\n    <tr>\n      <th>2</th>\n      <td>0.004722</td>\n      <td>0.006037</td>\n      <td>0.000923</td>\n      <td>0.001847</td>\n      <td>0.001</td>\n      <td>0.1</td>\n      <td>rbf</td>\n      <td>{'C': 0.001, 'gamma': 0.1, 'kernel': 'rbf'}</td>\n      <td>0.625000</td>\n      <td>0.640625</td>\n      <td>0.640625</td>\n      <td>0.640625</td>\n      <td>0.634921</td>\n      <td>0.636359</td>\n      <td>0.006094</td>\n      <td>10</td>\n    </tr>\n    <tr>\n      <th>3</th>\n      <td>0.009474</td>\n      <td>0.005925</td>\n      <td>0.000000</td>\n      <td>0.000000</td>\n      <td>0.001</td>\n      <td>1</td>\n      <td>rbf</td>\n      <td>{'C': 0.001, 'gamma': 1, 'kernel': 'rbf'}</td>\n      <td>0.625000</td>\n      <td>0.640625</td>\n      <td>0.640625</td>\n      <td>0.640625</td>\n      <td>0.634921</td>\n      <td>0.636359</td>\n      <td>0.006094</td>\n      <td>10</td>\n    </tr>\n    <tr>\n      <th>4</th>\n      <td>0.009377</td>\n      <td>0.007656</td>\n      <td>0.000000</td>\n      <td>0.000000</td>\n      <td>0.001</td>\n      <td>10</td>\n      <td>rbf</td>\n      <td>{'C': 0.001, 'gamma': 10, 'kernel': 'rbf'}</td>\n      <td>0.625000</td>\n      <td>0.640625</td>\n      <td>0.640625</td>\n      <td>0.640625</td>\n      <td>0.634921</td>\n      <td>0.636359</td>\n      <td>0.006094</td>\n      <td>10</td>\n    </tr>\n    <tr>\n      <th>5</th>\n      <td>0.003125</td>\n      <td>0.006250</td>\n      <td>0.009360</td>\n      <td>0.007643</td>\n      <td>0.001</td>\n      <td>100</td>\n      <td>rbf</td>\n      <td>{'C': 0.001, 'gamma': 100, 'kernel': 'rbf'}</td>\n      <td>0.625000</td>\n      <td>0.640625</td>\n      <td>0.640625</td>\n      <td>0.640625</td>\n      <td>0.634921</td>\n      <td>0.636359</td>\n      <td>0.006094</td>\n      <td>10</td>\n    </tr>\n    <tr>\n      <th>6</th>\n      <td>0.006249</td>\n      <td>0.007654</td>\n      <td>0.000000</td>\n      <td>0.000000</td>\n      <td>0.01</td>\n      <td>0.001</td>\n      <td>rbf</td>\n      <td>{'C': 0.01, 'gamma': 0.001, 'kernel': 'rbf'}</td>\n      <td>0.625000</td>\n      <td>0.640625</td>\n      <td>0.640625</td>\n      <td>0.640625</td>\n      <td>0.634921</td>\n      <td>0.636359</td>\n      <td>0.006094</td>\n      <td>10</td>\n    </tr>\n    <tr>\n      <th>7</th>\n      <td>0.009375</td>\n      <td>0.007654</td>\n      <td>0.001288</td>\n      <td>0.002576</td>\n      <td>0.01</td>\n      <td>0.01</td>\n      <td>rbf</td>\n      <td>{'C': 0.01, 'gamma': 0.01, 'kernel': 'rbf'}</td>\n      <td>0.625000</td>\n      <td>0.640625</td>\n      <td>0.640625</td>\n      <td>0.640625</td>\n      <td>0.634921</td>\n      <td>0.636359</td>\n      <td>0.006094</td>\n      <td>10</td>\n    </tr>\n    <tr>\n      <th>8</th>\n      <td>0.014114</td>\n      <td>0.011901</td>\n      <td>0.001269</td>\n      <td>0.002537</td>\n      <td>0.01</td>\n      <td>0.1</td>\n      <td>rbf</td>\n      <td>{'C': 0.01, 'gamma': 0.1, 'kernel': 'rbf'}</td>\n      <td>0.625000</td>\n      <td>0.640625</td>\n      <td>0.640625</td>\n      <td>0.640625</td>\n      <td>0.634921</td>\n      <td>0.636359</td>\n      <td>0.006094</td>\n      <td>10</td>\n    </tr>\n    <tr>\n      <th>9</th>\n      <td>0.010297</td>\n      <td>0.004466</td>\n      <td>0.010650</td>\n      <td>0.009106</td>\n      <td>0.01</td>\n      <td>1</td>\n      <td>rbf</td>\n      <td>{'C': 0.01, 'gamma': 1, 'kernel': 'rbf'}</td>\n      <td>0.625000</td>\n      <td>0.640625</td>\n      <td>0.640625</td>\n      <td>0.640625</td>\n      <td>0.634921</td>\n      <td>0.636359</td>\n      <td>0.006094</td>\n      <td>10</td>\n    </tr>\n    <tr>\n      <th>10</th>\n      <td>0.012761</td>\n      <td>0.003457</td>\n      <td>0.004940</td>\n      <td>0.004606</td>\n      <td>0.01</td>\n      <td>10</td>\n      <td>rbf</td>\n      <td>{'C': 0.01, 'gamma': 10, 'kernel': 'rbf'}</td>\n      <td>0.625000</td>\n      <td>0.640625</td>\n      <td>0.640625</td>\n      <td>0.640625</td>\n      <td>0.634921</td>\n      <td>0.636359</td>\n      <td>0.006094</td>\n      <td>10</td>\n    </tr>\n    <tr>\n      <th>11</th>\n      <td>0.013029</td>\n      <td>0.007714</td>\n      <td>0.005187</td>\n      <td>0.005882</td>\n      <td>0.01</td>\n      <td>100</td>\n      <td>rbf</td>\n      <td>{'C': 0.01, 'gamma': 100, 'kernel': 'rbf'}</td>\n      <td>0.625000</td>\n      <td>0.640625</td>\n      <td>0.640625</td>\n      <td>0.640625</td>\n      <td>0.634921</td>\n      <td>0.636359</td>\n      <td>0.006094</td>\n      <td>10</td>\n    </tr>\n    <tr>\n      <th>12</th>\n      <td>0.009265</td>\n      <td>0.005379</td>\n      <td>0.019523</td>\n      <td>0.039046</td>\n      <td>0.1</td>\n      <td>0.001</td>\n      <td>rbf</td>\n      <td>{'C': 0.1, 'gamma': 0.001, 'kernel': 'rbf'}</td>\n      <td>0.625000</td>\n      <td>0.640625</td>\n      <td>0.640625</td>\n      <td>0.640625</td>\n      <td>0.634921</td>\n      <td>0.636359</td>\n      <td>0.006094</td>\n      <td>10</td>\n    </tr>\n    <tr>\n      <th>13</th>\n      <td>0.007381</td>\n      <td>0.005647</td>\n      <td>0.002000</td>\n      <td>0.002815</td>\n      <td>0.1</td>\n      <td>0.01</td>\n      <td>rbf</td>\n      <td>{'C': 0.1, 'gamma': 0.01, 'kernel': 'rbf'}</td>\n      <td>0.625000</td>\n      <td>0.640625</td>\n      <td>0.640625</td>\n      <td>0.640625</td>\n      <td>0.634921</td>\n      <td>0.636359</td>\n      <td>0.006094</td>\n      <td>10</td>\n    </tr>\n    <tr>\n      <th>14</th>\n      <td>0.009368</td>\n      <td>0.006156</td>\n      <td>0.003002</td>\n      <td>0.006004</td>\n      <td>0.1</td>\n      <td>0.1</td>\n      <td>rbf</td>\n      <td>{'C': 0.1, 'gamma': 0.1, 'kernel': 'rbf'}</td>\n      <td>0.625000</td>\n      <td>0.640625</td>\n      <td>0.640625</td>\n      <td>0.640625</td>\n      <td>0.634921</td>\n      <td>0.636359</td>\n      <td>0.006094</td>\n      <td>10</td>\n    </tr>\n    <tr>\n      <th>15</th>\n      <td>0.011263</td>\n      <td>0.008242</td>\n      <td>0.001075</td>\n      <td>0.001693</td>\n      <td>0.1</td>\n      <td>1</td>\n      <td>rbf</td>\n      <td>{'C': 0.1, 'gamma': 1, 'kernel': 'rbf'}</td>\n      <td>0.625000</td>\n      <td>0.640625</td>\n      <td>0.640625</td>\n      <td>0.640625</td>\n      <td>0.634921</td>\n      <td>0.636359</td>\n      <td>0.006094</td>\n      <td>10</td>\n    </tr>\n    <tr>\n      <th>16</th>\n      <td>0.012323</td>\n      <td>0.006166</td>\n      <td>0.000000</td>\n      <td>0.000000</td>\n      <td>0.1</td>\n      <td>10</td>\n      <td>rbf</td>\n      <td>{'C': 0.1, 'gamma': 10, 'kernel': 'rbf'}</td>\n      <td>0.625000</td>\n      <td>0.640625</td>\n      <td>0.640625</td>\n      <td>0.640625</td>\n      <td>0.634921</td>\n      <td>0.636359</td>\n      <td>0.006094</td>\n      <td>10</td>\n    </tr>\n    <tr>\n      <th>17</th>\n      <td>0.004526</td>\n      <td>0.006176</td>\n      <td>0.011178</td>\n      <td>0.006149</td>\n      <td>0.1</td>\n      <td>100</td>\n      <td>rbf</td>\n      <td>{'C': 0.1, 'gamma': 100, 'kernel': 'rbf'}</td>\n      <td>0.625000</td>\n      <td>0.640625</td>\n      <td>0.640625</td>\n      <td>0.640625</td>\n      <td>0.634921</td>\n      <td>0.636359</td>\n      <td>0.006094</td>\n      <td>10</td>\n    </tr>\n    <tr>\n      <th>18</th>\n      <td>0.006251</td>\n      <td>0.007655</td>\n      <td>0.000000</td>\n      <td>0.000000</td>\n      <td>1</td>\n      <td>0.001</td>\n      <td>rbf</td>\n      <td>{'C': 1, 'gamma': 0.001, 'kernel': 'rbf'}</td>\n      <td>0.937500</td>\n      <td>0.875000</td>\n      <td>0.875000</td>\n      <td>0.937500</td>\n      <td>0.968254</td>\n      <td>0.918651</td>\n      <td>0.037368</td>\n      <td>7</td>\n    </tr>\n    <tr>\n      <th>19</th>\n      <td>0.003728</td>\n      <td>0.006064</td>\n      <td>0.005731</td>\n      <td>0.007067</td>\n      <td>1</td>\n      <td>0.01</td>\n      <td>rbf</td>\n      <td>{'C': 1, 'gamma': 0.01, 'kernel': 'rbf'}</td>\n      <td>0.625000</td>\n      <td>0.640625</td>\n      <td>0.625000</td>\n      <td>0.640625</td>\n      <td>0.634921</td>\n      <td>0.633234</td>\n      <td>0.007038</td>\n      <td>40</td>\n    </tr>\n    <tr>\n      <th>20</th>\n      <td>0.006250</td>\n      <td>0.007655</td>\n      <td>0.003125</td>\n      <td>0.006249</td>\n      <td>1</td>\n      <td>0.1</td>\n      <td>rbf</td>\n      <td>{'C': 1, 'gamma': 0.1, 'kernel': 'rbf'}</td>\n      <td>0.625000</td>\n      <td>0.640625</td>\n      <td>0.640625</td>\n      <td>0.640625</td>\n      <td>0.634921</td>\n      <td>0.636359</td>\n      <td>0.006094</td>\n      <td>10</td>\n    </tr>\n    <tr>\n      <th>21</th>\n      <td>0.006329</td>\n      <td>0.008030</td>\n      <td>0.003125</td>\n      <td>0.006251</td>\n      <td>1</td>\n      <td>1</td>\n      <td>rbf</td>\n      <td>{'C': 1, 'gamma': 1, 'kernel': 'rbf'}</td>\n      <td>0.625000</td>\n      <td>0.640625</td>\n      <td>0.640625</td>\n      <td>0.640625</td>\n      <td>0.634921</td>\n      <td>0.636359</td>\n      <td>0.006094</td>\n      <td>10</td>\n    </tr>\n    <tr>\n      <th>22</th>\n      <td>0.009377</td>\n      <td>0.007656</td>\n      <td>0.003125</td>\n      <td>0.006250</td>\n      <td>1</td>\n      <td>10</td>\n      <td>rbf</td>\n      <td>{'C': 1, 'gamma': 10, 'kernel': 'rbf'}</td>\n      <td>0.625000</td>\n      <td>0.640625</td>\n      <td>0.640625</td>\n      <td>0.640625</td>\n      <td>0.634921</td>\n      <td>0.636359</td>\n      <td>0.006094</td>\n      <td>10</td>\n    </tr>\n    <tr>\n      <th>23</th>\n      <td>0.007551</td>\n      <td>0.007008</td>\n      <td>0.001901</td>\n      <td>0.003802</td>\n      <td>1</td>\n      <td>100</td>\n      <td>rbf</td>\n      <td>{'C': 1, 'gamma': 100, 'kernel': 'rbf'}</td>\n      <td>0.625000</td>\n      <td>0.640625</td>\n      <td>0.640625</td>\n      <td>0.640625</td>\n      <td>0.634921</td>\n      <td>0.636359</td>\n      <td>0.006094</td>\n      <td>10</td>\n    </tr>\n    <tr>\n      <th>24</th>\n      <td>0.006251</td>\n      <td>0.007656</td>\n      <td>0.003126</td>\n      <td>0.006252</td>\n      <td>10</td>\n      <td>0.001</td>\n      <td>rbf</td>\n      <td>{'C': 10, 'gamma': 0.001, 'kernel': 'rbf'}</td>\n      <td>0.937500</td>\n      <td>0.859375</td>\n      <td>0.875000</td>\n      <td>0.937500</td>\n      <td>0.968254</td>\n      <td>0.915526</td>\n      <td>0.041331</td>\n      <td>8</td>\n    </tr>\n    <tr>\n      <th>25</th>\n      <td>0.006228</td>\n      <td>0.007628</td>\n      <td>0.003124</td>\n      <td>0.006248</td>\n      <td>10</td>\n      <td>0.01</td>\n      <td>rbf</td>\n      <td>{'C': 10, 'gamma': 0.01, 'kernel': 'rbf'}</td>\n      <td>0.625000</td>\n      <td>0.640625</td>\n      <td>0.625000</td>\n      <td>0.640625</td>\n      <td>0.634921</td>\n      <td>0.633234</td>\n      <td>0.007038</td>\n      <td>40</td>\n    </tr>\n    <tr>\n      <th>26</th>\n      <td>0.007179</td>\n      <td>0.007115</td>\n      <td>0.001267</td>\n      <td>0.002533</td>\n      <td>10</td>\n      <td>0.1</td>\n      <td>rbf</td>\n      <td>{'C': 10, 'gamma': 0.1, 'kernel': 'rbf'}</td>\n      <td>0.625000</td>\n      <td>0.640625</td>\n      <td>0.640625</td>\n      <td>0.640625</td>\n      <td>0.634921</td>\n      <td>0.636359</td>\n      <td>0.006094</td>\n      <td>10</td>\n    </tr>\n    <tr>\n      <th>27</th>\n      <td>0.004321</td>\n      <td>0.006100</td>\n      <td>0.005127</td>\n      <td>0.006526</td>\n      <td>10</td>\n      <td>1</td>\n      <td>rbf</td>\n      <td>{'C': 10, 'gamma': 1, 'kernel': 'rbf'}</td>\n      <td>0.625000</td>\n      <td>0.640625</td>\n      <td>0.640625</td>\n      <td>0.640625</td>\n      <td>0.634921</td>\n      <td>0.636359</td>\n      <td>0.006094</td>\n      <td>10</td>\n    </tr>\n    <tr>\n      <th>28</th>\n      <td>0.006252</td>\n      <td>0.007657</td>\n      <td>0.003125</td>\n      <td>0.006250</td>\n      <td>10</td>\n      <td>10</td>\n      <td>rbf</td>\n      <td>{'C': 10, 'gamma': 10, 'kernel': 'rbf'}</td>\n      <td>0.625000</td>\n      <td>0.640625</td>\n      <td>0.640625</td>\n      <td>0.640625</td>\n      <td>0.634921</td>\n      <td>0.636359</td>\n      <td>0.006094</td>\n      <td>10</td>\n    </tr>\n    <tr>\n      <th>29</th>\n      <td>0.006250</td>\n      <td>0.007654</td>\n      <td>0.003226</td>\n      <td>0.006203</td>\n      <td>10</td>\n      <td>100</td>\n      <td>rbf</td>\n      <td>{'C': 10, 'gamma': 100, 'kernel': 'rbf'}</td>\n      <td>0.625000</td>\n      <td>0.640625</td>\n      <td>0.640625</td>\n      <td>0.640625</td>\n      <td>0.634921</td>\n      <td>0.636359</td>\n      <td>0.006094</td>\n      <td>10</td>\n    </tr>\n    <tr>\n      <th>30</th>\n      <td>0.003210</td>\n      <td>0.006420</td>\n      <td>0.003100</td>\n      <td>0.006201</td>\n      <td>100</td>\n      <td>0.001</td>\n      <td>rbf</td>\n      <td>{'C': 100, 'gamma': 0.001, 'kernel': 'rbf'}</td>\n      <td>0.937500</td>\n      <td>0.859375</td>\n      <td>0.875000</td>\n      <td>0.937500</td>\n      <td>0.968254</td>\n      <td>0.915526</td>\n      <td>0.041331</td>\n      <td>8</td>\n    </tr>\n    <tr>\n      <th>31</th>\n      <td>0.006249</td>\n      <td>0.007654</td>\n      <td>0.000000</td>\n      <td>0.000000</td>\n      <td>100</td>\n      <td>0.01</td>\n      <td>rbf</td>\n      <td>{'C': 100, 'gamma': 0.01, 'kernel': 'rbf'}</td>\n      <td>0.625000</td>\n      <td>0.640625</td>\n      <td>0.625000</td>\n      <td>0.640625</td>\n      <td>0.634921</td>\n      <td>0.633234</td>\n      <td>0.007038</td>\n      <td>40</td>\n    </tr>\n    <tr>\n      <th>32</th>\n      <td>0.004327</td>\n      <td>0.006110</td>\n      <td>0.005127</td>\n      <td>0.006526</td>\n      <td>100</td>\n      <td>0.1</td>\n      <td>rbf</td>\n      <td>{'C': 100, 'gamma': 0.1, 'kernel': 'rbf'}</td>\n      <td>0.625000</td>\n      <td>0.640625</td>\n      <td>0.640625</td>\n      <td>0.640625</td>\n      <td>0.634921</td>\n      <td>0.636359</td>\n      <td>0.006094</td>\n      <td>10</td>\n    </tr>\n    <tr>\n      <th>33</th>\n      <td>0.006250</td>\n      <td>0.007655</td>\n      <td>0.003125</td>\n      <td>0.006250</td>\n      <td>100</td>\n      <td>1</td>\n      <td>rbf</td>\n      <td>{'C': 100, 'gamma': 1, 'kernel': 'rbf'}</td>\n      <td>0.625000</td>\n      <td>0.640625</td>\n      <td>0.640625</td>\n      <td>0.640625</td>\n      <td>0.634921</td>\n      <td>0.636359</td>\n      <td>0.006094</td>\n      <td>10</td>\n    </tr>\n    <tr>\n      <th>34</th>\n      <td>0.012590</td>\n      <td>0.006297</td>\n      <td>0.000000</td>\n      <td>0.000000</td>\n      <td>100</td>\n      <td>10</td>\n      <td>rbf</td>\n      <td>{'C': 100, 'gamma': 10, 'kernel': 'rbf'}</td>\n      <td>0.625000</td>\n      <td>0.640625</td>\n      <td>0.640625</td>\n      <td>0.640625</td>\n      <td>0.634921</td>\n      <td>0.636359</td>\n      <td>0.006094</td>\n      <td>10</td>\n    </tr>\n    <tr>\n      <th>35</th>\n      <td>0.006253</td>\n      <td>0.007658</td>\n      <td>0.003617</td>\n      <td>0.006280</td>\n      <td>100</td>\n      <td>100</td>\n      <td>rbf</td>\n      <td>{'C': 100, 'gamma': 100, 'kernel': 'rbf'}</td>\n      <td>0.625000</td>\n      <td>0.640625</td>\n      <td>0.640625</td>\n      <td>0.640625</td>\n      <td>0.634921</td>\n      <td>0.636359</td>\n      <td>0.006094</td>\n      <td>10</td>\n    </tr>\n    <tr>\n      <th>36</th>\n      <td>0.002801</td>\n      <td>0.005601</td>\n      <td>0.000000</td>\n      <td>0.000000</td>\n      <td>0.001</td>\n      <td>NaN</td>\n      <td>linear</td>\n      <td>{'C': 0.001, 'kernel': 'linear'}</td>\n      <td>0.968750</td>\n      <td>0.937500</td>\n      <td>0.890625</td>\n      <td>0.968750</td>\n      <td>0.984127</td>\n      <td>0.949950</td>\n      <td>0.033315</td>\n      <td>4</td>\n    </tr>\n    <tr>\n      <th>37</th>\n      <td>0.008905</td>\n      <td>0.007322</td>\n      <td>0.000000</td>\n      <td>0.000000</td>\n      <td>0.01</td>\n      <td>NaN</td>\n      <td>linear</td>\n      <td>{'C': 0.01, 'kernel': 'linear'}</td>\n      <td>0.953125</td>\n      <td>0.953125</td>\n      <td>0.890625</td>\n      <td>0.984375</td>\n      <td>0.984127</td>\n      <td>0.953075</td>\n      <td>0.034187</td>\n      <td>3</td>\n    </tr>\n    <tr>\n      <th>38</th>\n      <td>0.037687</td>\n      <td>0.012398</td>\n      <td>0.003126</td>\n      <td>0.006251</td>\n      <td>0.1</td>\n      <td>NaN</td>\n      <td>linear</td>\n      <td>{'C': 0.1, 'kernel': 'linear'}</td>\n      <td>0.953125</td>\n      <td>0.968750</td>\n      <td>0.937500</td>\n      <td>0.984375</td>\n      <td>0.968254</td>\n      <td>0.962401</td>\n      <td>0.015897</td>\n      <td>1</td>\n    </tr>\n    <tr>\n      <th>39</th>\n      <td>0.371968</td>\n      <td>0.248033</td>\n      <td>0.003127</td>\n      <td>0.006254</td>\n      <td>1</td>\n      <td>NaN</td>\n      <td>linear</td>\n      <td>{'C': 1, 'kernel': 'linear'}</td>\n      <td>0.937500</td>\n      <td>0.968750</td>\n      <td>0.937500</td>\n      <td>0.968750</td>\n      <td>0.968254</td>\n      <td>0.956151</td>\n      <td>0.015229</td>\n      <td>2</td>\n    </tr>\n    <tr>\n      <th>40</th>\n      <td>3.081691</td>\n      <td>2.249468</td>\n      <td>0.003126</td>\n      <td>0.006252</td>\n      <td>10</td>\n      <td>NaN</td>\n      <td>linear</td>\n      <td>{'C': 10, 'kernel': 'linear'}</td>\n      <td>0.937500</td>\n      <td>0.968750</td>\n      <td>0.890625</td>\n      <td>0.968750</td>\n      <td>0.920635</td>\n      <td>0.937252</td>\n      <td>0.029781</td>\n      <td>6</td>\n    </tr>\n    <tr>\n      <th>41</th>\n      <td>3.404721</td>\n      <td>2.765871</td>\n      <td>0.000000</td>\n      <td>0.000000</td>\n      <td>100</td>\n      <td>NaN</td>\n      <td>linear</td>\n      <td>{'C': 100, 'kernel': 'linear'}</td>\n      <td>0.937500</td>\n      <td>0.968750</td>\n      <td>0.906250</td>\n      <td>0.968750</td>\n      <td>0.952381</td>\n      <td>0.946726</td>\n      <td>0.023347</td>\n      <td>5</td>\n    </tr>\n  </tbody>\n</table>\n</div>"
     },
     "execution_count": 18,
     "metadata": {},
     "output_type": "execute_result"
    }
   ],
   "source": [
    "param_grid = [{'kernel': ['rbf'],\n",
    "               'C': [0.001, 0.01, 0.1, 1, 10, 100],\n",
    "               'gamma': [0.001, 0.01, 0.1, 1, 10, 100]},\n",
    "              {'kernel': ['linear'],\n",
    "               'C': [0.001, 0.01, 0.1, 1, 10, 100]}]\n",
    "grid_search = GridSearchCV(SVC(), param_grid, cv=5)\n",
    "grid_search.fit(X_train, y_train)\n",
    "\n",
    "print('best param values: {}'.format(grid_search.best_params_))\n",
    "print('best cross-val accuracy value: {:.2f}'.format(grid_search.best_score_))\n",
    "\n",
    "ress = pd.DataFrame(grid_search.cv_results_)\n",
    "ress"
   ],
   "metadata": {
    "collapsed": false,
    "ExecuteTime": {
     "end_time": "2023-12-05T14:40:24.608367300Z",
     "start_time": "2023-12-05T14:39:47.842623700Z"
    }
   },
   "id": "9b3cabcbbf64e576"
  },
  {
   "cell_type": "code",
   "execution_count": 19,
   "outputs": [
    {
     "name": "stdout",
     "output_type": "stream",
     "text": [
      "best param values: {'C': 10, 'penalty': 'l2', 'solver': 'lbfgs'}\n",
      "best cross-val accuracy value: 0.96\n"
     ]
    },
    {
     "data": {
      "text/plain": "    mean_fit_time  std_fit_time  mean_score_time  std_score_time param_C  \\\n0        0.569260      0.026074         0.003127        0.006253     0.1   \n1        0.538877      0.039774         0.001694        0.003388     0.1   \n2        0.556307      0.033059         0.000000        0.000000     0.1   \n3        0.570751      0.034795         0.000000        0.000000       1   \n4        0.572126      0.027388         0.000000        0.000000       1   \n5        0.600482      0.026765         0.000000        0.000000       1   \n6        0.582825      0.012086         0.003125        0.006250      10   \n7        0.587619      0.028701         0.000000        0.000000      10   \n8        0.618368      0.035055         0.000000        0.000000      10   \n9        0.549755      0.022838         0.000000        0.000000     0.1   \n10       0.533285      0.028588         0.000000        0.000000     0.1   \n11       0.549812      0.031926         0.000000        0.000000       1   \n12       0.497438      0.029834         0.003220        0.006191       1   \n13       0.596807      0.042212         0.000000        0.000000      10   \n14       0.502775      0.038804         0.002901        0.005802      10   \n15       0.268719      0.043038         0.000000        0.000000     0.1   \n16       0.617792      0.119163         0.000000        0.000000       1   \n17       1.156995      0.400905         0.000000        0.000000      10   \n\n   param_l1_ratio param_penalty param_solver  \\\n0             0.2    elasticnet         saga   \n1             0.5    elasticnet         saga   \n2             0.8    elasticnet         saga   \n3             0.2    elasticnet         saga   \n4             0.5    elasticnet         saga   \n5             0.8    elasticnet         saga   \n6             0.2    elasticnet         saga   \n7             0.5    elasticnet         saga   \n8             0.8    elasticnet         saga   \n9             NaN            l1         saga   \n10            NaN            l2         saga   \n11            NaN            l1         saga   \n12            NaN            l2         saga   \n13            NaN            l1         saga   \n14            NaN            l2         saga   \n15            NaN            l2        lbfgs   \n16            NaN            l2        lbfgs   \n17            NaN            l2        lbfgs   \n\n                                               params  split0_test_score  \\\n0   {'C': 0.1, 'l1_ratio': 0.2, 'penalty': 'elasti...           0.953488   \n1   {'C': 0.1, 'l1_ratio': 0.5, 'penalty': 'elasti...           0.953488   \n2   {'C': 0.1, 'l1_ratio': 0.8, 'penalty': 'elasti...           0.953488   \n3   {'C': 1, 'l1_ratio': 0.2, 'penalty': 'elasticn...           0.953488   \n4   {'C': 1, 'l1_ratio': 0.5, 'penalty': 'elasticn...           0.953488   \n5   {'C': 1, 'l1_ratio': 0.8, 'penalty': 'elasticn...           0.953488   \n6   {'C': 10, 'l1_ratio': 0.2, 'penalty': 'elastic...           0.953488   \n7   {'C': 10, 'l1_ratio': 0.5, 'penalty': 'elastic...           0.953488   \n8   {'C': 10, 'l1_ratio': 0.8, 'penalty': 'elastic...           0.953488   \n9       {'C': 0.1, 'penalty': 'l1', 'solver': 'saga'}           0.953488   \n10      {'C': 0.1, 'penalty': 'l2', 'solver': 'saga'}           0.953488   \n11        {'C': 1, 'penalty': 'l1', 'solver': 'saga'}           0.953488   \n12        {'C': 1, 'penalty': 'l2', 'solver': 'saga'}           0.953488   \n13       {'C': 10, 'penalty': 'l1', 'solver': 'saga'}           0.953488   \n14       {'C': 10, 'penalty': 'l2', 'solver': 'saga'}           0.953488   \n15     {'C': 0.1, 'penalty': 'l2', 'solver': 'lbfgs'}           0.988372   \n16       {'C': 1, 'penalty': 'l2', 'solver': 'lbfgs'}           0.988372   \n17      {'C': 10, 'penalty': 'l2', 'solver': 'lbfgs'}           0.976744   \n\n    split1_test_score  split2_test_score  split3_test_score  \\\n0            0.858824           0.917647           0.894118   \n1            0.858824           0.917647           0.894118   \n2            0.858824           0.929412           0.894118   \n3            0.858824           0.917647           0.894118   \n4            0.858824           0.917647           0.894118   \n5            0.858824           0.917647           0.894118   \n6            0.858824           0.917647           0.894118   \n7            0.858824           0.917647           0.894118   \n8            0.858824           0.917647           0.894118   \n9            0.858824           0.929412           0.894118   \n10           0.858824           0.917647           0.894118   \n11           0.858824           0.917647           0.894118   \n12           0.858824           0.917647           0.894118   \n13           0.858824           0.917647           0.894118   \n14           0.858824           0.917647           0.894118   \n15           0.929412           0.905882           0.976471   \n16           0.941176           0.917647           0.976471   \n17           0.952941           0.917647           0.976471   \n\n    split4_test_score  mean_test_score  std_test_score  rank_test_score  \n0            0.917647         0.908345        0.031195                6  \n1            0.917647         0.908345        0.031195                6  \n2            0.917647         0.910698        0.032235                4  \n3            0.917647         0.908345        0.031195                6  \n4            0.917647         0.908345        0.031195                6  \n5            0.917647         0.908345        0.031195                6  \n6            0.917647         0.908345        0.031195                6  \n7            0.917647         0.908345        0.031195                6  \n8            0.917647         0.908345        0.031195                6  \n9            0.917647         0.910698        0.032235                4  \n10           0.917647         0.908345        0.031195                6  \n11           0.917647         0.908345        0.031195                6  \n12           0.917647         0.908345        0.031195                6  \n13           0.917647         0.908345        0.031195                6  \n14           0.917647         0.908345        0.031195                6  \n15           0.964706         0.952969        0.030710                3  \n16           0.964706         0.957674        0.025375                2  \n17           0.964706         0.957702        0.021868                1  ",
      "text/html": "<div>\n<style scoped>\n    .dataframe tbody tr th:only-of-type {\n        vertical-align: middle;\n    }\n\n    .dataframe tbody tr th {\n        vertical-align: top;\n    }\n\n    .dataframe thead th {\n        text-align: right;\n    }\n</style>\n<table border=\"1\" class=\"dataframe\">\n  <thead>\n    <tr style=\"text-align: right;\">\n      <th></th>\n      <th>mean_fit_time</th>\n      <th>std_fit_time</th>\n      <th>mean_score_time</th>\n      <th>std_score_time</th>\n      <th>param_C</th>\n      <th>param_l1_ratio</th>\n      <th>param_penalty</th>\n      <th>param_solver</th>\n      <th>params</th>\n      <th>split0_test_score</th>\n      <th>split1_test_score</th>\n      <th>split2_test_score</th>\n      <th>split3_test_score</th>\n      <th>split4_test_score</th>\n      <th>mean_test_score</th>\n      <th>std_test_score</th>\n      <th>rank_test_score</th>\n    </tr>\n  </thead>\n  <tbody>\n    <tr>\n      <th>0</th>\n      <td>0.569260</td>\n      <td>0.026074</td>\n      <td>0.003127</td>\n      <td>0.006253</td>\n      <td>0.1</td>\n      <td>0.2</td>\n      <td>elasticnet</td>\n      <td>saga</td>\n      <td>{'C': 0.1, 'l1_ratio': 0.2, 'penalty': 'elasti...</td>\n      <td>0.953488</td>\n      <td>0.858824</td>\n      <td>0.917647</td>\n      <td>0.894118</td>\n      <td>0.917647</td>\n      <td>0.908345</td>\n      <td>0.031195</td>\n      <td>6</td>\n    </tr>\n    <tr>\n      <th>1</th>\n      <td>0.538877</td>\n      <td>0.039774</td>\n      <td>0.001694</td>\n      <td>0.003388</td>\n      <td>0.1</td>\n      <td>0.5</td>\n      <td>elasticnet</td>\n      <td>saga</td>\n      <td>{'C': 0.1, 'l1_ratio': 0.5, 'penalty': 'elasti...</td>\n      <td>0.953488</td>\n      <td>0.858824</td>\n      <td>0.917647</td>\n      <td>0.894118</td>\n      <td>0.917647</td>\n      <td>0.908345</td>\n      <td>0.031195</td>\n      <td>6</td>\n    </tr>\n    <tr>\n      <th>2</th>\n      <td>0.556307</td>\n      <td>0.033059</td>\n      <td>0.000000</td>\n      <td>0.000000</td>\n      <td>0.1</td>\n      <td>0.8</td>\n      <td>elasticnet</td>\n      <td>saga</td>\n      <td>{'C': 0.1, 'l1_ratio': 0.8, 'penalty': 'elasti...</td>\n      <td>0.953488</td>\n      <td>0.858824</td>\n      <td>0.929412</td>\n      <td>0.894118</td>\n      <td>0.917647</td>\n      <td>0.910698</td>\n      <td>0.032235</td>\n      <td>4</td>\n    </tr>\n    <tr>\n      <th>3</th>\n      <td>0.570751</td>\n      <td>0.034795</td>\n      <td>0.000000</td>\n      <td>0.000000</td>\n      <td>1</td>\n      <td>0.2</td>\n      <td>elasticnet</td>\n      <td>saga</td>\n      <td>{'C': 1, 'l1_ratio': 0.2, 'penalty': 'elasticn...</td>\n      <td>0.953488</td>\n      <td>0.858824</td>\n      <td>0.917647</td>\n      <td>0.894118</td>\n      <td>0.917647</td>\n      <td>0.908345</td>\n      <td>0.031195</td>\n      <td>6</td>\n    </tr>\n    <tr>\n      <th>4</th>\n      <td>0.572126</td>\n      <td>0.027388</td>\n      <td>0.000000</td>\n      <td>0.000000</td>\n      <td>1</td>\n      <td>0.5</td>\n      <td>elasticnet</td>\n      <td>saga</td>\n      <td>{'C': 1, 'l1_ratio': 0.5, 'penalty': 'elasticn...</td>\n      <td>0.953488</td>\n      <td>0.858824</td>\n      <td>0.917647</td>\n      <td>0.894118</td>\n      <td>0.917647</td>\n      <td>0.908345</td>\n      <td>0.031195</td>\n      <td>6</td>\n    </tr>\n    <tr>\n      <th>5</th>\n      <td>0.600482</td>\n      <td>0.026765</td>\n      <td>0.000000</td>\n      <td>0.000000</td>\n      <td>1</td>\n      <td>0.8</td>\n      <td>elasticnet</td>\n      <td>saga</td>\n      <td>{'C': 1, 'l1_ratio': 0.8, 'penalty': 'elasticn...</td>\n      <td>0.953488</td>\n      <td>0.858824</td>\n      <td>0.917647</td>\n      <td>0.894118</td>\n      <td>0.917647</td>\n      <td>0.908345</td>\n      <td>0.031195</td>\n      <td>6</td>\n    </tr>\n    <tr>\n      <th>6</th>\n      <td>0.582825</td>\n      <td>0.012086</td>\n      <td>0.003125</td>\n      <td>0.006250</td>\n      <td>10</td>\n      <td>0.2</td>\n      <td>elasticnet</td>\n      <td>saga</td>\n      <td>{'C': 10, 'l1_ratio': 0.2, 'penalty': 'elastic...</td>\n      <td>0.953488</td>\n      <td>0.858824</td>\n      <td>0.917647</td>\n      <td>0.894118</td>\n      <td>0.917647</td>\n      <td>0.908345</td>\n      <td>0.031195</td>\n      <td>6</td>\n    </tr>\n    <tr>\n      <th>7</th>\n      <td>0.587619</td>\n      <td>0.028701</td>\n      <td>0.000000</td>\n      <td>0.000000</td>\n      <td>10</td>\n      <td>0.5</td>\n      <td>elasticnet</td>\n      <td>saga</td>\n      <td>{'C': 10, 'l1_ratio': 0.5, 'penalty': 'elastic...</td>\n      <td>0.953488</td>\n      <td>0.858824</td>\n      <td>0.917647</td>\n      <td>0.894118</td>\n      <td>0.917647</td>\n      <td>0.908345</td>\n      <td>0.031195</td>\n      <td>6</td>\n    </tr>\n    <tr>\n      <th>8</th>\n      <td>0.618368</td>\n      <td>0.035055</td>\n      <td>0.000000</td>\n      <td>0.000000</td>\n      <td>10</td>\n      <td>0.8</td>\n      <td>elasticnet</td>\n      <td>saga</td>\n      <td>{'C': 10, 'l1_ratio': 0.8, 'penalty': 'elastic...</td>\n      <td>0.953488</td>\n      <td>0.858824</td>\n      <td>0.917647</td>\n      <td>0.894118</td>\n      <td>0.917647</td>\n      <td>0.908345</td>\n      <td>0.031195</td>\n      <td>6</td>\n    </tr>\n    <tr>\n      <th>9</th>\n      <td>0.549755</td>\n      <td>0.022838</td>\n      <td>0.000000</td>\n      <td>0.000000</td>\n      <td>0.1</td>\n      <td>NaN</td>\n      <td>l1</td>\n      <td>saga</td>\n      <td>{'C': 0.1, 'penalty': 'l1', 'solver': 'saga'}</td>\n      <td>0.953488</td>\n      <td>0.858824</td>\n      <td>0.929412</td>\n      <td>0.894118</td>\n      <td>0.917647</td>\n      <td>0.910698</td>\n      <td>0.032235</td>\n      <td>4</td>\n    </tr>\n    <tr>\n      <th>10</th>\n      <td>0.533285</td>\n      <td>0.028588</td>\n      <td>0.000000</td>\n      <td>0.000000</td>\n      <td>0.1</td>\n      <td>NaN</td>\n      <td>l2</td>\n      <td>saga</td>\n      <td>{'C': 0.1, 'penalty': 'l2', 'solver': 'saga'}</td>\n      <td>0.953488</td>\n      <td>0.858824</td>\n      <td>0.917647</td>\n      <td>0.894118</td>\n      <td>0.917647</td>\n      <td>0.908345</td>\n      <td>0.031195</td>\n      <td>6</td>\n    </tr>\n    <tr>\n      <th>11</th>\n      <td>0.549812</td>\n      <td>0.031926</td>\n      <td>0.000000</td>\n      <td>0.000000</td>\n      <td>1</td>\n      <td>NaN</td>\n      <td>l1</td>\n      <td>saga</td>\n      <td>{'C': 1, 'penalty': 'l1', 'solver': 'saga'}</td>\n      <td>0.953488</td>\n      <td>0.858824</td>\n      <td>0.917647</td>\n      <td>0.894118</td>\n      <td>0.917647</td>\n      <td>0.908345</td>\n      <td>0.031195</td>\n      <td>6</td>\n    </tr>\n    <tr>\n      <th>12</th>\n      <td>0.497438</td>\n      <td>0.029834</td>\n      <td>0.003220</td>\n      <td>0.006191</td>\n      <td>1</td>\n      <td>NaN</td>\n      <td>l2</td>\n      <td>saga</td>\n      <td>{'C': 1, 'penalty': 'l2', 'solver': 'saga'}</td>\n      <td>0.953488</td>\n      <td>0.858824</td>\n      <td>0.917647</td>\n      <td>0.894118</td>\n      <td>0.917647</td>\n      <td>0.908345</td>\n      <td>0.031195</td>\n      <td>6</td>\n    </tr>\n    <tr>\n      <th>13</th>\n      <td>0.596807</td>\n      <td>0.042212</td>\n      <td>0.000000</td>\n      <td>0.000000</td>\n      <td>10</td>\n      <td>NaN</td>\n      <td>l1</td>\n      <td>saga</td>\n      <td>{'C': 10, 'penalty': 'l1', 'solver': 'saga'}</td>\n      <td>0.953488</td>\n      <td>0.858824</td>\n      <td>0.917647</td>\n      <td>0.894118</td>\n      <td>0.917647</td>\n      <td>0.908345</td>\n      <td>0.031195</td>\n      <td>6</td>\n    </tr>\n    <tr>\n      <th>14</th>\n      <td>0.502775</td>\n      <td>0.038804</td>\n      <td>0.002901</td>\n      <td>0.005802</td>\n      <td>10</td>\n      <td>NaN</td>\n      <td>l2</td>\n      <td>saga</td>\n      <td>{'C': 10, 'penalty': 'l2', 'solver': 'saga'}</td>\n      <td>0.953488</td>\n      <td>0.858824</td>\n      <td>0.917647</td>\n      <td>0.894118</td>\n      <td>0.917647</td>\n      <td>0.908345</td>\n      <td>0.031195</td>\n      <td>6</td>\n    </tr>\n    <tr>\n      <th>15</th>\n      <td>0.268719</td>\n      <td>0.043038</td>\n      <td>0.000000</td>\n      <td>0.000000</td>\n      <td>0.1</td>\n      <td>NaN</td>\n      <td>l2</td>\n      <td>lbfgs</td>\n      <td>{'C': 0.1, 'penalty': 'l2', 'solver': 'lbfgs'}</td>\n      <td>0.988372</td>\n      <td>0.929412</td>\n      <td>0.905882</td>\n      <td>0.976471</td>\n      <td>0.964706</td>\n      <td>0.952969</td>\n      <td>0.030710</td>\n      <td>3</td>\n    </tr>\n    <tr>\n      <th>16</th>\n      <td>0.617792</td>\n      <td>0.119163</td>\n      <td>0.000000</td>\n      <td>0.000000</td>\n      <td>1</td>\n      <td>NaN</td>\n      <td>l2</td>\n      <td>lbfgs</td>\n      <td>{'C': 1, 'penalty': 'l2', 'solver': 'lbfgs'}</td>\n      <td>0.988372</td>\n      <td>0.941176</td>\n      <td>0.917647</td>\n      <td>0.976471</td>\n      <td>0.964706</td>\n      <td>0.957674</td>\n      <td>0.025375</td>\n      <td>2</td>\n    </tr>\n    <tr>\n      <th>17</th>\n      <td>1.156995</td>\n      <td>0.400905</td>\n      <td>0.000000</td>\n      <td>0.000000</td>\n      <td>10</td>\n      <td>NaN</td>\n      <td>l2</td>\n      <td>lbfgs</td>\n      <td>{'C': 10, 'penalty': 'l2', 'solver': 'lbfgs'}</td>\n      <td>0.976744</td>\n      <td>0.952941</td>\n      <td>0.917647</td>\n      <td>0.976471</td>\n      <td>0.964706</td>\n      <td>0.957702</td>\n      <td>0.021868</td>\n      <td>1</td>\n    </tr>\n  </tbody>\n</table>\n</div>"
     },
     "execution_count": 19,
     "metadata": {},
     "output_type": "execute_result"
    }
   ],
   "source": [
    "param_grid1 = [\n",
    "    {'solver': ['saga'], 'C': [0.1, 1, 10], 'penalty': ['elasticnet'], 'l1_ratio': [0.2, 0.5, 0.8]},\n",
    "    {'solver': ['saga'], 'C': [0.1, 1, 10], 'penalty': ['l1', 'l2']},\n",
    "    {'solver': ['lbfgs'], 'C': [0.1, 1, 10], 'penalty': ['l2']}\n",
    "]\n",
    "grid_search1 = GridSearchCV(LogisticRegression(max_iter=10000), param_grid1, cv=5)\n",
    "grid_search1.fit(X_trainval, y_trainval)\n",
    "\n",
    "print('best param values: {}'.format(grid_search1.best_params_))\n",
    "print('best cross-val accuracy value: {:.2f}'.format(grid_search1.best_score_))\n",
    "\n",
    "ress1 = pd.DataFrame(grid_search1.cv_results_)\n",
    "ress1"
   ],
   "metadata": {
    "collapsed": false,
    "ExecuteTime": {
     "end_time": "2023-12-05T14:41:29.706979700Z",
     "start_time": "2023-12-05T14:40:35.603564500Z"
    }
   },
   "id": "85a89bf42ea7d785"
  },
  {
   "cell_type": "code",
   "execution_count": 20,
   "outputs": [],
   "source": [
    "def nested_cv(X, y, inner_cv, outer_cv, Classifier, parameter_grid):\n",
    "    outer_scores = []\n",
    "\n",
    "    for training_samples, test_samples in outer_cv.split(X, y):\n",
    "\n",
    "        best_score = -np.inf\n",
    "        for parameters in parameter_grid:\n",
    "            cv_scores = []\n",
    "\n",
    "            for inner_train, inner_test in inner_cv.split(X[training_samples], y[training_samples]):\n",
    "                clf = Classifier(**parameters)\n",
    "                clf.fit(X[inner_train], y[inner_train])\n",
    "                score = clf.score(X[inner_test], y[inner_test])\n",
    "                cv_scores.append(score)\n",
    "            mean_score = np.mean(cv_scores)\n",
    "            if mean_score > best_score:\n",
    "                best_score = mean_score\n",
    "                best_params = parameters\n",
    "\n",
    "        clf = Classifier(**best_params)\n",
    "        clf.fit(X[training_samples], y[training_samples])\n",
    "        outer_scores.append(clf.score(X[test_samples], y[test_samples]))\n",
    "    return np.array(outer_scores)"
   ],
   "metadata": {
    "collapsed": false,
    "ExecuteTime": {
     "end_time": "2023-12-05T14:42:02.983975Z",
     "start_time": "2023-12-05T14:42:02.968315100Z"
    }
   },
   "id": "8f76ddd88fb7f27c"
  },
  {
   "cell_type": "code",
   "execution_count": 21,
   "outputs": [
    {
     "name": "stdout",
     "output_type": "stream",
     "text": [
      "cross validation accuracy values: [0.93859649 0.93859649 0.97368421 0.94736842 0.95575221]\n"
     ]
    }
   ],
   "source": [
    "from sklearn.model_selection import ParameterGrid, StratifiedKFold\n",
    "\n",
    "sco = nested_cv(breast_cancer.data, breast_cancer.target, StratifiedKFold(5), StratifiedKFold(5), SVC,\n",
    "                ParameterGrid(param_grid))\n",
    "\n",
    "print('cross validation accuracy values: {}'.format(sco))"
   ],
   "metadata": {
    "collapsed": false,
    "ExecuteTime": {
     "end_time": "2023-12-05T14:47:05.825173700Z",
     "start_time": "2023-12-05T14:42:04.473350500Z"
    }
   },
   "id": "cbe8edf0444cd74e"
  },
  {
   "cell_type": "markdown",
   "source": [
    "<p>Model Evaluation Metrics</p>"
   ],
   "metadata": {
    "collapsed": false
   },
   "id": "1174d8924ecbb251"
  },
  {
   "cell_type": "code",
   "execution_count": 22,
   "outputs": [
    {
     "name": "stdout",
     "output_type": "stream",
     "text": [
      "(array([0, 1]), array([212, 357], dtype=int64))\n"
     ]
    }
   ],
   "source": [
    "print(np.unique(y, return_counts=True))"
   ],
   "metadata": {
    "collapsed": false,
    "ExecuteTime": {
     "end_time": "2023-12-05T14:48:18.281561Z",
     "start_time": "2023-12-05T14:48:18.236688800Z"
    }
   },
   "id": "695598bb5ad45839"
  },
  {
   "cell_type": "code",
   "execution_count": 23,
   "outputs": [
    {
     "name": "stdout",
     "output_type": "stream",
     "text": [
      "accuracy of the trained model is 0.958\n"
     ]
    }
   ],
   "source": [
    "from sklearn.metrics import accuracy_score\n",
    "\n",
    "logreg.fit(X, y)\n",
    "y_pred = logreg.predict(X)\n",
    "print('accuracy of the trained model is', round(accuracy_score(y, y_pred), 3))"
   ],
   "metadata": {
    "collapsed": false,
    "ExecuteTime": {
     "end_time": "2023-12-05T15:11:45.875034500Z",
     "start_time": "2023-12-05T15:11:45.049609500Z"
    }
   },
   "id": "cec901fa95a88f2d"
  },
  {
   "cell_type": "code",
   "execution_count": 36,
   "outputs": [
    {
     "name": "stdout",
     "output_type": "stream",
     "text": [
      "(array([0, 1]), array([ 50, 357], dtype=int64))\n",
      "(array([1]), array([407], dtype=int64))\n",
      "accuracy of the dummy classifier is 0.88\n"
     ]
    }
   ],
   "source": [
    "from sklearn.dummy import DummyClassifier\n",
    "\n",
    "X_malignant = X[y == 0]\n",
    "y_malignant = y[y == 0]\n",
    "X_benign = X[y == 1]\n",
    "y_benign = y[y == 1]\n",
    "X_new = np.r_[X_benign, X_malignant[:50]]\n",
    "y_new = np.r_[y_benign, y_malignant[:50]]\n",
    "print(np.unique(y_new, return_counts=True))\n",
    "\n",
    "# dummy classifier always predicts the most frequent value occurred in the training set and its accuracy of 88%.\n",
    "# which means that the accuracy can't be used to evaluate model trained on imbalanced data set\n",
    "dummy = DummyClassifier(strategy='most_frequent')\n",
    "dummy.fit(X_new, y_new)\n",
    "pred_dummy = dummy.predict(X_new)\n",
    "\n",
    "print(np.unique(pred_dummy, return_counts=True))\n",
    "print('accuracy of the dummy classifier is', round(accuracy_score(y_new, pred_dummy), 2))"
   ],
   "metadata": {
    "collapsed": false,
    "ExecuteTime": {
     "end_time": "2023-12-05T06:13:30.195263100Z",
     "start_time": "2023-12-05T06:13:30.155371800Z"
    }
   },
   "id": "a9a8b7c6f509e259"
  },
  {
   "cell_type": "code",
   "execution_count": 40,
   "outputs": [
    {
     "name": "stdout",
     "output_type": "stream",
     "text": [
      "[[200  12]\n",
      " [  9 348]]\n",
      "accuracy score of the model is 0.96\n"
     ]
    }
   ],
   "source": [
    "from sklearn.metrics import confusion_matrix\n",
    "\n",
    "# the log reg model correctly classified 200 out of 212 examples as malignant tumor and 348 out of 357 as benign\n",
    "# 12 of the harmful tumors were predicted as harmless and 9 harmless ones as harmful\n",
    "matrix_c = confusion_matrix(y, y_pred)\n",
    "print(matrix_c)\n",
    "print('accuracy score of the model is', round(accuracy_score(y_pred, y), 2))"
   ],
   "metadata": {
    "collapsed": false,
    "ExecuteTime": {
     "end_time": "2023-12-05T07:08:25.195166600Z",
     "start_time": "2023-12-05T07:08:25.163924300Z"
    }
   },
   "id": "4853a3d68515d8bb"
  },
  {
   "cell_type": "code",
   "execution_count": 41,
   "outputs": [
    {
     "data": {
      "text/plain": "<Axes: >"
     },
     "execution_count": 41,
     "metadata": {},
     "output_type": "execute_result"
    },
    {
     "data": {
      "text/plain": "<Figure size 640x480 with 2 Axes>",
      "image/png": "[encoded data removed]"
     },
     "metadata": {},
     "output_type": "display_data"
    }
   ],
   "source": [
    "import seaborn as sns\n",
    "\n",
    "sns.heatmap(matrix_c, annot=True)"
   ],
   "metadata": {
    "collapsed": false,
    "ExecuteTime": {
     "end_time": "2023-12-05T07:10:11.800342400Z",
     "start_time": "2023-12-05T07:10:11.153313700Z"
    }
   },
   "id": "ef22b1421a05a890"
  },
  {
   "cell_type": "code",
   "execution_count": 42,
   "outputs": [
    {
     "name": "stdout",
     "output_type": "stream",
     "text": [
      "              precision    recall  f1-score   support\n",
      "\n",
      "           0       0.96      0.94      0.95       212\n",
      "           1       0.97      0.97      0.97       357\n",
      "\n",
      "    accuracy                           0.96       569\n",
      "   macro avg       0.96      0.96      0.96       569\n",
      "weighted avg       0.96      0.96      0.96       569\n"
     ]
    }
   ],
   "source": [
    "from sklearn.metrics import classification_report\n",
    "\n",
    "print(classification_report(y, y_pred))"
   ],
   "metadata": {
    "collapsed": false,
    "ExecuteTime": {
     "end_time": "2023-12-05T07:11:56.648133500Z",
     "start_time": "2023-12-05T07:11:56.523083Z"
    }
   },
   "id": "e8c0575cd356f88f"
  },
  {
   "cell_type": "markdown",
   "source": [
    "\n",
    "Исследование проведено на наборе данных о раке груди (Breast Cancer), содержащем информацию о различных характеристиках опухолей. Построение модели для классификации опухолей на доброкачественные (1) и злокачественные (0).\n",
    "\n",
    "Предобработка данных: Загружены данные и разделены на признаки (X) и метки (y).\n",
    "\n",
    "Построена модель логистической регрессии с использованием кросс-валидации. Результаты оценки производительности модели:\n",
    "Средняя точность на кросс-валидации (5 folds): 0.98.\n",
    "\n",
    "Применена стратифицированная кросс-валидация (3 folds) и обычная KFold (3 folds). Стратифицированная кросс-валидация дала схожую среднюю точность (0.98), что подтверждает устойчивость модели.\n",
    "\n",
    "Использован метод Leave-One-Out для кросс-валидации, создавая 569 итераций. Shuffle-Split применен с 10 случайными перестановками. Средние точности составили на loo - 0.98 и Shuffle-Splitи - 0.97.\n",
    "\n",
    "Применен Grid Search для оптимизации параметров логистической регрессии и метода опорных векторов (SVM). Также найдены лучшие параметры для каждой модели.\n",
    "Протестированы модели SVC и DecisionTreeClassifier.\n",
    "\n",
    "Проведено тестирование лучших моделей (логистической регрессии и SVM) на отложенном тестовом наборе данных. Достигнута точность примерно 0.94.\n",
    "\n",
    "Построена матрица ошибок и classification report для оценки качества модели. Достигнута высокая точность, полнота и F1-мера для обоих классов.\n",
    "\n",
    "Построены и оценены различные модели с использованием кросс-валидации и Grid Search. Выбранная лучшая модель (логистическая регрессия) показала высокую производительность на тестовом наборе данных. Учтен дисбаланс классов, и оценка модели проведена с использованием различных метрик.\n",
    "\n",
    "Полученные результаты могут быть использованы для прогнозирования типа опухоли на основе предоставленных характеристик."
   ],
   "metadata": {
    "collapsed": false
   },
   "id": "3858928c49ca670f"
  },
  {
   "cell_type": "code",
   "execution_count": null,
   "outputs": [],
   "source": [],
   "metadata": {
    "collapsed": false
   },
   "id": "1be9334e7bfb57de"
  }
 ],
 "metadata": {
  "kernelspec": {
   "display_name": "Python 3",
   "language": "python",
   "name": "python3"
  },
  "language_info": {
   "codemirror_mode": {
    "name": "ipython",
    "version": 2
   },
   "file_extension": ".py",
   "mimetype": "text/x-python",
   "name": "python",
   "nbconvert_exporter": "python",
   "pygments_lexer": "ipython2",
   "version": "2.7.6"
  }
 },
 "nbformat": 4,
 "nbformat_minor": 5
}
