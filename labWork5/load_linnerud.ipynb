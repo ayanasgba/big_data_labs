{
 "cells": [
  {
   "cell_type": "markdown",
   "source": [
    "<h2>Лабораторная работа №5</h2>\n",
    "<h1 style=\"font-size: 30px; font-family: Georgia, serif;\">Изучение моделей классификации и регрессии. </h1>\n",
    "\n",
    "<h2>1. Набор данных диабета </h2>"
   ],
   "metadata": {
    "collapsed": false
   },
   "id": "c229e6fe8e83e7a6"
  },
  {
   "cell_type": "code",
   "execution_count": null,
   "id": "initial_id",
   "metadata": {
    "collapsed": true
   },
   "outputs": [],
   "source": [
    "from sklearn.neighbors import KNeighborsRegressor\n",
    "\n",
    "X, y = diabetes.data, diabetes.target\n",
    "\n",
    "# Choose two features for visualization\n",
    "feature_1 = 2  # Change these indices to visualize different features\n",
    "feature_2 = 8  # Change these indices to visualize different features\n",
    "\n",
    "X_sub = X[:, [feature_1, feature_2]]\n",
    "\n",
    "fig, axes = plt.subplots(1, 3, figsize=(15, 4))\n",
    "\n",
    "for n_neighbors, ax in zip([1, 3, 9], axes):\n",
    "    knn = KNeighborsRegressor(n_neighbors=n_neighbors)\n",
    "    knn.fit(X_sub, y)\n",
    "    \n",
    "    x_min, x_max = X_sub[:, 0].min() - 1, X_sub[:, 0].max() + 1\n",
    "    y_min, y_max = X_sub[:, 1].min() - 1, X_sub[:, 1].max() + 1\n",
    "    xx, yy = np.meshgrid(np.arange(x_min, x_max, 0.1),\n",
    "                         np.arange(y_min, y_max, 0.1))\n",
    "    \n",
    "    Z = knn.predict(np.c_[xx.ravel(), yy.ravel()])\n",
    "    Z = Z.reshape(xx.shape)\n",
    "    \n",
    "    ax.contourf(xx, yy, Z, alpha=0.4)\n",
    "    ax.scatter(X_sub[:, 0], X_sub[:, 1], c=y, edgecolor='k')\n",
    "    \n",
    "    ax.set_title(\"Number of neighbors: {}\".format(n_neighbors))\n",
    "    ax.set_xlabel(\"Feature {}\".format(feature_1))\n",
    "    ax.set_ylabel(\"Feature {}\".format(feature_2))\n",
    "\n",
    "plt.tight_layout()\n",
    "plt.show()\n"
   ]
  },
  {
   "cell_type": "code",
   "execution_count": null,
   "outputs": [],
   "source": [
    "from sklearn.neighbors import KNeighborsRegressor\n",
    "\n",
    "X, y = diabetes.data, diabetes.target\n",
    "\n",
    "# Choose two features for visualization\n",
    "feature_1 = 2  # Change these indices to visualize different features\n",
    "feature_2 = 8  # Change these indices to visualize different features\n",
    "\n",
    "X_sub = X[:, [2,8]]\n",
    "\n",
    "fig, axes = plt.subplots(1, 3, figsize=(15, 4))\n",
    "\n",
    "for n_neighbors, ax in zip([1, 3, 9], axes):\n",
    "    knn = KNeighborsRegressor(n_neighbors=n_neighbors)\n",
    "    knn.fit(X_sub, y)\n",
    "    \n",
    "    mglearn.tools.plot_2d_classification(knn, X_sub, ax=ax, eps=0.5)\n",
    "    \n",
    "    ax.set_title(\"Number of neighbors: {}\".format(n_neighbors))\n",
    "    ax.set_xlabel(\"Feature {}\".format(feature_1))\n",
    "    ax.set_ylabel(\"Feature {}\".format(feature_2))\n",
    "\n",
    "plt.tight_layout()\n",
    "plt.show()"
   ],
   "metadata": {
    "collapsed": false
   },
   "id": "6fcbc9e48b360703"
  }
 ],
 "metadata": {
  "kernelspec": {
   "display_name": "Python 3",
   "language": "python",
   "name": "python3"
  },
  "language_info": {
   "codemirror_mode": {
    "name": "ipython",
    "version": 2
   },
   "file_extension": ".py",
   "mimetype": "text/x-python",
   "name": "python",
   "nbconvert_exporter": "python",
   "pygments_lexer": "ipython2",
   "version": "2.7.6"
  }
 },
 "nbformat": 4,
 "nbformat_minor": 5
}
