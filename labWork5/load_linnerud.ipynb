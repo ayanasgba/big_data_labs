{
 "cells": [
  {
   "cell_type": "markdown",
   "source": [
    "<h2>Лабораторная работа №5</h2>\n",
    "<h1 style=\"font-size: 30px; font-family: Georgia, serif;\">Изучение моделей классификации и регрессии. </h1>\n",
    "\n",
    "<h2>1. Набор данных диабета </h2>"
   ],
   "metadata": {
    "collapsed": false
   },
   "id": "c229e6fe8e83e7a6"
  },
  {
   "cell_type": "code",
   "execution_count": null,
   "id": "initial_id",
   "metadata": {
    "collapsed": true
   },
   "outputs": [],
   "source": []
  }
 ],
 "metadata": {
  "kernelspec": {
   "display_name": "Python 3",
   "language": "python",
   "name": "python3"
  },
  "language_info": {
   "codemirror_mode": {
    "name": "ipython",
    "version": 2
   },
   "file_extension": ".py",
   "mimetype": "text/x-python",
   "name": "python",
   "nbconvert_exporter": "python",
   "pygments_lexer": "ipython2",
   "version": "2.7.6"
  }
 },
 "nbformat": 4,
 "nbformat_minor": 5
}
