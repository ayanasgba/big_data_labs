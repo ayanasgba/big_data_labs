{
 "cells": [
  {
   "cell_type": "markdown",
   "source": [
    "<h1>Лабораторная работа №2</h1>\n",
    "<h1>Работа с библиотеками NumPy, Pandas</h1>\n",
    "<h2>Практика по лекции. (Домашнее задание находится ниже)</h2>"
   ],
   "metadata": {
    "collapsed": false
   },
   "id": "2dbbd0358cae738c"
  },
  {
   "cell_type": "markdown",
   "source": [
    "<h3>Подключение библиотеки NumPy</h3>"
   ],
   "metadata": {
    "collapsed": false
   },
   "id": "15a78241076c8c95"
  },
  {
   "cell_type": "code",
   "execution_count": 1,
   "id": "initial_id",
   "metadata": {
    "collapsed": true,
    "ExecuteTime": {
     "end_time": "2023-10-03T09:18:43.584967800Z",
     "start_time": "2023-10-03T09:18:42.030074700Z"
    }
   },
   "outputs": [],
   "source": [
    "import numpy as np"
   ]
  },
  {
   "cell_type": "markdown",
   "source": [
    "<h3>Работа с библиотекой NumPy</h3>"
   ],
   "metadata": {
    "collapsed": false
   },
   "id": "96f4ed95f8d09905"
  },
  {
   "cell_type": "code",
   "execution_count": 2,
   "outputs": [
    {
     "data": {
      "text/plain": "array([11, 12, 13, 14])"
     },
     "execution_count": 2,
     "metadata": {},
     "output_type": "execute_result"
    }
   ],
   "source": [
    "a = np.array([11,12,13,14])\n",
    "a"
   ],
   "metadata": {
    "collapsed": false,
    "ExecuteTime": {
     "end_time": "2023-10-03T09:18:43.584967800Z",
     "start_time": "2023-10-03T09:18:42.877795300Z"
    }
   },
   "id": "db0d5afceefc5d9a"
  },
  {
   "cell_type": "code",
   "execution_count": 3,
   "outputs": [
    {
     "data": {
      "text/plain": "array([[11.1, 22.2],\n       [33.3, 44.4]])"
     },
     "execution_count": 3,
     "metadata": {},
     "output_type": "execute_result"
    }
   ],
   "source": [
    "b = np.array([[11.1, 22.2],[33.3,44.4]])\n",
    "b"
   ],
   "metadata": {
    "collapsed": false,
    "ExecuteTime": {
     "end_time": "2023-10-03T09:18:43.599975900Z",
     "start_time": "2023-10-03T09:18:42.894377400Z"
    }
   },
   "id": "f95abee573ea32c5"
  },
  {
   "cell_type": "code",
   "execution_count": 4,
   "outputs": [
    {
     "data": {
      "text/plain": "array([[11, 22, 33],\n       [44, 55, 66]])"
     },
     "execution_count": 4,
     "metadata": {},
     "output_type": "execute_result"
    }
   ],
   "source": [
    "c = np.array([[11,22,33],[44,55,66]])\n",
    "c"
   ],
   "metadata": {
    "collapsed": false,
    "ExecuteTime": {
     "end_time": "2023-10-03T09:18:43.599975900Z",
     "start_time": "2023-10-03T09:18:42.909393900Z"
    }
   },
   "id": "af73ee3754e34831"
  },
  {
   "cell_type": "code",
   "execution_count": 5,
   "outputs": [
    {
     "data": {
      "text/plain": "array([[10, 20, 30],\n       [40, 50, 60]])"
     },
     "execution_count": 5,
     "metadata": {},
     "output_type": "execute_result"
    }
   ],
   "source": [
    "d = np.array(((10,20,30),(40,50,60)))\n",
    "d"
   ],
   "metadata": {
    "collapsed": false,
    "ExecuteTime": {
     "end_time": "2023-10-03T09:18:43.599975900Z",
     "start_time": "2023-10-03T09:18:42.925348400Z"
    }
   },
   "id": "c195de2bb6217089"
  },
  {
   "cell_type": "code",
   "execution_count": 6,
   "outputs": [
    {
     "data": {
      "text/plain": "array([[10, 20, 30],\n       [40, 50, 60],\n       [70, 80, 90]])"
     },
     "execution_count": 6,
     "metadata": {},
     "output_type": "execute_result"
    }
   ],
   "source": [
    "e = np.array([(10,20,30),(40,50,60),(70,80,90)])\n",
    "e"
   ],
   "metadata": {
    "collapsed": false,
    "ExecuteTime": {
     "end_time": "2023-10-03T09:18:43.599975900Z",
     "start_time": "2023-10-03T09:18:42.950980100Z"
    }
   },
   "id": "eac57a29372a5903"
  },
  {
   "cell_type": "code",
   "execution_count": 7,
   "outputs": [
    {
     "data": {
      "text/plain": "array([[11., 22., 33.],\n       [44., 55., 66.]])"
     },
     "execution_count": 7,
     "metadata": {},
     "output_type": "execute_result"
    }
   ],
   "source": [
    "f = np.array(((11,22,33),(44,55,66)),dtype=float)\n",
    "f"
   ],
   "metadata": {
    "collapsed": false,
    "ExecuteTime": {
     "end_time": "2023-10-03T09:18:43.599975900Z",
     "start_time": "2023-10-03T09:18:42.966597200Z"
    }
   },
   "id": "7f2613bc6ecf41ec"
  },
  {
   "cell_type": "code",
   "execution_count": 8,
   "outputs": [
    {
     "data": {
      "text/plain": "array([[0., 0., 0., 0.],\n       [0., 0., 0., 0.],\n       [0., 0., 0., 0.],\n       [0., 0., 0., 0.]])"
     },
     "execution_count": 8,
     "metadata": {},
     "output_type": "execute_result"
    }
   ],
   "source": [
    "np.zeros((4,4))"
   ],
   "metadata": {
    "collapsed": false,
    "ExecuteTime": {
     "end_time": "2023-10-03T09:18:43.599975900Z",
     "start_time": "2023-10-03T09:18:42.982229300Z"
    }
   },
   "id": "6a273ac90468348c"
  },
  {
   "cell_type": "code",
   "execution_count": 9,
   "outputs": [
    {
     "data": {
      "text/plain": "array([[1., 1., 1., 1.],\n       [1., 1., 1., 1.],\n       [1., 1., 1., 1.],\n       [1., 1., 1., 1.]])"
     },
     "execution_count": 9,
     "metadata": {},
     "output_type": "execute_result"
    }
   ],
   "source": [
    "np.ones((4,4))"
   ],
   "metadata": {
    "collapsed": false,
    "ExecuteTime": {
     "end_time": "2023-10-03T09:18:43.615621500Z",
     "start_time": "2023-10-03T09:18:42.997851500Z"
    }
   },
   "id": "a8150c8fcc00eda"
  },
  {
   "cell_type": "code",
   "execution_count": 10,
   "outputs": [
    {
     "data": {
      "text/plain": "array([0, 1, 2, 3, 4, 5, 6, 7])"
     },
     "execution_count": 10,
     "metadata": {},
     "output_type": "execute_result"
    }
   ],
   "source": [
    "np.arange(0,8)"
   ],
   "metadata": {
    "collapsed": false,
    "ExecuteTime": {
     "end_time": "2023-10-03T09:18:43.615621500Z",
     "start_time": "2023-10-03T09:18:43.013475600Z"
    }
   },
   "id": "33eaaf3d738ebf0"
  },
  {
   "cell_type": "code",
   "execution_count": 11,
   "outputs": [
    {
     "data": {
      "text/plain": "array([5, 6, 7, 8])"
     },
     "execution_count": 11,
     "metadata": {},
     "output_type": "execute_result"
    }
   ],
   "source": [
    "np.arange(5,9)"
   ],
   "metadata": {
    "collapsed": false,
    "ExecuteTime": {
     "end_time": "2023-10-03T09:18:43.631241Z",
     "start_time": "2023-10-03T09:18:43.029096700Z"
    }
   },
   "id": "b4551c3b4d3f3283"
  },
  {
   "cell_type": "code",
   "execution_count": 12,
   "outputs": [
    {
     "data": {
      "text/plain": "array([ 1,  3,  5,  7,  9, 11])"
     },
     "execution_count": 12,
     "metadata": {},
     "output_type": "execute_result"
    }
   ],
   "source": [
    "np.arange(1,12,2)"
   ],
   "metadata": {
    "collapsed": false,
    "ExecuteTime": {
     "end_time": "2023-10-03T09:18:43.631241Z",
     "start_time": "2023-10-03T09:18:43.044974100Z"
    }
   },
   "id": "c00307dd138d20b2"
  },
  {
   "cell_type": "code",
   "execution_count": 13,
   "outputs": [
    {
     "data": {
      "text/plain": "array([ 1. ,  3.5,  6. ,  8.5, 11. ])"
     },
     "execution_count": 13,
     "metadata": {},
     "output_type": "execute_result"
    }
   ],
   "source": [
    "np.arange(1,12,2.5)"
   ],
   "metadata": {
    "collapsed": false,
    "ExecuteTime": {
     "end_time": "2023-10-03T09:18:43.631241Z",
     "start_time": "2023-10-03T09:18:43.060598100Z"
    }
   },
   "id": "59c838fe89280377"
  },
  {
   "cell_type": "code",
   "execution_count": 14,
   "outputs": [
    {
     "data": {
      "text/plain": "array([[ 0,  1,  2,  3,  4,  5,  6,  7],\n       [ 8,  9, 10, 11, 12, 13, 14, 15],\n       [16, 17, 18, 19, 20, 21, 22, 23]])"
     },
     "execution_count": 14,
     "metadata": {},
     "output_type": "execute_result"
    }
   ],
   "source": [
    "np.arange(0,24).reshape(3,8)"
   ],
   "metadata": {
    "collapsed": false,
    "ExecuteTime": {
     "end_time": "2023-10-03T09:18:43.631241Z",
     "start_time": "2023-10-03T09:18:43.076219100Z"
    }
   },
   "id": "6aab403db5fc8087"
  },
  {
   "cell_type": "code",
   "execution_count": 15,
   "outputs": [
    {
     "data": {
      "text/plain": "array([ 10.,  25.,  40.,  55.,  70.,  85., 100.])"
     },
     "execution_count": 15,
     "metadata": {},
     "output_type": "execute_result"
    }
   ],
   "source": [
    "np.linspace(10,100,7)"
   ],
   "metadata": {
    "collapsed": false,
    "ExecuteTime": {
     "end_time": "2023-10-03T09:18:43.631241Z",
     "start_time": "2023-10-03T09:18:43.091847100Z"
    }
   },
   "id": "fb0c1da96e5f9144"
  },
  {
   "cell_type": "code",
   "execution_count": 16,
   "outputs": [
    {
     "data": {
      "text/plain": "array([0.35971492, 0.59290021, 0.89054921, 0.16816924, 0.84593692])"
     },
     "execution_count": 16,
     "metadata": {},
     "output_type": "execute_result"
    }
   ],
   "source": [
    "np.random.random(5)\n"
   ],
   "metadata": {
    "collapsed": false,
    "ExecuteTime": {
     "end_time": "2023-10-03T09:18:43.631241Z",
     "start_time": "2023-10-03T09:18:43.107473100Z"
    }
   },
   "id": "acface44db3f91a6"
  },
  {
   "cell_type": "code",
   "execution_count": 17,
   "outputs": [
    {
     "data": {
      "text/plain": "array([[0.4351119 , 0.54577162, 0.84756688, 0.79175604],\n       [0.19400211, 0.17929242, 0.45554571, 0.63493142],\n       [0.31703673, 0.59478412, 0.83429421, 0.93899916],\n       [0.1816947 , 0.95822988, 0.75529481, 0.06646754],\n       [0.23336037, 0.37834422, 0.50184595, 0.2215742 ]])"
     },
     "execution_count": 17,
     "metadata": {},
     "output_type": "execute_result"
    }
   ],
   "source": [
    "np.random.random((5,4))\n"
   ],
   "metadata": {
    "collapsed": false,
    "ExecuteTime": {
     "end_time": "2023-10-03T09:18:43.631241Z",
     "start_time": "2023-10-03T09:18:43.130160900Z"
    }
   },
   "id": "c4466c27e3735ccb"
  },
  {
   "cell_type": "code",
   "execution_count": 17,
   "outputs": [],
   "source": [],
   "metadata": {
    "collapsed": false,
    "ExecuteTime": {
     "end_time": "2023-10-03T09:18:43.631241Z",
     "start_time": "2023-10-03T09:18:43.146050Z"
    }
   },
   "id": "456e59dda34e4471"
  },
  {
   "cell_type": "code",
   "execution_count": 18,
   "outputs": [],
   "source": [
    "nn = np.array(((2,2,2),(3,3,3),(4,4,4)), dtype=float)"
   ],
   "metadata": {
    "collapsed": false,
    "ExecuteTime": {
     "end_time": "2023-10-03T09:18:43.631241Z",
     "start_time": "2023-10-03T09:18:43.161700600Z"
    }
   },
   "id": "ca5a185211a126da"
  },
  {
   "cell_type": "code",
   "execution_count": 19,
   "outputs": [
    {
     "data": {
      "text/plain": "array([[2., 2., 2.],\n       [4., 4., 4.]])"
     },
     "execution_count": 19,
     "metadata": {},
     "output_type": "execute_result"
    }
   ],
   "source": [
    "nn[::2]"
   ],
   "metadata": {
    "collapsed": false,
    "ExecuteTime": {
     "end_time": "2023-10-03T09:18:43.631241Z",
     "start_time": "2023-10-03T09:18:43.177344800Z"
    }
   },
   "id": "8b89b275fe2be2fb"
  },
  {
   "cell_type": "code",
   "execution_count": 20,
   "outputs": [
    {
     "data": {
      "text/plain": "array([[2., 2., 2.]])"
     },
     "execution_count": 20,
     "metadata": {},
     "output_type": "execute_result"
    }
   ],
   "source": [
    "nn[:1:2]"
   ],
   "metadata": {
    "collapsed": false,
    "ExecuteTime": {
     "end_time": "2023-10-03T09:18:43.631241Z",
     "start_time": "2023-10-03T09:18:43.192953300Z"
    }
   },
   "id": "c5955e018fa09238"
  },
  {
   "cell_type": "code",
   "execution_count": 21,
   "outputs": [
    {
     "data": {
      "text/plain": "array([[ 2.,  2., 10.],\n       [ 3.,  3.,  3.],\n       [ 4.,  4.,  4.]])"
     },
     "execution_count": 21,
     "metadata": {},
     "output_type": "execute_result"
    }
   ],
   "source": [
    "nn[0,2]=10\n",
    "nn"
   ],
   "metadata": {
    "collapsed": false,
    "ExecuteTime": {
     "end_time": "2023-10-03T09:18:43.631241Z",
     "start_time": "2023-10-03T09:18:43.208570300Z"
    }
   },
   "id": "7402aefeb4c9cdce"
  },
  {
   "cell_type": "code",
   "execution_count": 22,
   "outputs": [
    {
     "name": "stdout",
     "output_type": "stream",
     "text": [
      "[  4.   4. 100.]\n",
      "[9. 9. 9.]\n",
      "[16. 16. 16.]\n"
     ]
    }
   ],
   "source": [
    "for i in nn:\n",
    "    print(i**2)"
   ],
   "metadata": {
    "collapsed": false,
    "ExecuteTime": {
     "end_time": "2023-10-03T09:18:43.631241Z",
     "start_time": "2023-10-03T09:18:43.224194700Z"
    }
   },
   "id": "21a939427be84643"
  },
  {
   "cell_type": "markdown",
   "source": [
    "<p> Примеры пакета NumPy.</p>"
   ],
   "metadata": {
    "collapsed": false
   },
   "id": "4d97c839297214e4"
  },
  {
   "cell_type": "code",
   "execution_count": 23,
   "outputs": [
    {
     "name": "stdout",
     "output_type": "stream",
     "text": [
      "[100 101 102 103]\n",
      "int32\n"
     ]
    },
    {
     "data": {
      "text/plain": "numpy.ndarray"
     },
     "execution_count": 23,
     "metadata": {},
     "output_type": "execute_result"
    }
   ],
   "source": [
    "l1 = [100,101,102,103]\n",
    "arr1 = np.array(l1)\n",
    "print(arr1)\n",
    "print(arr1.dtype)\n",
    "type(arr1)"
   ],
   "metadata": {
    "collapsed": false,
    "ExecuteTime": {
     "end_time": "2023-10-03T09:18:43.631241Z",
     "start_time": "2023-10-03T09:18:43.239820600Z"
    }
   },
   "id": "e36ee45db7cd1952"
  },
  {
   "cell_type": "markdown",
   "source": [
    "<p>Проверка размерности массива</p>"
   ],
   "metadata": {
    "collapsed": false
   },
   "id": "7b008705a792c2bd"
  },
  {
   "cell_type": "code",
   "execution_count": 24,
   "outputs": [
    {
     "data": {
      "text/plain": "(2, 3)"
     },
     "execution_count": 24,
     "metadata": {},
     "output_type": "execute_result"
    }
   ],
   "source": [
    "b = np.array([(100,200,100),(200,100,200)])\n",
    "b.shape"
   ],
   "metadata": {
    "collapsed": false,
    "ExecuteTime": {
     "end_time": "2023-10-03T09:18:43.631241Z",
     "start_time": "2023-10-03T09:18:43.255444Z"
    }
   },
   "id": "4fb77c78de668ff5"
  },
  {
   "cell_type": "markdown",
   "source": [
    "<p>Создание массива типа float</p>"
   ],
   "metadata": {
    "collapsed": false
   },
   "id": "2b601048047fad0c"
  },
  {
   "cell_type": "code",
   "execution_count": 25,
   "outputs": [
    {
     "data": {
      "text/plain": "array([[100, 200, 100],\n       [200, 100, 200]])"
     },
     "execution_count": 25,
     "metadata": {},
     "output_type": "execute_result"
    }
   ],
   "source": [
    "b"
   ],
   "metadata": {
    "collapsed": false,
    "ExecuteTime": {
     "end_time": "2023-10-03T09:18:43.631241Z",
     "start_time": "2023-10-03T09:18:43.271065300Z"
    }
   },
   "id": "e9b4f3deda7dd1c9"
  },
  {
   "cell_type": "markdown",
   "source": [
    "<p>Арифметические действия с массивами</p>"
   ],
   "metadata": {
    "collapsed": false
   },
   "id": "766ae3e0cf3c2bf0"
  },
  {
   "cell_type": "code",
   "execution_count": 26,
   "outputs": [
    {
     "name": "stdout",
     "output_type": "stream",
     "text": [
      "[101, 102, 103, 104]\n",
      "[101 102 103 104]\n"
     ]
    }
   ],
   "source": [
    "for n in range(len(l1)):\n",
    "    l1[n] += 1\n",
    "arr1 += 1\n",
    "print(l1)\n",
    "print(arr1)"
   ],
   "metadata": {
    "collapsed": false,
    "ExecuteTime": {
     "end_time": "2023-10-03T09:18:43.631241Z",
     "start_time": "2023-10-03T09:18:43.286698300Z"
    }
   },
   "id": "351b082bbf54310d"
  },
  {
   "cell_type": "code",
   "execution_count": 27,
   "outputs": [
    {
     "name": "stdout",
     "output_type": "stream",
     "text": [
      "[100, 101, 102, 103]\n",
      "[100 101 102 103]\n"
     ]
    }
   ],
   "source": [
    "for n in range(len(l1)):\n",
    "    l1[n] -= 1\n",
    "arr1 -= 1\n",
    "print(l1)\n",
    "print(arr1)"
   ],
   "metadata": {
    "collapsed": false,
    "ExecuteTime": {
     "end_time": "2023-10-03T09:18:43.631241Z",
     "start_time": "2023-10-03T09:18:43.302319200Z"
    }
   },
   "id": "486803823581c366"
  },
  {
   "cell_type": "markdown",
   "source": [
    "<p>Дополнительные возможности получения массивов с помощью функций zeros(),ones(),arrange(), linspace()</p>"
   ],
   "metadata": {
    "collapsed": false
   },
   "id": "1dd8ddc5a06445ab"
  },
  {
   "cell_type": "code",
   "execution_count": 28,
   "outputs": [
    {
     "name": "stdout",
     "output_type": "stream",
     "text": [
      "[0. 0. 0. 0. 0.]\n",
      "[1. 1. 1. 1. 1.]\n",
      "[0 1 2 3 4]\n",
      "[5.         5.11111111 5.22222222 5.33333333 5.44444444 5.55555556\n",
      " 5.66666667 5.77777778 5.88888889 6.        ]\n",
      "[1. 2. 3. 4. 5.]\n",
      "[0. 1. 2. 3. 4.]\n"
     ]
    }
   ],
   "source": [
    "zeros = np.zeros(5)\n",
    "ones = np.ones(5)\n",
    "aran = np.arange(5)\n",
    "lins = np.linspace(5,6,10)\n",
    "\n",
    "print(zeros)\n",
    "print(ones)\n",
    "print(aran)\n",
    "print(lins)\n",
    "print(ones+aran)\n",
    "print(ones*aran)\n"
   ],
   "metadata": {
    "collapsed": false,
    "ExecuteTime": {
     "end_time": "2023-10-03T09:18:43.647484900Z",
     "start_time": "2023-10-03T09:18:43.318242400Z"
    }
   },
   "id": "6ee38d5c0eb2cde5"
  },
  {
   "cell_type": "markdown",
   "source": [
    "<p>Индексация и двумерные массивы</p>"
   ],
   "metadata": {
    "collapsed": false
   },
   "id": "844000bb6f0698f"
  },
  {
   "cell_type": "code",
   "execution_count": 29,
   "outputs": [
    {
     "name": "stdout",
     "output_type": "stream",
     "text": [
      "First =  [[ 0  1  2  3  4  5  6  7  8  9]\n",
      " [10 11 12 13 14 15 16 17 18 19]]\n",
      "Second =  [[ 2  3  4  5  6  7  8  9]\n",
      " [12 13 14 15 16 17 18 19]]\n"
     ]
    }
   ],
   "source": [
    "aran = np.arange(20).reshape(2,10)\n",
    "print(\"First = \", aran)\n",
    "print(\"Second = \", aran[:,2:])"
   ],
   "metadata": {
    "collapsed": false,
    "ExecuteTime": {
     "end_time": "2023-10-03T09:18:43.647484900Z",
     "start_time": "2023-10-03T09:18:43.333903700Z"
    }
   },
   "id": "d1c36633e78f35e0"
  },
  {
   "cell_type": "markdown",
   "source": [
    "<p> Применение метода np.newaxis</p>"
   ],
   "metadata": {
    "collapsed": false
   },
   "id": "cd8dacc8dd85ddff"
  },
  {
   "cell_type": "code",
   "execution_count": 30,
   "outputs": [
    {
     "name": "stdout",
     "output_type": "stream",
     "text": [
      "(10,)\n"
     ]
    },
    {
     "data": {
      "text/plain": "(1, 10)"
     },
     "execution_count": 30,
     "metadata": {},
     "output_type": "execute_result"
    }
   ],
   "source": [
    "aa = np.arange(10)\n",
    "print(aa.shape)\n",
    "\n",
    "aa2 = aa[np.newaxis,:]\n",
    "aa2.shape"
   ],
   "metadata": {
    "collapsed": false,
    "ExecuteTime": {
     "end_time": "2023-10-03T09:18:43.647484900Z",
     "start_time": "2023-10-03T09:18:43.349529300Z"
    }
   },
   "id": "9d576e4f7b611c0c"
  },
  {
   "cell_type": "markdown",
   "source": [
    "<h3>Подключение библиотеки Pandas</h3>"
   ],
   "metadata": {
    "collapsed": false
   },
   "id": "5bb4d7782a591b3c"
  },
  {
   "cell_type": "code",
   "execution_count": 31,
   "outputs": [],
   "source": [
    "import pandas as pd"
   ],
   "metadata": {
    "collapsed": false,
    "ExecuteTime": {
     "end_time": "2023-10-03T09:18:45.278902400Z",
     "start_time": "2023-10-03T09:18:43.365154Z"
    }
   },
   "id": "87d4ce72c5d7ccd7"
  },
  {
   "cell_type": "markdown",
   "source": [
    "<p>Создание DataFrame с разными типами данных</p>"
   ],
   "metadata": {
    "collapsed": false
   },
   "id": "e80f9ae8a9d4e7a8"
  },
  {
   "cell_type": "code",
   "execution_count": 32,
   "outputs": [
    {
     "data": {
      "text/plain": "     car  number\n0  Tesla     333\n1    BMW     222\n2    KIA     111",
      "text/html": "<div>\n<style scoped>\n    .dataframe tbody tr th:only-of-type {\n        vertical-align: middle;\n    }\n\n    .dataframe tbody tr th {\n        vertical-align: top;\n    }\n\n    .dataframe thead th {\n        text-align: right;\n    }\n</style>\n<table border=\"1\" class=\"dataframe\">\n  <thead>\n    <tr style=\"text-align: right;\">\n      <th></th>\n      <th>car</th>\n      <th>number</th>\n    </tr>\n  </thead>\n  <tbody>\n    <tr>\n      <th>0</th>\n      <td>Tesla</td>\n      <td>333</td>\n    </tr>\n    <tr>\n      <th>1</th>\n      <td>BMW</td>\n      <td>222</td>\n    </tr>\n    <tr>\n      <th>2</th>\n      <td>KIA</td>\n      <td>111</td>\n    </tr>\n  </tbody>\n</table>\n</div>"
     },
     "execution_count": 32,
     "metadata": {},
     "output_type": "execute_result"
    }
   ],
   "source": [
    "df = pd.DataFrame({'car': ['Tesla', 'BMW', 'KIA'], 'number': [333,222,111]})\n",
    "df"
   ],
   "metadata": {
    "collapsed": false,
    "ExecuteTime": {
     "end_time": "2023-10-03T09:18:45.340760Z",
     "start_time": "2023-10-03T09:18:45.278902400Z"
    }
   },
   "id": "dc719e9f95761e4e"
  },
  {
   "cell_type": "markdown",
   "source": [
    "<p>Импорт данных из .csv</p>"
   ],
   "metadata": {
    "collapsed": false
   },
   "id": "34b153802b3a51e4"
  },
  {
   "cell_type": "code",
   "execution_count": 33,
   "outputs": [
    {
     "data": {
      "text/plain": "   PassengerId  Survived  Pclass  \\\n0            1         0       3   \n1            2         1       1   \n2            3         1       3   \n3            4         1       1   \n4            5         0       3   \n5            6         0       3   \n6            7         0       1   \n7            8         0       3   \n8            9         1       3   \n9           10         1       2   \n\n                                                Name     Sex   Age  SibSp  \\\n0                            Braund, Mr. Owen Harris    male  22.0      1   \n1  Cumings, Mrs. John Bradley (Florence Briggs Th...  female  38.0      1   \n2                             Heikkinen, Miss. Laina  female  26.0      0   \n3       Futrelle, Mrs. Jacques Heath (Lily May Peel)  female  35.0      1   \n4                           Allen, Mr. William Henry    male  35.0      0   \n5                                   Moran, Mr. James    male   NaN      0   \n6                            McCarthy, Mr. Timothy J    male  54.0      0   \n7                     Palsson, Master. Gosta Leonard    male   2.0      3   \n8  Johnson, Mrs. Oscar W (Elisabeth Vilhelmina Berg)  female  27.0      0   \n9                Nasser, Mrs. Nicholas (Adele Achem)  female  14.0      1   \n\n   Parch            Ticket     Fare Cabin Embarked  \n0      0         A/5 21171   7.2500   NaN        S  \n1      0          PC 17599  71.2833   C85        C  \n2      0  STON/O2. 3101282   7.9250   NaN        S  \n3      0            113803  53.1000  C123        S  \n4      0            373450   8.0500   NaN        S  \n5      0            330877   8.4583   NaN        Q  \n6      0             17463  51.8625   E46        S  \n7      1            349909  21.0750   NaN        S  \n8      2            347742  11.1333   NaN        S  \n9      0            237736  30.0708   NaN        C  ",
      "text/html": "<div>\n<style scoped>\n    .dataframe tbody tr th:only-of-type {\n        vertical-align: middle;\n    }\n\n    .dataframe tbody tr th {\n        vertical-align: top;\n    }\n\n    .dataframe thead th {\n        text-align: right;\n    }\n</style>\n<table border=\"1\" class=\"dataframe\">\n  <thead>\n    <tr style=\"text-align: right;\">\n      <th></th>\n      <th>PassengerId</th>\n      <th>Survived</th>\n      <th>Pclass</th>\n      <th>Name</th>\n      <th>Sex</th>\n      <th>Age</th>\n      <th>SibSp</th>\n      <th>Parch</th>\n      <th>Ticket</th>\n      <th>Fare</th>\n      <th>Cabin</th>\n      <th>Embarked</th>\n    </tr>\n  </thead>\n  <tbody>\n    <tr>\n      <th>0</th>\n      <td>1</td>\n      <td>0</td>\n      <td>3</td>\n      <td>Braund, Mr. Owen Harris</td>\n      <td>male</td>\n      <td>22.0</td>\n      <td>1</td>\n      <td>0</td>\n      <td>A/5 21171</td>\n      <td>7.2500</td>\n      <td>NaN</td>\n      <td>S</td>\n    </tr>\n    <tr>\n      <th>1</th>\n      <td>2</td>\n      <td>1</td>\n      <td>1</td>\n      <td>Cumings, Mrs. John Bradley (Florence Briggs Th...</td>\n      <td>female</td>\n      <td>38.0</td>\n      <td>1</td>\n      <td>0</td>\n      <td>PC 17599</td>\n      <td>71.2833</td>\n      <td>C85</td>\n      <td>C</td>\n    </tr>\n    <tr>\n      <th>2</th>\n      <td>3</td>\n      <td>1</td>\n      <td>3</td>\n      <td>Heikkinen, Miss. Laina</td>\n      <td>female</td>\n      <td>26.0</td>\n      <td>0</td>\n      <td>0</td>\n      <td>STON/O2. 3101282</td>\n      <td>7.9250</td>\n      <td>NaN</td>\n      <td>S</td>\n    </tr>\n    <tr>\n      <th>3</th>\n      <td>4</td>\n      <td>1</td>\n      <td>1</td>\n      <td>Futrelle, Mrs. Jacques Heath (Lily May Peel)</td>\n      <td>female</td>\n      <td>35.0</td>\n      <td>1</td>\n      <td>0</td>\n      <td>113803</td>\n      <td>53.1000</td>\n      <td>C123</td>\n      <td>S</td>\n    </tr>\n    <tr>\n      <th>4</th>\n      <td>5</td>\n      <td>0</td>\n      <td>3</td>\n      <td>Allen, Mr. William Henry</td>\n      <td>male</td>\n      <td>35.0</td>\n      <td>0</td>\n      <td>0</td>\n      <td>373450</td>\n      <td>8.0500</td>\n      <td>NaN</td>\n      <td>S</td>\n    </tr>\n    <tr>\n      <th>5</th>\n      <td>6</td>\n      <td>0</td>\n      <td>3</td>\n      <td>Moran, Mr. James</td>\n      <td>male</td>\n      <td>NaN</td>\n      <td>0</td>\n      <td>0</td>\n      <td>330877</td>\n      <td>8.4583</td>\n      <td>NaN</td>\n      <td>Q</td>\n    </tr>\n    <tr>\n      <th>6</th>\n      <td>7</td>\n      <td>0</td>\n      <td>1</td>\n      <td>McCarthy, Mr. Timothy J</td>\n      <td>male</td>\n      <td>54.0</td>\n      <td>0</td>\n      <td>0</td>\n      <td>17463</td>\n      <td>51.8625</td>\n      <td>E46</td>\n      <td>S</td>\n    </tr>\n    <tr>\n      <th>7</th>\n      <td>8</td>\n      <td>0</td>\n      <td>3</td>\n      <td>Palsson, Master. Gosta Leonard</td>\n      <td>male</td>\n      <td>2.0</td>\n      <td>3</td>\n      <td>1</td>\n      <td>349909</td>\n      <td>21.0750</td>\n      <td>NaN</td>\n      <td>S</td>\n    </tr>\n    <tr>\n      <th>8</th>\n      <td>9</td>\n      <td>1</td>\n      <td>3</td>\n      <td>Johnson, Mrs. Oscar W (Elisabeth Vilhelmina Berg)</td>\n      <td>female</td>\n      <td>27.0</td>\n      <td>0</td>\n      <td>2</td>\n      <td>347742</td>\n      <td>11.1333</td>\n      <td>NaN</td>\n      <td>S</td>\n    </tr>\n    <tr>\n      <th>9</th>\n      <td>10</td>\n      <td>1</td>\n      <td>2</td>\n      <td>Nasser, Mrs. Nicholas (Adele Achem)</td>\n      <td>female</td>\n      <td>14.0</td>\n      <td>1</td>\n      <td>0</td>\n      <td>237736</td>\n      <td>30.0708</td>\n      <td>NaN</td>\n      <td>C</td>\n    </tr>\n  </tbody>\n</table>\n</div>"
     },
     "execution_count": 33,
     "metadata": {},
     "output_type": "execute_result"
    }
   ],
   "source": [
    "df_data = pd.read_csv('train.csv')\n",
    "df_data.head(10)"
   ],
   "metadata": {
    "collapsed": false,
    "ExecuteTime": {
     "end_time": "2023-10-03T09:18:45.475375100Z",
     "start_time": "2023-10-03T09:18:45.301564100Z"
    }
   },
   "id": "451e23969aad3ca7"
  },
  {
   "cell_type": "code",
   "execution_count": 34,
   "outputs": [
    {
     "data": {
      "text/plain": "       PassengerId    Survived      Pclass         Age       SibSp  \\\ncount   891.000000  891.000000  891.000000  714.000000  891.000000   \nmean    446.000000    0.383838    2.308642   29.699118    0.523008   \nstd     257.353842    0.486592    0.836071   14.526497    1.102743   \nmin       1.000000    0.000000    1.000000    0.420000    0.000000   \n25%     223.500000    0.000000    2.000000   20.125000    0.000000   \n50%     446.000000    0.000000    3.000000   28.000000    0.000000   \n75%     668.500000    1.000000    3.000000   38.000000    1.000000   \nmax     891.000000    1.000000    3.000000   80.000000    8.000000   \n\n            Parch        Fare  \ncount  891.000000  891.000000  \nmean     0.381594   32.204208  \nstd      0.806057   49.693429  \nmin      0.000000    0.000000  \n25%      0.000000    7.910400  \n50%      0.000000   14.454200  \n75%      0.000000   31.000000  \nmax      6.000000  512.329200  ",
      "text/html": "<div>\n<style scoped>\n    .dataframe tbody tr th:only-of-type {\n        vertical-align: middle;\n    }\n\n    .dataframe tbody tr th {\n        vertical-align: top;\n    }\n\n    .dataframe thead th {\n        text-align: right;\n    }\n</style>\n<table border=\"1\" class=\"dataframe\">\n  <thead>\n    <tr style=\"text-align: right;\">\n      <th></th>\n      <th>PassengerId</th>\n      <th>Survived</th>\n      <th>Pclass</th>\n      <th>Age</th>\n      <th>SibSp</th>\n      <th>Parch</th>\n      <th>Fare</th>\n    </tr>\n  </thead>\n  <tbody>\n    <tr>\n      <th>count</th>\n      <td>891.000000</td>\n      <td>891.000000</td>\n      <td>891.000000</td>\n      <td>714.000000</td>\n      <td>891.000000</td>\n      <td>891.000000</td>\n      <td>891.000000</td>\n    </tr>\n    <tr>\n      <th>mean</th>\n      <td>446.000000</td>\n      <td>0.383838</td>\n      <td>2.308642</td>\n      <td>29.699118</td>\n      <td>0.523008</td>\n      <td>0.381594</td>\n      <td>32.204208</td>\n    </tr>\n    <tr>\n      <th>std</th>\n      <td>257.353842</td>\n      <td>0.486592</td>\n      <td>0.836071</td>\n      <td>14.526497</td>\n      <td>1.102743</td>\n      <td>0.806057</td>\n      <td>49.693429</td>\n    </tr>\n    <tr>\n      <th>min</th>\n      <td>1.000000</td>\n      <td>0.000000</td>\n      <td>1.000000</td>\n      <td>0.420000</td>\n      <td>0.000000</td>\n      <td>0.000000</td>\n      <td>0.000000</td>\n    </tr>\n    <tr>\n      <th>25%</th>\n      <td>223.500000</td>\n      <td>0.000000</td>\n      <td>2.000000</td>\n      <td>20.125000</td>\n      <td>0.000000</td>\n      <td>0.000000</td>\n      <td>7.910400</td>\n    </tr>\n    <tr>\n      <th>50%</th>\n      <td>446.000000</td>\n      <td>0.000000</td>\n      <td>3.000000</td>\n      <td>28.000000</td>\n      <td>0.000000</td>\n      <td>0.000000</td>\n      <td>14.454200</td>\n    </tr>\n    <tr>\n      <th>75%</th>\n      <td>668.500000</td>\n      <td>1.000000</td>\n      <td>3.000000</td>\n      <td>38.000000</td>\n      <td>1.000000</td>\n      <td>0.000000</td>\n      <td>31.000000</td>\n    </tr>\n    <tr>\n      <th>max</th>\n      <td>891.000000</td>\n      <td>1.000000</td>\n      <td>3.000000</td>\n      <td>80.000000</td>\n      <td>8.000000</td>\n      <td>6.000000</td>\n      <td>512.329200</td>\n    </tr>\n  </tbody>\n</table>\n</div>"
     },
     "execution_count": 34,
     "metadata": {},
     "output_type": "execute_result"
    }
   ],
   "source": [
    "df_data.describe()"
   ],
   "metadata": {
    "collapsed": false,
    "ExecuteTime": {
     "end_time": "2023-10-03T09:18:45.602010700Z",
     "start_time": "2023-10-03T09:18:45.381221500Z"
    }
   },
   "id": "4ee8a412f3757005"
  },
  {
   "cell_type": "code",
   "execution_count": 35,
   "outputs": [
    {
     "data": {
      "text/plain": "PassengerId  Survived  Pclass  Name                                                  Sex     Age   SibSp  Parch  Ticket    Fare      Cabin  Embarked\n2            1         1       Cumings, Mrs. John Bradley (Florence Briggs Thayer)   female  38.0  1      0      PC 17599  71.2833   C85    C           1\n572          1         1       Appleton, Mrs. Edward Dale (Charlotte Lamson)         female  53.0  2      0      11769     51.4792   C101   S           1\n578          1         1       Silvey, Mrs. William Baird (Alice Munger)             female  39.0  1      0      13507     55.9000   E44    S           1\n582          1         1       Thayer, Mrs. John Borland (Marian Longstreth Morris)  female  39.0  1      1      17421     110.8833  C68    C           1\n584          0         1       Ross, Mr. John Hugo                                   male    36.0  0      0      13049     40.1250   A10    C           1\n                                                                                                                                                       ..\n328          1         2       Ball, Mrs. (Ada E Hall)                               female  36.0  0      0      28551     13.0000   D      S           1\n330          1         1       Hippach, Miss. Jean Gertrude                          female  16.0  0      1      111361    57.9792   B18    C           1\n332          0         1       Partner, Mr. Austen                                   male    45.5  0      0      113043    28.5000   C124   S           1\n333          0         1       Graham, Mr. George Edward                             male    38.0  0      1      PC 17582  153.4625  C91    S           1\n890          1         1       Behr, Mr. Karl Howell                                 male    26.0  0      0      111369    30.0000   C148   C           1\nName: count, Length: 183, dtype: int64"
     },
     "execution_count": 35,
     "metadata": {},
     "output_type": "execute_result"
    }
   ],
   "source": [
    "df_data.value_counts()"
   ],
   "metadata": {
    "collapsed": false,
    "ExecuteTime": {
     "end_time": "2023-10-03T09:18:45.648881900Z",
     "start_time": "2023-10-03T09:18:45.433008300Z"
    }
   },
   "id": "49fa8d7b602a971f"
  },
  {
   "cell_type": "code",
   "execution_count": 36,
   "outputs": [
    {
     "name": "stdout",
     "output_type": "stream",
     "text": [
      "<class 'pandas.core.frame.DataFrame'>\n",
      "RangeIndex: 891 entries, 0 to 890\n",
      "Data columns (total 12 columns):\n",
      " #   Column       Non-Null Count  Dtype  \n",
      "---  ------       --------------  -----  \n",
      " 0   PassengerId  891 non-null    int64  \n",
      " 1   Survived     891 non-null    int64  \n",
      " 2   Pclass       891 non-null    int64  \n",
      " 3   Name         891 non-null    object \n",
      " 4   Sex          891 non-null    object \n",
      " 5   Age          714 non-null    float64\n",
      " 6   SibSp        891 non-null    int64  \n",
      " 7   Parch        891 non-null    int64  \n",
      " 8   Ticket       891 non-null    object \n",
      " 9   Fare         891 non-null    float64\n",
      " 10  Cabin        204 non-null    object \n",
      " 11  Embarked     889 non-null    object \n",
      "dtypes: float64(2), int64(5), object(5)\n",
      "memory usage: 83.7+ KB\n"
     ]
    }
   ],
   "source": [
    "df_data.info()"
   ],
   "metadata": {
    "collapsed": false,
    "ExecuteTime": {
     "end_time": "2023-10-03T09:18:45.905017900Z",
     "start_time": "2023-10-03T09:18:45.491369300Z"
    }
   },
   "id": "93eca11860b491d8"
  },
  {
   "cell_type": "code",
   "execution_count": 37,
   "outputs": [
    {
     "data": {
      "text/plain": "     PassengerId  Survived  Pclass                                  Name  \\\n630          631         1       1  Barkworth, Mr. Algernon Henry Wilson   \n851          852         0       3                   Svensson, Mr. Johan   \n493          494         0       1               Artagaveytia, Mr. Ramon   \n96            97         0       1             Goldschmidt, Mr. George B   \n116          117         0       3                  Connors, Mr. Patrick   \n672          673         0       2           Mitchell, Mr. Henry Michael   \n745          746         0       1          Crosby, Capt. Edward Gifford   \n33            34         0       2                 Wheadon, Mr. Edward H   \n54            55         0       1        Ostby, Mr. Engelhart Cornelius   \n280          281         0       3                      Duane, Mr. Frank   \n\n      Sex   Age  SibSp  Parch      Ticket     Fare Cabin Embarked  \n630  male  80.0      0      0       27042  30.0000   A23        S  \n851  male  74.0      0      0      347060   7.7750   NaN        S  \n493  male  71.0      0      0    PC 17609  49.5042   NaN        C  \n96   male  71.0      0      0    PC 17754  34.6542    A5        C  \n116  male  70.5      0      0      370369   7.7500   NaN        Q  \n672  male  70.0      0      0  C.A. 24580  10.5000   NaN        S  \n745  male  70.0      1      1   WE/P 5735  71.0000   B22        S  \n33   male  66.0      0      0  C.A. 24579  10.5000   NaN        S  \n54   male  65.0      0      1      113509  61.9792   B30        C  \n280  male  65.0      0      0      336439   7.7500   NaN        Q  ",
      "text/html": "<div>\n<style scoped>\n    .dataframe tbody tr th:only-of-type {\n        vertical-align: middle;\n    }\n\n    .dataframe tbody tr th {\n        vertical-align: top;\n    }\n\n    .dataframe thead th {\n        text-align: right;\n    }\n</style>\n<table border=\"1\" class=\"dataframe\">\n  <thead>\n    <tr style=\"text-align: right;\">\n      <th></th>\n      <th>PassengerId</th>\n      <th>Survived</th>\n      <th>Pclass</th>\n      <th>Name</th>\n      <th>Sex</th>\n      <th>Age</th>\n      <th>SibSp</th>\n      <th>Parch</th>\n      <th>Ticket</th>\n      <th>Fare</th>\n      <th>Cabin</th>\n      <th>Embarked</th>\n    </tr>\n  </thead>\n  <tbody>\n    <tr>\n      <th>630</th>\n      <td>631</td>\n      <td>1</td>\n      <td>1</td>\n      <td>Barkworth, Mr. Algernon Henry Wilson</td>\n      <td>male</td>\n      <td>80.0</td>\n      <td>0</td>\n      <td>0</td>\n      <td>27042</td>\n      <td>30.0000</td>\n      <td>A23</td>\n      <td>S</td>\n    </tr>\n    <tr>\n      <th>851</th>\n      <td>852</td>\n      <td>0</td>\n      <td>3</td>\n      <td>Svensson, Mr. Johan</td>\n      <td>male</td>\n      <td>74.0</td>\n      <td>0</td>\n      <td>0</td>\n      <td>347060</td>\n      <td>7.7750</td>\n      <td>NaN</td>\n      <td>S</td>\n    </tr>\n    <tr>\n      <th>493</th>\n      <td>494</td>\n      <td>0</td>\n      <td>1</td>\n      <td>Artagaveytia, Mr. Ramon</td>\n      <td>male</td>\n      <td>71.0</td>\n      <td>0</td>\n      <td>0</td>\n      <td>PC 17609</td>\n      <td>49.5042</td>\n      <td>NaN</td>\n      <td>C</td>\n    </tr>\n    <tr>\n      <th>96</th>\n      <td>97</td>\n      <td>0</td>\n      <td>1</td>\n      <td>Goldschmidt, Mr. George B</td>\n      <td>male</td>\n      <td>71.0</td>\n      <td>0</td>\n      <td>0</td>\n      <td>PC 17754</td>\n      <td>34.6542</td>\n      <td>A5</td>\n      <td>C</td>\n    </tr>\n    <tr>\n      <th>116</th>\n      <td>117</td>\n      <td>0</td>\n      <td>3</td>\n      <td>Connors, Mr. Patrick</td>\n      <td>male</td>\n      <td>70.5</td>\n      <td>0</td>\n      <td>0</td>\n      <td>370369</td>\n      <td>7.7500</td>\n      <td>NaN</td>\n      <td>Q</td>\n    </tr>\n    <tr>\n      <th>672</th>\n      <td>673</td>\n      <td>0</td>\n      <td>2</td>\n      <td>Mitchell, Mr. Henry Michael</td>\n      <td>male</td>\n      <td>70.0</td>\n      <td>0</td>\n      <td>0</td>\n      <td>C.A. 24580</td>\n      <td>10.5000</td>\n      <td>NaN</td>\n      <td>S</td>\n    </tr>\n    <tr>\n      <th>745</th>\n      <td>746</td>\n      <td>0</td>\n      <td>1</td>\n      <td>Crosby, Capt. Edward Gifford</td>\n      <td>male</td>\n      <td>70.0</td>\n      <td>1</td>\n      <td>1</td>\n      <td>WE/P 5735</td>\n      <td>71.0000</td>\n      <td>B22</td>\n      <td>S</td>\n    </tr>\n    <tr>\n      <th>33</th>\n      <td>34</td>\n      <td>0</td>\n      <td>2</td>\n      <td>Wheadon, Mr. Edward H</td>\n      <td>male</td>\n      <td>66.0</td>\n      <td>0</td>\n      <td>0</td>\n      <td>C.A. 24579</td>\n      <td>10.5000</td>\n      <td>NaN</td>\n      <td>S</td>\n    </tr>\n    <tr>\n      <th>54</th>\n      <td>55</td>\n      <td>0</td>\n      <td>1</td>\n      <td>Ostby, Mr. Engelhart Cornelius</td>\n      <td>male</td>\n      <td>65.0</td>\n      <td>0</td>\n      <td>1</td>\n      <td>113509</td>\n      <td>61.9792</td>\n      <td>B30</td>\n      <td>C</td>\n    </tr>\n    <tr>\n      <th>280</th>\n      <td>281</td>\n      <td>0</td>\n      <td>3</td>\n      <td>Duane, Mr. Frank</td>\n      <td>male</td>\n      <td>65.0</td>\n      <td>0</td>\n      <td>0</td>\n      <td>336439</td>\n      <td>7.7500</td>\n      <td>NaN</td>\n      <td>Q</td>\n    </tr>\n  </tbody>\n</table>\n</div>"
     },
     "execution_count": 37,
     "metadata": {},
     "output_type": "execute_result"
    }
   ],
   "source": [
    "dat = df_data.sort_values(by='Age', ascending=False)\n",
    "aa = dat.head(10)\n",
    "aa"
   ],
   "metadata": {
    "collapsed": false,
    "ExecuteTime": {
     "end_time": "2023-10-03T09:18:45.905017900Z",
     "start_time": "2023-10-03T09:18:45.524946700Z"
    }
   },
   "id": "1176307eb867eb38"
  },
  {
   "cell_type": "code",
   "execution_count": 38,
   "outputs": [
    {
     "data": {
      "text/plain": "21205.17"
     },
     "execution_count": 38,
     "metadata": {},
     "output_type": "execute_result"
    }
   ],
   "source": [
    "df_data['Age'].sum()"
   ],
   "metadata": {
    "collapsed": false,
    "ExecuteTime": {
     "end_time": "2023-10-03T09:18:45.936284700Z",
     "start_time": "2023-10-03T09:18:45.570741Z"
    }
   },
   "id": "a762d9d2fed6f192"
  },
  {
   "cell_type": "code",
   "execution_count": 39,
   "outputs": [
    {
     "data": {
      "text/plain": "        PassengerId  Survived  \\\nPclass                          \n1             99705       136   \n2             82056        87   \n3            215625       119   \n\n                                                     Name  \\\nPclass                                                      \n1       Cumings, Mrs. John Bradley (Florence Briggs Th...   \n2       Nasser, Mrs. Nicholas (Adele Achem)Hewlett, Mr...   \n3       Braund, Mr. Owen HarrisHeikkinen, Miss. LainaA...   \n\n                                                      Sex      Age  SibSp  \\\nPclass                                                                      \n1       femalefemalemalefemalemalemalemalefemalemalema...  7111.42     90   \n2       femalefemalemalemalemalemalefemalefemalefemale...  5168.83     74   \n3       malefemalemalemalemalefemalefemalemalemalefema...  8924.92    302   \n\n        Parch                                             Ticket        Fare  \\\nPclass                                                                         \n1          77  PC 175991138031746311378311378819950PC 17601PC...  18177.4125   \n2          70  237736248706244373239865248698C.A. 2457911668S...   3801.8417   \n3         193  A/5 21171STON/O2. 3101282373450330877349909347...   6714.6951   \n\n                                                    Cabin  \\\nPclass                                                      \n1       C85C123E46C103A6C23 C25 C27B78D33B30C52B28C83C...   \n2                D56F33E101F2F4F2DE101DF2F33DF33F4E101E77   \n3              G6F G73F E69G6G6G6E10F G63F G73E121F38E121   \n\n                                                 Embarked  \nPclass                                                     \n1       CSSSSSCCCSCCSSCSSSCCSSCSSSCSCSSSCCSSCCCCCSSQSS...  \n2       CSSSSSSCSSSSSSSSSSSSCSSSCSSSSSSSCSSSSSSSSSSSSS...  \n3       SSSQSSSSSSQSCQSSCQSQCSSCSCQSQQCSSSCSCSCSSSSCSS...  ",
      "text/html": "<div>\n<style scoped>\n    .dataframe tbody tr th:only-of-type {\n        vertical-align: middle;\n    }\n\n    .dataframe tbody tr th {\n        vertical-align: top;\n    }\n\n    .dataframe thead th {\n        text-align: right;\n    }\n</style>\n<table border=\"1\" class=\"dataframe\">\n  <thead>\n    <tr style=\"text-align: right;\">\n      <th></th>\n      <th>PassengerId</th>\n      <th>Survived</th>\n      <th>Name</th>\n      <th>Sex</th>\n      <th>Age</th>\n      <th>SibSp</th>\n      <th>Parch</th>\n      <th>Ticket</th>\n      <th>Fare</th>\n      <th>Cabin</th>\n      <th>Embarked</th>\n    </tr>\n    <tr>\n      <th>Pclass</th>\n      <th></th>\n      <th></th>\n      <th></th>\n      <th></th>\n      <th></th>\n      <th></th>\n      <th></th>\n      <th></th>\n      <th></th>\n      <th></th>\n      <th></th>\n    </tr>\n  </thead>\n  <tbody>\n    <tr>\n      <th>1</th>\n      <td>99705</td>\n      <td>136</td>\n      <td>Cumings, Mrs. John Bradley (Florence Briggs Th...</td>\n      <td>femalefemalemalefemalemalemalemalefemalemalema...</td>\n      <td>7111.42</td>\n      <td>90</td>\n      <td>77</td>\n      <td>PC 175991138031746311378311378819950PC 17601PC...</td>\n      <td>18177.4125</td>\n      <td>C85C123E46C103A6C23 C25 C27B78D33B30C52B28C83C...</td>\n      <td>CSSSSSCCCSCCSSCSSSCCSSCSSSCSCSSSCCSSCCCCCSSQSS...</td>\n    </tr>\n    <tr>\n      <th>2</th>\n      <td>82056</td>\n      <td>87</td>\n      <td>Nasser, Mrs. Nicholas (Adele Achem)Hewlett, Mr...</td>\n      <td>femalefemalemalemalemalemalefemalefemalefemale...</td>\n      <td>5168.83</td>\n      <td>74</td>\n      <td>70</td>\n      <td>237736248706244373239865248698C.A. 2457911668S...</td>\n      <td>3801.8417</td>\n      <td>D56F33E101F2F4F2DE101DF2F33DF33F4E101E77</td>\n      <td>CSSSSSSCSSSSSSSSSSSSCSSSCSSSSSSSCSSSSSSSSSSSSS...</td>\n    </tr>\n    <tr>\n      <th>3</th>\n      <td>215625</td>\n      <td>119</td>\n      <td>Braund, Mr. Owen HarrisHeikkinen, Miss. LainaA...</td>\n      <td>malefemalemalemalemalefemalefemalemalemalefema...</td>\n      <td>8924.92</td>\n      <td>302</td>\n      <td>193</td>\n      <td>A/5 21171STON/O2. 3101282373450330877349909347...</td>\n      <td>6714.6951</td>\n      <td>G6F G73F E69G6G6G6E10F G63F G73E121F38E121</td>\n      <td>SSSQSSSSSSQSCQSSCQSQCSSCSCQSQQCSSSCSCSCSSSSCSS...</td>\n    </tr>\n  </tbody>\n</table>\n</div>"
     },
     "execution_count": 39,
     "metadata": {},
     "output_type": "execute_result"
    }
   ],
   "source": [
    "df_data.groupby(['Pclass']).sum()"
   ],
   "metadata": {
    "collapsed": false,
    "ExecuteTime": {
     "end_time": "2023-10-03T09:18:45.936284700Z",
     "start_time": "2023-10-03T09:18:45.586382800Z"
    }
   },
   "id": "741971a9f4dd0d80"
  },
  {
   "cell_type": "markdown",
   "source": [
    "<p>Отбор данных по условию</p>"
   ],
   "metadata": {
    "collapsed": false
   },
   "id": "3f7fbe4c437d41ae"
  },
  {
   "cell_type": "code",
   "execution_count": 40,
   "outputs": [
    {
     "name": "stdout",
     "output_type": "stream",
     "text": [
      "     PassengerId  Survived  Pclass  \\\n",
      "1              2         1       1   \n",
      "2              3         1       3   \n",
      "3              4         1       1   \n",
      "8              9         1       3   \n",
      "9             10         1       2   \n",
      "..           ...       ...     ...   \n",
      "880          881         1       2   \n",
      "882          883         0       3   \n",
      "885          886         0       3   \n",
      "887          888         1       1   \n",
      "888          889         0       3   \n",
      "\n",
      "                                                  Name     Sex   Age  SibSp  \\\n",
      "1    Cumings, Mrs. John Bradley (Florence Briggs Th...  female  38.0      1   \n",
      "2                               Heikkinen, Miss. Laina  female  26.0      0   \n",
      "3         Futrelle, Mrs. Jacques Heath (Lily May Peel)  female  35.0      1   \n",
      "8    Johnson, Mrs. Oscar W (Elisabeth Vilhelmina Berg)  female  27.0      0   \n",
      "9                  Nasser, Mrs. Nicholas (Adele Achem)  female  14.0      1   \n",
      "..                                                 ...     ...   ...    ...   \n",
      "880       Shelley, Mrs. William (Imanita Parrish Hall)  female  25.0      0   \n",
      "882                       Dahlberg, Miss. Gerda Ulrika  female  22.0      0   \n",
      "885               Rice, Mrs. William (Margaret Norton)  female  39.0      0   \n",
      "887                       Graham, Miss. Margaret Edith  female  19.0      0   \n",
      "888           Johnston, Miss. Catherine Helen \"Carrie\"  female   NaN      1   \n",
      "\n",
      "     Parch            Ticket     Fare Cabin Embarked  \n",
      "1        0          PC 17599  71.2833   C85        C  \n",
      "2        0  STON/O2. 3101282   7.9250   NaN        S  \n",
      "3        0            113803  53.1000  C123        S  \n",
      "8        2            347742  11.1333   NaN        S  \n",
      "9        0            237736  30.0708   NaN        C  \n",
      "..     ...               ...      ...   ...      ...  \n",
      "880      1            230433  26.0000   NaN        S  \n",
      "882      0              7552  10.5167   NaN        S  \n",
      "885      5            382652  29.1250   NaN        Q  \n",
      "887      0            112053  30.0000   B42        S  \n",
      "888      2        W./C. 6607  23.4500   NaN        S  \n",
      "\n",
      "[314 rows x 12 columns]\n",
      "*********************\n",
      "     PassengerId  Survived  Pclass  \\\n",
      "3              4         1       1   \n",
      "211          212         1       2   \n",
      "230          231         1       1   \n",
      "258          259         1       1   \n",
      "269          270         1       1   \n",
      "279          280         1       3   \n",
      "383          384         1       1   \n",
      "486          487         1       1   \n",
      "\n",
      "                                                  Name     Sex   Age  SibSp  \\\n",
      "3         Futrelle, Mrs. Jacques Heath (Lily May Peel)  female  35.0      1   \n",
      "211                         Cameron, Miss. Clear Annie  female  35.0      0   \n",
      "230       Harris, Mrs. Henry Birkhardt (Irene Wallach)  female  35.0      1   \n",
      "258                                   Ward, Miss. Anna  female  35.0      0   \n",
      "269                             Bissette, Miss. Amelia  female  35.0      0   \n",
      "279                   Abbott, Mrs. Stanton (Rosa Hunt)  female  35.0      1   \n",
      "383  Holverson, Mrs. Alexander Oskar (Mary Aline To...  female  35.0      1   \n",
      "486    Hoyt, Mrs. Frederick Maxfield (Jane Anne Forby)  female  35.0      1   \n",
      "\n",
      "     Parch        Ticket      Fare Cabin Embarked  \n",
      "3        0        113803   53.1000  C123        S  \n",
      "211      0  F.C.C. 13528   21.0000   NaN        S  \n",
      "230      0         36973   83.4750   C83        S  \n",
      "258      0      PC 17755  512.3292   NaN        C  \n",
      "269      0      PC 17760  135.6333   C99        S  \n",
      "279      1     C.A. 2673   20.2500   NaN        S  \n",
      "383      0        113789   52.0000   NaN        S  \n",
      "486      0         19943   90.0000   C93        S  \n"
     ]
    }
   ],
   "source": [
    "print(df_data[df_data['Sex'] == 'female'])\n",
    "print('*********************')\n",
    "print(df_data[(df_data['Sex'] == 'female') & (df_data['Age'] == 35.0)])"
   ],
   "metadata": {
    "collapsed": false,
    "ExecuteTime": {
     "end_time": "2023-10-03T09:18:46.015429Z",
     "start_time": "2023-10-03T09:18:45.633265800Z"
    }
   },
   "id": "4b9d1aac3231b8f9"
  },
  {
   "cell_type": "markdown",
   "source": [
    "<h1> HOMEWORK LAB 2</h1>"
   ],
   "metadata": {
    "collapsed": false
   },
   "id": "5c8a8e1d54ce8b21"
  },
  {
   "cell_type": "markdown",
   "source": [
    "<p>Создайте одномерный массив my_array, в котором по порядку все числа до 100,\n",
    "кратные 5</p>"
   ],
   "metadata": {
    "collapsed": false
   },
   "id": "1546bc77100b43ad"
  },
  {
   "cell_type": "code",
   "execution_count": 41,
   "outputs": [
    {
     "data": {
      "text/plain": "array([[  5,  10,  15,  20,  25],\n       [ 30,  35,  40,  45,  50],\n       [ 55,  60,  65,  70,  75],\n       [ 80,  85,  90,  95, 100]])"
     },
     "execution_count": 41,
     "metadata": {},
     "output_type": "execute_result"
    }
   ],
   "source": [
    "my_array = np.arange(5,101,5).reshape(4,5)\n",
    "my_array"
   ],
   "metadata": {
    "collapsed": false,
    "ExecuteTime": {
     "end_time": "2023-10-03T09:18:46.015429Z",
     "start_time": "2023-10-03T09:18:45.664510900Z"
    }
   },
   "id": "89bbbfe96c250284"
  },
  {
   "cell_type": "markdown",
   "source": [
    "<p>Из полученного массива получить массив с кратными 10 числами</p>"
   ],
   "metadata": {
    "collapsed": false
   },
   "id": "eef650b689242fe9"
  },
  {
   "cell_type": "code",
   "execution_count": 42,
   "outputs": [
    {
     "data": {
      "text/plain": "array([[ 10,  20,  30,  40,  50],\n       [ 60,  70,  80,  90, 100]])"
     },
     "execution_count": 42,
     "metadata": {},
     "output_type": "execute_result"
    }
   ],
   "source": [
    "(my_array[my_array%10==0]).reshape(2,5)"
   ],
   "metadata": {
    "collapsed": false,
    "ExecuteTime": {
     "end_time": "2023-10-03T09:18:46.015429Z",
     "start_time": "2023-10-03T09:18:45.680132900Z"
    }
   },
   "id": "7517278ee0d3fb62"
  },
  {
   "cell_type": "markdown",
   "source": [
    "Получить двумерный массив с двумя столбцами"
   ],
   "metadata": {
    "collapsed": false
   },
   "id": "1b813b05b08a2a24"
  },
  {
   "cell_type": "code",
   "execution_count": 43,
   "outputs": [
    {
     "data": {
      "text/plain": "array([[1., 1.],\n       [1., 1.]])"
     },
     "execution_count": 43,
     "metadata": {},
     "output_type": "execute_result"
    }
   ],
   "source": [
    "a = np.ones([2,2])\n",
    "a"
   ],
   "metadata": {
    "collapsed": false,
    "ExecuteTime": {
     "end_time": "2023-10-03T09:18:46.015429Z",
     "start_time": "2023-10-03T09:18:45.696828500Z"
    }
   },
   "id": "48fd1448d0372816"
  },
  {
   "cell_type": "markdown",
   "source": [
    "Получите набор my_second_array, в котором все элементы меньше предыдущего\n",
    "исходного на 5"
   ],
   "metadata": {
    "collapsed": false
   },
   "id": "33a2d495f59a42bb"
  },
  {
   "cell_type": "code",
   "execution_count": 44,
   "outputs": [
    {
     "data": {
      "text/plain": "array([[ 0,  5, 10, 15, 20],\n       [25, 30, 35, 40, 45],\n       [50, 55, 60, 65, 70],\n       [75, 80, 85, 90, 95]])"
     },
     "execution_count": 44,
     "metadata": {},
     "output_type": "execute_result"
    }
   ],
   "source": [
    "my_second_array = my_array - 5\n",
    "my_second_array"
   ],
   "metadata": {
    "collapsed": false,
    "ExecuteTime": {
     "end_time": "2023-10-03T09:18:46.022542900Z",
     "start_time": "2023-10-03T09:18:45.719468300Z"
    }
   },
   "id": "8c86b0cd40604551"
  },
  {
   "cell_type": "markdown",
   "source": [
    "Соедините массивы, полученные в п. 3.1 и 4.1, горизонтально. Используйте .T для\n",
    "транспонирования матрицы."
   ],
   "metadata": {
    "collapsed": false
   },
   "id": "af8e05fba23800ec"
  },
  {
   "cell_type": "code",
   "execution_count": 45,
   "outputs": [
    {
     "data": {
      "text/plain": "array([[ 1.,  1.,  0.,  5., 10., 15., 20., 25., 30., 35., 40., 45.],\n       [ 1.,  1., 50., 55., 60., 65., 70., 75., 80., 85., 90., 95.]])"
     },
     "execution_count": 45,
     "metadata": {},
     "output_type": "execute_result"
    }
   ],
   "source": [
    "r = np.hstack((a.T, my_second_array.reshape(2,10)))\n",
    "r"
   ],
   "metadata": {
    "collapsed": false,
    "ExecuteTime": {
     "end_time": "2023-10-03T09:18:46.022542900Z",
     "start_time": "2023-10-03T09:18:45.735083Z"
    }
   },
   "id": "780cbef11671046d"
  },
  {
   "cell_type": "markdown",
   "source": [
    "Разделите 2 и 3 строку на 4 верхних строки my_array. Используйте .T для\n",
    "транспонирования матрицы"
   ],
   "metadata": {
    "collapsed": false
   },
   "id": "db742a34febe31d9"
  },
  {
   "cell_type": "code",
   "execution_count": 46,
   "outputs": [
    {
     "data": {
      "text/plain": "array([[30, 35, 40, 45, 50],\n       [55, 60, 65, 70, 75]])"
     },
     "execution_count": 46,
     "metadata": {},
     "output_type": "execute_result"
    }
   ],
   "source": [
    "a = my_array[1:3]\n",
    "a"
   ],
   "metadata": {
    "collapsed": false,
    "ExecuteTime": {
     "end_time": "2023-10-03T09:18:46.022542900Z",
     "start_time": "2023-10-03T09:18:45.744028Z"
    }
   },
   "id": "236abab8fe9cb5c7"
  },
  {
   "cell_type": "code",
   "execution_count": 47,
   "outputs": [
    {
     "data": {
      "text/plain": "array([[ 6.        ,  3.5       ,  2.66666667,  2.25      ,  2.        ],\n       [11.        ,  6.        ,  4.33333333,  3.5       ,  3.        ]])"
     },
     "execution_count": 47,
     "metadata": {},
     "output_type": "execute_result"
    }
   ],
   "source": [
    "b = a/my_array[:1]\n",
    "b"
   ],
   "metadata": {
    "collapsed": false,
    "ExecuteTime": {
     "end_time": "2023-10-03T09:18:46.022542900Z",
     "start_time": "2023-10-03T09:18:45.759044300Z"
    }
   },
   "id": "83932a4b5ab94e2a"
  },
  {
   "cell_type": "markdown",
   "source": [
    "Оставить только те значения, которые не изменились после деления"
   ],
   "metadata": {
    "collapsed": false
   },
   "id": "47635bf8bd11407f"
  },
  {
   "cell_type": "code",
   "execution_count": 48,
   "outputs": [
    {
     "data": {
      "text/plain": "array([], dtype=int32)"
     },
     "execution_count": 48,
     "metadata": {},
     "output_type": "execute_result"
    }
   ],
   "source": [
    "unCh = a[a == b]\n",
    "unCh\n"
   ],
   "metadata": {
    "collapsed": false,
    "ExecuteTime": {
     "end_time": "2023-10-03T09:18:46.101355500Z",
     "start_time": "2023-10-03T09:18:45.774684400Z"
    }
   },
   "id": "6fadba7c3901563"
  },
  {
   "cell_type": "markdown",
   "source": [
    "Снова получить трехстрочный двумерный массив и поменять местами первую и третью строки"
   ],
   "metadata": {
    "collapsed": false
   },
   "id": "3923b7de2c3508cc"
  },
  {
   "cell_type": "code",
   "execution_count": 49,
   "outputs": [
    {
     "data": {
      "text/plain": "array([[ 5, 10, 15, 20, 25],\n       [30, 35, 40, 45, 50],\n       [55, 60, 65, 70, 75]])"
     },
     "execution_count": 49,
     "metadata": {},
     "output_type": "execute_result"
    }
   ],
   "source": [
    "a = my_array[:3]\n",
    "a"
   ],
   "metadata": {
    "collapsed": false,
    "ExecuteTime": {
     "end_time": "2023-10-03T09:18:46.137482100Z",
     "start_time": "2023-10-03T09:18:45.808066400Z"
    }
   },
   "id": "a8feb6fad82c3f1e"
  },
  {
   "cell_type": "code",
   "execution_count": 50,
   "outputs": [
    {
     "data": {
      "text/plain": "array([[30, 35, 40, 45, 50],\n       [30, 35, 40, 45, 50],\n       [55, 60, 65, 70, 75]])"
     },
     "execution_count": 50,
     "metadata": {},
     "output_type": "execute_result"
    }
   ],
   "source": [
    "a[0] = a[1]\n",
    "a"
   ],
   "metadata": {
    "collapsed": false,
    "ExecuteTime": {
     "end_time": "2023-10-03T09:18:46.137482100Z",
     "start_time": "2023-10-03T09:18:45.826725700Z"
    }
   },
   "id": "92a555f71c89f669"
  },
  {
   "cell_type": "markdown",
   "source": [
    "Получить среднее, медиану и стандартное отклонение для каждой строки,\n",
    "используя команды np.mean(), np.median(), np.std()"
   ],
   "metadata": {
    "collapsed": false
   },
   "id": "acb1a1dbb9d4ece9"
  },
  {
   "cell_type": "code",
   "execution_count": 51,
   "outputs": [
    {
     "data": {
      "text/plain": "58.75"
     },
     "execution_count": 51,
     "metadata": {},
     "output_type": "execute_result"
    }
   ],
   "source": [
    "np.mean(my_array)"
   ],
   "metadata": {
    "collapsed": false,
    "ExecuteTime": {
     "end_time": "2023-10-03T09:18:46.137482100Z",
     "start_time": "2023-10-03T09:18:45.850563300Z"
    }
   },
   "id": "3aa4c23543c4efd9"
  },
  {
   "cell_type": "code",
   "execution_count": 52,
   "outputs": [
    {
     "data": {
      "text/plain": "52.5"
     },
     "execution_count": 52,
     "metadata": {},
     "output_type": "execute_result"
    }
   ],
   "source": [
    "np.median(my_array)"
   ],
   "metadata": {
    "collapsed": false,
    "ExecuteTime": {
     "end_time": "2023-10-03T09:18:46.137482100Z",
     "start_time": "2023-10-03T09:18:45.857581Z"
    }
   },
   "id": "e9debad601dee8c3"
  },
  {
   "cell_type": "code",
   "execution_count": 53,
   "outputs": [
    {
     "data": {
      "text/plain": "21.901769334919038"
     },
     "execution_count": 53,
     "metadata": {},
     "output_type": "execute_result"
    }
   ],
   "source": [
    "np.std(my_array)"
   ],
   "metadata": {
    "collapsed": false,
    "ExecuteTime": {
     "end_time": "2023-10-03T09:18:46.497725300Z",
     "start_time": "2023-10-03T09:18:45.882874200Z"
    }
   },
   "id": "ed152647ec0446ba"
  },
  {
   "cell_type": "markdown",
   "source": [
    "Сделать нормализацию на максимальное значение вдоль строк, поделив\n",
    "каждый элемент массива на max() вдоль строк"
   ],
   "metadata": {
    "collapsed": false
   },
   "id": "ebd8177db16b0846"
  },
  {
   "cell_type": "code",
   "execution_count": 54,
   "outputs": [
    {
     "data": {
      "text/plain": "50"
     },
     "execution_count": 54,
     "metadata": {},
     "output_type": "execute_result"
    }
   ],
   "source": [
    "(my_array[0]).max()\n"
   ],
   "metadata": {
    "collapsed": false,
    "ExecuteTime": {
     "end_time": "2023-10-03T09:18:46.497725300Z",
     "start_time": "2023-10-03T09:18:45.893010100Z"
    }
   },
   "id": "e875269e62856587"
  },
  {
   "cell_type": "code",
   "execution_count": 55,
   "outputs": [
    {
     "data": {
      "text/plain": "50"
     },
     "execution_count": 55,
     "metadata": {},
     "output_type": "execute_result"
    }
   ],
   "source": [
    "(my_array[1]).max()\n"
   ],
   "metadata": {
    "collapsed": false,
    "ExecuteTime": {
     "end_time": "2023-10-03T09:18:46.607152100Z",
     "start_time": "2023-10-03T09:18:45.905017900Z"
    }
   },
   "id": "779399a637b20014"
  },
  {
   "cell_type": "code",
   "execution_count": 56,
   "outputs": [
    {
     "data": {
      "text/plain": "75"
     },
     "execution_count": 56,
     "metadata": {},
     "output_type": "execute_result"
    }
   ],
   "source": [
    "(my_array[2]).max()"
   ],
   "metadata": {
    "collapsed": false,
    "ExecuteTime": {
     "end_time": "2023-10-03T09:18:46.607152100Z",
     "start_time": "2023-10-03T09:18:45.920662200Z"
    }
   },
   "id": "3f7488a3543836e3"
  },
  {
   "cell_type": "markdown",
   "source": [],
   "metadata": {
    "collapsed": false
   },
   "id": "5f37c9fca9a79ff7"
  },
  {
   "cell_type": "markdown",
   "source": [
    "<h2>Использование команд библиотеки pandas</h2>\n",
    "<p>Импортируйте данные из файла “Global Population Trends(2016-2022).csv”. Описание\n",
    "данных смотрите ниже.</p>"
   ],
   "metadata": {
    "collapsed": false
   },
   "id": "f42c93f96fdd5879"
  },
  {
   "cell_type": "code",
   "execution_count": 57,
   "outputs": [
    {
     "data": {
      "text/plain": "          Country  Year Total Population Urban Population Rural Population  \\\n0     Afghanistan  2017                -                -                -   \n1     Afghanistan  2018       36,686,784        9,353,296       27,333,488   \n2     Afghanistan  2019       37,769,499        9,727,157       28,042,342   \n3     Afghanistan  2020       38,972,230       10,142,913       28,829,317   \n4     Afghanistan  2021       40,099,462       10,551,772       29,547,690   \n...           ...   ...              ...              ...              ...   \n1068     Zimbabwe  2017                -                -                -   \n1069     Zimbabwe  2018       15,052,184        4,848,158       10,204,026   \n1070     Zimbabwe  2019       15,354,608        4,945,719       10,408,889   \n1071     Zimbabwe  2020       15,669,666        5,052,214       10,617,452   \n1072     Zimbabwe  2021       15,993,524        5,166,388       10,827,136   \n\n     Population Density Life Expectancy  Birth Rate  Death Rate  \\\n0                    55            63.0      37.342       7.027   \n1                    56            63.0      36.927       6.981   \n2                    58            64.0      36.466       6.791   \n3                    60            63.0      36.051       7.113   \n4                     -            62.0      35.842       7.344   \n...                 ...             ...         ...         ...   \n1068                 38            61.0      32.516       8.266   \n1069                 39            61.0      32.074       7.972   \n1070                 40            61.0      31.518       8.043   \n1071                 41            61.0      31.009       8.132   \n1072                  -            59.0      30.537       9.057   \n\n     Fertility Rate Infant Mortality Rate Growth Rate  \n0             5.129                  49.4           -  \n1             5.002                  47.8         3.0  \n2              4.87                  46.3         3.0  \n3              4.75                  44.8         3.0  \n4             4.643                  43.4         3.0  \n...             ...                   ...         ...  \n1068          3.706                  39.5           -  \n1069          3.659                  38.0         2.0  \n1070          3.599                  37.1         2.0  \n1071          3.545                  36.6         2.0  \n1072          3.491                  35.7         2.0  \n\n[1073 rows x 12 columns]",
      "text/html": "<div>\n<style scoped>\n    .dataframe tbody tr th:only-of-type {\n        vertical-align: middle;\n    }\n\n    .dataframe tbody tr th {\n        vertical-align: top;\n    }\n\n    .dataframe thead th {\n        text-align: right;\n    }\n</style>\n<table border=\"1\" class=\"dataframe\">\n  <thead>\n    <tr style=\"text-align: right;\">\n      <th></th>\n      <th>Country</th>\n      <th>Year</th>\n      <th>Total Population</th>\n      <th>Urban Population</th>\n      <th>Rural Population</th>\n      <th>Population Density</th>\n      <th>Life Expectancy</th>\n      <th>Birth Rate</th>\n      <th>Death Rate</th>\n      <th>Fertility Rate</th>\n      <th>Infant Mortality Rate</th>\n      <th>Growth Rate</th>\n    </tr>\n  </thead>\n  <tbody>\n    <tr>\n      <th>0</th>\n      <td>Afghanistan</td>\n      <td>2017</td>\n      <td>-</td>\n      <td>-</td>\n      <td>-</td>\n      <td>55</td>\n      <td>63.0</td>\n      <td>37.342</td>\n      <td>7.027</td>\n      <td>5.129</td>\n      <td>49.4</td>\n      <td>-</td>\n    </tr>\n    <tr>\n      <th>1</th>\n      <td>Afghanistan</td>\n      <td>2018</td>\n      <td>36,686,784</td>\n      <td>9,353,296</td>\n      <td>27,333,488</td>\n      <td>56</td>\n      <td>63.0</td>\n      <td>36.927</td>\n      <td>6.981</td>\n      <td>5.002</td>\n      <td>47.8</td>\n      <td>3.0</td>\n    </tr>\n    <tr>\n      <th>2</th>\n      <td>Afghanistan</td>\n      <td>2019</td>\n      <td>37,769,499</td>\n      <td>9,727,157</td>\n      <td>28,042,342</td>\n      <td>58</td>\n      <td>64.0</td>\n      <td>36.466</td>\n      <td>6.791</td>\n      <td>4.87</td>\n      <td>46.3</td>\n      <td>3.0</td>\n    </tr>\n    <tr>\n      <th>3</th>\n      <td>Afghanistan</td>\n      <td>2020</td>\n      <td>38,972,230</td>\n      <td>10,142,913</td>\n      <td>28,829,317</td>\n      <td>60</td>\n      <td>63.0</td>\n      <td>36.051</td>\n      <td>7.113</td>\n      <td>4.75</td>\n      <td>44.8</td>\n      <td>3.0</td>\n    </tr>\n    <tr>\n      <th>4</th>\n      <td>Afghanistan</td>\n      <td>2021</td>\n      <td>40,099,462</td>\n      <td>10,551,772</td>\n      <td>29,547,690</td>\n      <td>-</td>\n      <td>62.0</td>\n      <td>35.842</td>\n      <td>7.344</td>\n      <td>4.643</td>\n      <td>43.4</td>\n      <td>3.0</td>\n    </tr>\n    <tr>\n      <th>...</th>\n      <td>...</td>\n      <td>...</td>\n      <td>...</td>\n      <td>...</td>\n      <td>...</td>\n      <td>...</td>\n      <td>...</td>\n      <td>...</td>\n      <td>...</td>\n      <td>...</td>\n      <td>...</td>\n      <td>...</td>\n    </tr>\n    <tr>\n      <th>1068</th>\n      <td>Zimbabwe</td>\n      <td>2017</td>\n      <td>-</td>\n      <td>-</td>\n      <td>-</td>\n      <td>38</td>\n      <td>61.0</td>\n      <td>32.516</td>\n      <td>8.266</td>\n      <td>3.706</td>\n      <td>39.5</td>\n      <td>-</td>\n    </tr>\n    <tr>\n      <th>1069</th>\n      <td>Zimbabwe</td>\n      <td>2018</td>\n      <td>15,052,184</td>\n      <td>4,848,158</td>\n      <td>10,204,026</td>\n      <td>39</td>\n      <td>61.0</td>\n      <td>32.074</td>\n      <td>7.972</td>\n      <td>3.659</td>\n      <td>38.0</td>\n      <td>2.0</td>\n    </tr>\n    <tr>\n      <th>1070</th>\n      <td>Zimbabwe</td>\n      <td>2019</td>\n      <td>15,354,608</td>\n      <td>4,945,719</td>\n      <td>10,408,889</td>\n      <td>40</td>\n      <td>61.0</td>\n      <td>31.518</td>\n      <td>8.043</td>\n      <td>3.599</td>\n      <td>37.1</td>\n      <td>2.0</td>\n    </tr>\n    <tr>\n      <th>1071</th>\n      <td>Zimbabwe</td>\n      <td>2020</td>\n      <td>15,669,666</td>\n      <td>5,052,214</td>\n      <td>10,617,452</td>\n      <td>41</td>\n      <td>61.0</td>\n      <td>31.009</td>\n      <td>8.132</td>\n      <td>3.545</td>\n      <td>36.6</td>\n      <td>2.0</td>\n    </tr>\n    <tr>\n      <th>1072</th>\n      <td>Zimbabwe</td>\n      <td>2021</td>\n      <td>15,993,524</td>\n      <td>5,166,388</td>\n      <td>10,827,136</td>\n      <td>-</td>\n      <td>59.0</td>\n      <td>30.537</td>\n      <td>9.057</td>\n      <td>3.491</td>\n      <td>35.7</td>\n      <td>2.0</td>\n    </tr>\n  </tbody>\n</table>\n<p>1073 rows × 12 columns</p>\n</div>"
     },
     "execution_count": 57,
     "metadata": {},
     "output_type": "execute_result"
    }
   ],
   "source": [
    "global_data = pd.read_csv('global.csv')\n",
    "global_data"
   ],
   "metadata": {
    "collapsed": false,
    "ExecuteTime": {
     "end_time": "2023-10-03T09:18:46.622776600Z",
     "start_time": "2023-10-03T09:18:45.936284700Z"
    }
   },
   "id": "209b6be5ca9dbf54"
  },
  {
   "cell_type": "markdown",
   "source": [
    "Считайте несколько первых записей таблицы (head())"
   ],
   "metadata": {
    "collapsed": false
   },
   "id": "35a5a4eb708847ef"
  },
  {
   "cell_type": "code",
   "execution_count": 58,
   "outputs": [
    {
     "data": {
      "text/plain": "       Country  Year Total Population Urban Population Rural Population  \\\n0  Afghanistan  2017                -                -                -   \n1  Afghanistan  2018       36,686,784        9,353,296       27,333,488   \n2  Afghanistan  2019       37,769,499        9,727,157       28,042,342   \n3  Afghanistan  2020       38,972,230       10,142,913       28,829,317   \n4  Afghanistan  2021       40,099,462       10,551,772       29,547,690   \n5      Albania  2017                -                -                -   \n6      Albania  2018        2,866,376        1,728,969        1,137,407   \n7      Albania  2019        2,854,191        1,747,593        1,106,598   \n8      Albania  2020        2,837,849        1,762,645        1,075,204   \n9      Albania  2021        2,811,666        1,770,478        1,041,188   \n\n  Population Density Life Expectancy  Birth Rate  Death Rate Fertility Rate  \\\n0                 55            63.0      37.342       7.027          5.129   \n1                 56            63.0      36.927       6.981          5.002   \n2                 58            64.0      36.466       6.791           4.87   \n3                 60            63.0      36.051       7.113           4.75   \n4                  -            62.0      35.842       7.344          4.643   \n5                105            79.0      10.870       8.150          1.491   \n6                105            79.0      10.517       8.308           1.44   \n7                104            79.0      10.343       8.480          1.414   \n8                104            77.0      10.285      10.785            1.4   \n9                  -            76.0      10.240      11.325           1.39   \n\n  Infant Mortality Rate Growth Rate  \n0                  49.4           -  \n1                  47.8         3.0  \n2                  46.3         3.0  \n3                  44.8         3.0  \n4                  43.4         3.0  \n5                   8.3           -  \n6                   8.3         0.0  \n7                   8.4         0.0  \n8                   8.4        -1.0  \n9                   8.4        -1.0  ",
      "text/html": "<div>\n<style scoped>\n    .dataframe tbody tr th:only-of-type {\n        vertical-align: middle;\n    }\n\n    .dataframe tbody tr th {\n        vertical-align: top;\n    }\n\n    .dataframe thead th {\n        text-align: right;\n    }\n</style>\n<table border=\"1\" class=\"dataframe\">\n  <thead>\n    <tr style=\"text-align: right;\">\n      <th></th>\n      <th>Country</th>\n      <th>Year</th>\n      <th>Total Population</th>\n      <th>Urban Population</th>\n      <th>Rural Population</th>\n      <th>Population Density</th>\n      <th>Life Expectancy</th>\n      <th>Birth Rate</th>\n      <th>Death Rate</th>\n      <th>Fertility Rate</th>\n      <th>Infant Mortality Rate</th>\n      <th>Growth Rate</th>\n    </tr>\n  </thead>\n  <tbody>\n    <tr>\n      <th>0</th>\n      <td>Afghanistan</td>\n      <td>2017</td>\n      <td>-</td>\n      <td>-</td>\n      <td>-</td>\n      <td>55</td>\n      <td>63.0</td>\n      <td>37.342</td>\n      <td>7.027</td>\n      <td>5.129</td>\n      <td>49.4</td>\n      <td>-</td>\n    </tr>\n    <tr>\n      <th>1</th>\n      <td>Afghanistan</td>\n      <td>2018</td>\n      <td>36,686,784</td>\n      <td>9,353,296</td>\n      <td>27,333,488</td>\n      <td>56</td>\n      <td>63.0</td>\n      <td>36.927</td>\n      <td>6.981</td>\n      <td>5.002</td>\n      <td>47.8</td>\n      <td>3.0</td>\n    </tr>\n    <tr>\n      <th>2</th>\n      <td>Afghanistan</td>\n      <td>2019</td>\n      <td>37,769,499</td>\n      <td>9,727,157</td>\n      <td>28,042,342</td>\n      <td>58</td>\n      <td>64.0</td>\n      <td>36.466</td>\n      <td>6.791</td>\n      <td>4.87</td>\n      <td>46.3</td>\n      <td>3.0</td>\n    </tr>\n    <tr>\n      <th>3</th>\n      <td>Afghanistan</td>\n      <td>2020</td>\n      <td>38,972,230</td>\n      <td>10,142,913</td>\n      <td>28,829,317</td>\n      <td>60</td>\n      <td>63.0</td>\n      <td>36.051</td>\n      <td>7.113</td>\n      <td>4.75</td>\n      <td>44.8</td>\n      <td>3.0</td>\n    </tr>\n    <tr>\n      <th>4</th>\n      <td>Afghanistan</td>\n      <td>2021</td>\n      <td>40,099,462</td>\n      <td>10,551,772</td>\n      <td>29,547,690</td>\n      <td>-</td>\n      <td>62.0</td>\n      <td>35.842</td>\n      <td>7.344</td>\n      <td>4.643</td>\n      <td>43.4</td>\n      <td>3.0</td>\n    </tr>\n    <tr>\n      <th>5</th>\n      <td>Albania</td>\n      <td>2017</td>\n      <td>-</td>\n      <td>-</td>\n      <td>-</td>\n      <td>105</td>\n      <td>79.0</td>\n      <td>10.870</td>\n      <td>8.150</td>\n      <td>1.491</td>\n      <td>8.3</td>\n      <td>-</td>\n    </tr>\n    <tr>\n      <th>6</th>\n      <td>Albania</td>\n      <td>2018</td>\n      <td>2,866,376</td>\n      <td>1,728,969</td>\n      <td>1,137,407</td>\n      <td>105</td>\n      <td>79.0</td>\n      <td>10.517</td>\n      <td>8.308</td>\n      <td>1.44</td>\n      <td>8.3</td>\n      <td>0.0</td>\n    </tr>\n    <tr>\n      <th>7</th>\n      <td>Albania</td>\n      <td>2019</td>\n      <td>2,854,191</td>\n      <td>1,747,593</td>\n      <td>1,106,598</td>\n      <td>104</td>\n      <td>79.0</td>\n      <td>10.343</td>\n      <td>8.480</td>\n      <td>1.414</td>\n      <td>8.4</td>\n      <td>0.0</td>\n    </tr>\n    <tr>\n      <th>8</th>\n      <td>Albania</td>\n      <td>2020</td>\n      <td>2,837,849</td>\n      <td>1,762,645</td>\n      <td>1,075,204</td>\n      <td>104</td>\n      <td>77.0</td>\n      <td>10.285</td>\n      <td>10.785</td>\n      <td>1.4</td>\n      <td>8.4</td>\n      <td>-1.0</td>\n    </tr>\n    <tr>\n      <th>9</th>\n      <td>Albania</td>\n      <td>2021</td>\n      <td>2,811,666</td>\n      <td>1,770,478</td>\n      <td>1,041,188</td>\n      <td>-</td>\n      <td>76.0</td>\n      <td>10.240</td>\n      <td>11.325</td>\n      <td>1.39</td>\n      <td>8.4</td>\n      <td>-1.0</td>\n    </tr>\n  </tbody>\n</table>\n</div>"
     },
     "execution_count": 58,
     "metadata": {},
     "output_type": "execute_result"
    }
   ],
   "source": [
    "global_data.head(10)"
   ],
   "metadata": {
    "collapsed": false,
    "ExecuteTime": {
     "end_time": "2023-10-03T09:18:46.748706800Z",
     "start_time": "2023-10-03T09:18:46.015429Z"
    }
   },
   "id": "15c33d3a9556e571"
  },
  {
   "cell_type": "markdown",
   "source": [
    "Определите размерность данного фрейма (shape())"
   ],
   "metadata": {
    "collapsed": false
   },
   "id": "f11fffb6653e0403"
  },
  {
   "cell_type": "code",
   "execution_count": 59,
   "outputs": [
    {
     "data": {
      "text/plain": "(1073, 12)"
     },
     "execution_count": 59,
     "metadata": {},
     "output_type": "execute_result"
    }
   ],
   "source": [
    "global_data.shape"
   ],
   "metadata": {
    "collapsed": false,
    "ExecuteTime": {
     "end_time": "2023-10-03T09:18:46.795854500Z",
     "start_time": "2023-10-03T09:18:46.038201900Z"
    }
   },
   "id": "291e652fdc5ad837"
  },
  {
   "cell_type": "markdown",
   "source": [
    "Выведите название заголовков столбцов фрейма (columns)"
   ],
   "metadata": {
    "collapsed": false
   },
   "id": "8866f173afb5b03"
  },
  {
   "cell_type": "code",
   "execution_count": 60,
   "outputs": [
    {
     "data": {
      "text/plain": "Index(['Country', 'Year', 'Total Population', 'Urban Population',\n       'Rural Population', 'Population Density', 'Life Expectancy',\n       'Birth Rate', 'Death Rate', 'Fertility Rate', 'Infant Mortality Rate',\n       'Growth Rate'],\n      dtype='object')"
     },
     "execution_count": 60,
     "metadata": {},
     "output_type": "execute_result"
    }
   ],
   "source": [
    "global_data.columns"
   ],
   "metadata": {
    "collapsed": false,
    "ExecuteTime": {
     "end_time": "2023-10-03T09:18:46.795854500Z",
     "start_time": "2023-10-03T09:18:46.054065700Z"
    }
   },
   "id": "75fc4519402f20c6"
  },
  {
   "cell_type": "markdown",
   "source": [
    "Получите описание всех переменных (полей) (info())"
   ],
   "metadata": {
    "collapsed": false
   },
   "id": "c783377f783b5739"
  },
  {
   "cell_type": "code",
   "execution_count": 61,
   "outputs": [
    {
     "name": "stdout",
     "output_type": "stream",
     "text": [
      "<class 'pandas.core.frame.DataFrame'>\n",
      "RangeIndex: 1073 entries, 0 to 1072\n",
      "Data columns (total 12 columns):\n",
      " #   Column                 Non-Null Count  Dtype  \n",
      "---  ------                 --------------  -----  \n",
      " 0   Country                1073 non-null   object \n",
      " 1   Year                   1073 non-null   int64  \n",
      " 2   Total Population       1073 non-null   object \n",
      " 3   Urban Population       1073 non-null   object \n",
      " 4   Rural Population       1073 non-null   object \n",
      " 5   Population Density     1073 non-null   object \n",
      " 6   Life Expectancy        1073 non-null   object \n",
      " 7   Birth Rate             1073 non-null   float64\n",
      " 8   Death Rate             1073 non-null   float64\n",
      " 9   Fertility Rate         1073 non-null   object \n",
      " 10  Infant Mortality Rate  1073 non-null   object \n",
      " 11  Growth Rate            1073 non-null   object \n",
      "dtypes: float64(2), int64(1), object(9)\n",
      "memory usage: 100.7+ KB\n"
     ]
    }
   ],
   "source": [
    "global_data.info()"
   ],
   "metadata": {
    "collapsed": false,
    "ExecuteTime": {
     "end_time": "2023-10-03T09:18:46.858614600Z",
     "start_time": "2023-10-03T09:18:46.075348200Z"
    }
   },
   "id": "5458b87385360239"
  },
  {
   "cell_type": "markdown",
   "source": [
    "Удалите строки, не содержащие значения в столбце «Total Population» - “-”"
   ],
   "metadata": {
    "collapsed": false
   },
   "id": "8e2f3df1441cd7a3"
  },
  {
   "cell_type": "code",
   "execution_count": 62,
   "outputs": [
    {
     "data": {
      "text/plain": "          Country  Year Total Population Urban Population Rural Population  \\\n1     Afghanistan  2018       36,686,784        9,353,296       27,333,488   \n2     Afghanistan  2019       37,769,499        9,727,157       28,042,342   \n3     Afghanistan  2020       38,972,230       10,142,913       28,829,317   \n4     Afghanistan  2021       40,099,462       10,551,772       29,547,690   \n6         Albania  2018        2,866,376        1,728,969        1,137,407   \n...           ...   ...              ...              ...              ...   \n1067       Zambia  2021       19,473,125        8,800,295       10,672,830   \n1069     Zimbabwe  2018       15,052,184        4,848,158       10,204,026   \n1070     Zimbabwe  2019       15,354,608        4,945,719       10,408,889   \n1071     Zimbabwe  2020       15,669,666        5,052,214       10,617,452   \n1072     Zimbabwe  2021       15,993,524        5,166,388       10,827,136   \n\n     Population Density Life Expectancy  Birth Rate  Death Rate  \\\n1                    56            63.0      36.927       6.981   \n2                    58            64.0      36.466       6.791   \n3                    60            63.0      36.051       7.113   \n4                     -            62.0      35.842       7.344   \n6                   105            79.0      10.517       8.308   \n...                 ...             ...         ...         ...   \n1067                  -            61.0      34.511       6.973   \n1069                 39            61.0      32.074       7.972   \n1070                 40            61.0      31.518       8.043   \n1071                 41            61.0      31.009       8.132   \n1072                  -            59.0      30.537       9.057   \n\n     Fertility Rate Infant Mortality Rate Growth Rate  \n1             5.002                  47.8         3.0  \n2              4.87                  46.3         3.0  \n3              4.75                  44.8         3.0  \n4             4.643                  43.4         3.0  \n6              1.44                   8.3         0.0  \n...             ...                   ...         ...  \n1067          4.308                  40.2         3.0  \n1069          3.659                  38.0         2.0  \n1070          3.599                  37.1         2.0  \n1071          3.545                  36.6         2.0  \n1072          3.491                  35.7         2.0  \n\n[864 rows x 12 columns]",
      "text/html": "<div>\n<style scoped>\n    .dataframe tbody tr th:only-of-type {\n        vertical-align: middle;\n    }\n\n    .dataframe tbody tr th {\n        vertical-align: top;\n    }\n\n    .dataframe thead th {\n        text-align: right;\n    }\n</style>\n<table border=\"1\" class=\"dataframe\">\n  <thead>\n    <tr style=\"text-align: right;\">\n      <th></th>\n      <th>Country</th>\n      <th>Year</th>\n      <th>Total Population</th>\n      <th>Urban Population</th>\n      <th>Rural Population</th>\n      <th>Population Density</th>\n      <th>Life Expectancy</th>\n      <th>Birth Rate</th>\n      <th>Death Rate</th>\n      <th>Fertility Rate</th>\n      <th>Infant Mortality Rate</th>\n      <th>Growth Rate</th>\n    </tr>\n  </thead>\n  <tbody>\n    <tr>\n      <th>1</th>\n      <td>Afghanistan</td>\n      <td>2018</td>\n      <td>36,686,784</td>\n      <td>9,353,296</td>\n      <td>27,333,488</td>\n      <td>56</td>\n      <td>63.0</td>\n      <td>36.927</td>\n      <td>6.981</td>\n      <td>5.002</td>\n      <td>47.8</td>\n      <td>3.0</td>\n    </tr>\n    <tr>\n      <th>2</th>\n      <td>Afghanistan</td>\n      <td>2019</td>\n      <td>37,769,499</td>\n      <td>9,727,157</td>\n      <td>28,042,342</td>\n      <td>58</td>\n      <td>64.0</td>\n      <td>36.466</td>\n      <td>6.791</td>\n      <td>4.87</td>\n      <td>46.3</td>\n      <td>3.0</td>\n    </tr>\n    <tr>\n      <th>3</th>\n      <td>Afghanistan</td>\n      <td>2020</td>\n      <td>38,972,230</td>\n      <td>10,142,913</td>\n      <td>28,829,317</td>\n      <td>60</td>\n      <td>63.0</td>\n      <td>36.051</td>\n      <td>7.113</td>\n      <td>4.75</td>\n      <td>44.8</td>\n      <td>3.0</td>\n    </tr>\n    <tr>\n      <th>4</th>\n      <td>Afghanistan</td>\n      <td>2021</td>\n      <td>40,099,462</td>\n      <td>10,551,772</td>\n      <td>29,547,690</td>\n      <td>-</td>\n      <td>62.0</td>\n      <td>35.842</td>\n      <td>7.344</td>\n      <td>4.643</td>\n      <td>43.4</td>\n      <td>3.0</td>\n    </tr>\n    <tr>\n      <th>6</th>\n      <td>Albania</td>\n      <td>2018</td>\n      <td>2,866,376</td>\n      <td>1,728,969</td>\n      <td>1,137,407</td>\n      <td>105</td>\n      <td>79.0</td>\n      <td>10.517</td>\n      <td>8.308</td>\n      <td>1.44</td>\n      <td>8.3</td>\n      <td>0.0</td>\n    </tr>\n    <tr>\n      <th>...</th>\n      <td>...</td>\n      <td>...</td>\n      <td>...</td>\n      <td>...</td>\n      <td>...</td>\n      <td>...</td>\n      <td>...</td>\n      <td>...</td>\n      <td>...</td>\n      <td>...</td>\n      <td>...</td>\n      <td>...</td>\n    </tr>\n    <tr>\n      <th>1067</th>\n      <td>Zambia</td>\n      <td>2021</td>\n      <td>19,473,125</td>\n      <td>8,800,295</td>\n      <td>10,672,830</td>\n      <td>-</td>\n      <td>61.0</td>\n      <td>34.511</td>\n      <td>6.973</td>\n      <td>4.308</td>\n      <td>40.2</td>\n      <td>3.0</td>\n    </tr>\n    <tr>\n      <th>1069</th>\n      <td>Zimbabwe</td>\n      <td>2018</td>\n      <td>15,052,184</td>\n      <td>4,848,158</td>\n      <td>10,204,026</td>\n      <td>39</td>\n      <td>61.0</td>\n      <td>32.074</td>\n      <td>7.972</td>\n      <td>3.659</td>\n      <td>38.0</td>\n      <td>2.0</td>\n    </tr>\n    <tr>\n      <th>1070</th>\n      <td>Zimbabwe</td>\n      <td>2019</td>\n      <td>15,354,608</td>\n      <td>4,945,719</td>\n      <td>10,408,889</td>\n      <td>40</td>\n      <td>61.0</td>\n      <td>31.518</td>\n      <td>8.043</td>\n      <td>3.599</td>\n      <td>37.1</td>\n      <td>2.0</td>\n    </tr>\n    <tr>\n      <th>1071</th>\n      <td>Zimbabwe</td>\n      <td>2020</td>\n      <td>15,669,666</td>\n      <td>5,052,214</td>\n      <td>10,617,452</td>\n      <td>41</td>\n      <td>61.0</td>\n      <td>31.009</td>\n      <td>8.132</td>\n      <td>3.545</td>\n      <td>36.6</td>\n      <td>2.0</td>\n    </tr>\n    <tr>\n      <th>1072</th>\n      <td>Zimbabwe</td>\n      <td>2021</td>\n      <td>15,993,524</td>\n      <td>5,166,388</td>\n      <td>10,827,136</td>\n      <td>-</td>\n      <td>59.0</td>\n      <td>30.537</td>\n      <td>9.057</td>\n      <td>3.491</td>\n      <td>35.7</td>\n      <td>2.0</td>\n    </tr>\n  </tbody>\n</table>\n<p>864 rows × 12 columns</p>\n</div>"
     },
     "execution_count": 62,
     "metadata": {},
     "output_type": "execute_result"
    }
   ],
   "source": [
    "global_data1 = global_data[global_data[\"Total Population\"] != \"-\"]\n",
    "global_data1"
   ],
   "metadata": {
    "collapsed": false,
    "ExecuteTime": {
     "end_time": "2023-10-03T09:18:46.905409Z",
     "start_time": "2023-10-03T09:18:46.101355500Z"
    }
   },
   "id": "c20ea120309804b6"
  },
  {
   "cell_type": "markdown",
   "source": [
    "Получите описательную статистику по переменным (например, max(), min(),\n",
    "describe())"
   ],
   "metadata": {
    "collapsed": false
   },
   "id": "b127002822f16ef0"
  },
  {
   "cell_type": "code",
   "execution_count": 63,
   "outputs": [
    {
     "data": {
      "text/plain": "              Year  Birth Rate  Death Rate\ncount   864.000000  864.000000  864.000000\nmean   2019.500000   18.548384    7.889123\nstd       1.118682    9.887518    3.041385\nmin    2018.000000    0.000000    0.000000\n25%    2018.750000   10.500000    6.116500\n50%    2019.500000   15.628500    7.453500\n75%    2020.250000   25.565000    9.385000\nmax    2021.000000   46.127000   21.700000",
      "text/html": "<div>\n<style scoped>\n    .dataframe tbody tr th:only-of-type {\n        vertical-align: middle;\n    }\n\n    .dataframe tbody tr th {\n        vertical-align: top;\n    }\n\n    .dataframe thead th {\n        text-align: right;\n    }\n</style>\n<table border=\"1\" class=\"dataframe\">\n  <thead>\n    <tr style=\"text-align: right;\">\n      <th></th>\n      <th>Year</th>\n      <th>Birth Rate</th>\n      <th>Death Rate</th>\n    </tr>\n  </thead>\n  <tbody>\n    <tr>\n      <th>count</th>\n      <td>864.000000</td>\n      <td>864.000000</td>\n      <td>864.000000</td>\n    </tr>\n    <tr>\n      <th>mean</th>\n      <td>2019.500000</td>\n      <td>18.548384</td>\n      <td>7.889123</td>\n    </tr>\n    <tr>\n      <th>std</th>\n      <td>1.118682</td>\n      <td>9.887518</td>\n      <td>3.041385</td>\n    </tr>\n    <tr>\n      <th>min</th>\n      <td>2018.000000</td>\n      <td>0.000000</td>\n      <td>0.000000</td>\n    </tr>\n    <tr>\n      <th>25%</th>\n      <td>2018.750000</td>\n      <td>10.500000</td>\n      <td>6.116500</td>\n    </tr>\n    <tr>\n      <th>50%</th>\n      <td>2019.500000</td>\n      <td>15.628500</td>\n      <td>7.453500</td>\n    </tr>\n    <tr>\n      <th>75%</th>\n      <td>2020.250000</td>\n      <td>25.565000</td>\n      <td>9.385000</td>\n    </tr>\n    <tr>\n      <th>max</th>\n      <td>2021.000000</td>\n      <td>46.127000</td>\n      <td>21.700000</td>\n    </tr>\n  </tbody>\n</table>\n</div>"
     },
     "execution_count": 63,
     "metadata": {},
     "output_type": "execute_result"
    }
   ],
   "source": [
    "global_data1.describe()"
   ],
   "metadata": {
    "collapsed": false,
    "ExecuteTime": {
     "end_time": "2023-10-03T09:18:46.967909300Z",
     "start_time": "2023-10-03T09:18:46.132619800Z"
    }
   },
   "id": "ec4a923d93302385"
  },
  {
   "cell_type": "markdown",
   "source": [
    "Выполните сортировку данных по нескольким критериям"
   ],
   "metadata": {
    "collapsed": false
   },
   "id": "417dd3945270e5ef"
  },
  {
   "cell_type": "code",
   "execution_count": 64,
   "outputs": [
    {
     "data": {
      "text/plain": "               Country  Year Total Population Urban Population  \\\n1072          Zimbabwe  2021       15,993,524        5,166,388   \n225            Croatia  2021        3,879,000        2,245,088   \n922           Suriname  2021          612,985          405,913   \n230               Cuba  2021       11,256,372        8,700,275   \n600   Marshall Islands  2021           42,050           32,867   \n...                ...   ...              ...              ...   \n567         Madagascar  2018       26,846,541        9,984,497   \n562              Macao  2018          650,991          650,991   \n557         Luxembourg  2018          607,950          553,119   \n552          Lithuania  2018        2,801,543        1,896,056   \n537            Liberia  2018        4,889,391        2,500,972   \n\n     Rural Population Population Density Life Expectancy  Birth Rate  \\\n1072       10,827,136                  -            59.0      30.537   \n225         1,633,912                  -            76.0       9.400   \n922           207,072                  -            70.0      18.154   \n230         2,556,097                  -            74.0       8.922   \n600             9,183                  -            65.0      19.280   \n...               ...                ...             ...         ...   \n567        16,862,044                 46            65.0      32.088   \n562                 -             19,787            85.0      10.621   \n557            54,831                236            82.0      10.300   \n552           905,487                 45            76.0      10.000   \n537         2,388,419                 51            61.0      32.706   \n\n      Death Rate Fertility Rate Infant Mortality Rate Growth Rate  \n1072       9.057          3.491                  35.7         2.0  \n225       16.200           1.62                   3.9        -4.0  \n922        8.667          2.348                  15.4         1.0  \n230       14.652          1.442                   4.0         0.0  \n600        7.556          2.729                  24.8        -3.0  \n...          ...            ...                   ...         ...  \n567        6.736          4.043                  45.2         3.0  \n562        3.860          1.104                     -         2.0  \n557        7.100           1.38                   2.3         2.0  \n552       14.100           1.63                   3.3        -1.0  \n537        8.793          4.336                  60.9         2.0  \n\n[864 rows x 12 columns]",
      "text/html": "<div>\n<style scoped>\n    .dataframe tbody tr th:only-of-type {\n        vertical-align: middle;\n    }\n\n    .dataframe tbody tr th {\n        vertical-align: top;\n    }\n\n    .dataframe thead th {\n        text-align: right;\n    }\n</style>\n<table border=\"1\" class=\"dataframe\">\n  <thead>\n    <tr style=\"text-align: right;\">\n      <th></th>\n      <th>Country</th>\n      <th>Year</th>\n      <th>Total Population</th>\n      <th>Urban Population</th>\n      <th>Rural Population</th>\n      <th>Population Density</th>\n      <th>Life Expectancy</th>\n      <th>Birth Rate</th>\n      <th>Death Rate</th>\n      <th>Fertility Rate</th>\n      <th>Infant Mortality Rate</th>\n      <th>Growth Rate</th>\n    </tr>\n  </thead>\n  <tbody>\n    <tr>\n      <th>1072</th>\n      <td>Zimbabwe</td>\n      <td>2021</td>\n      <td>15,993,524</td>\n      <td>5,166,388</td>\n      <td>10,827,136</td>\n      <td>-</td>\n      <td>59.0</td>\n      <td>30.537</td>\n      <td>9.057</td>\n      <td>3.491</td>\n      <td>35.7</td>\n      <td>2.0</td>\n    </tr>\n    <tr>\n      <th>225</th>\n      <td>Croatia</td>\n      <td>2021</td>\n      <td>3,879,000</td>\n      <td>2,245,088</td>\n      <td>1,633,912</td>\n      <td>-</td>\n      <td>76.0</td>\n      <td>9.400</td>\n      <td>16.200</td>\n      <td>1.62</td>\n      <td>3.9</td>\n      <td>-4.0</td>\n    </tr>\n    <tr>\n      <th>922</th>\n      <td>Suriname</td>\n      <td>2021</td>\n      <td>612,985</td>\n      <td>405,913</td>\n      <td>207,072</td>\n      <td>-</td>\n      <td>70.0</td>\n      <td>18.154</td>\n      <td>8.667</td>\n      <td>2.348</td>\n      <td>15.4</td>\n      <td>1.0</td>\n    </tr>\n    <tr>\n      <th>230</th>\n      <td>Cuba</td>\n      <td>2021</td>\n      <td>11,256,372</td>\n      <td>8,700,275</td>\n      <td>2,556,097</td>\n      <td>-</td>\n      <td>74.0</td>\n      <td>8.922</td>\n      <td>14.652</td>\n      <td>1.442</td>\n      <td>4.0</td>\n      <td>0.0</td>\n    </tr>\n    <tr>\n      <th>600</th>\n      <td>Marshall Islands</td>\n      <td>2021</td>\n      <td>42,050</td>\n      <td>32,867</td>\n      <td>9,183</td>\n      <td>-</td>\n      <td>65.0</td>\n      <td>19.280</td>\n      <td>7.556</td>\n      <td>2.729</td>\n      <td>24.8</td>\n      <td>-3.0</td>\n    </tr>\n    <tr>\n      <th>...</th>\n      <td>...</td>\n      <td>...</td>\n      <td>...</td>\n      <td>...</td>\n      <td>...</td>\n      <td>...</td>\n      <td>...</td>\n      <td>...</td>\n      <td>...</td>\n      <td>...</td>\n      <td>...</td>\n      <td>...</td>\n    </tr>\n    <tr>\n      <th>567</th>\n      <td>Madagascar</td>\n      <td>2018</td>\n      <td>26,846,541</td>\n      <td>9,984,497</td>\n      <td>16,862,044</td>\n      <td>46</td>\n      <td>65.0</td>\n      <td>32.088</td>\n      <td>6.736</td>\n      <td>4.043</td>\n      <td>45.2</td>\n      <td>3.0</td>\n    </tr>\n    <tr>\n      <th>562</th>\n      <td>Macao</td>\n      <td>2018</td>\n      <td>650,991</td>\n      <td>650,991</td>\n      <td>-</td>\n      <td>19,787</td>\n      <td>85.0</td>\n      <td>10.621</td>\n      <td>3.860</td>\n      <td>1.104</td>\n      <td>-</td>\n      <td>2.0</td>\n    </tr>\n    <tr>\n      <th>557</th>\n      <td>Luxembourg</td>\n      <td>2018</td>\n      <td>607,950</td>\n      <td>553,119</td>\n      <td>54,831</td>\n      <td>236</td>\n      <td>82.0</td>\n      <td>10.300</td>\n      <td>7.100</td>\n      <td>1.38</td>\n      <td>2.3</td>\n      <td>2.0</td>\n    </tr>\n    <tr>\n      <th>552</th>\n      <td>Lithuania</td>\n      <td>2018</td>\n      <td>2,801,543</td>\n      <td>1,896,056</td>\n      <td>905,487</td>\n      <td>45</td>\n      <td>76.0</td>\n      <td>10.000</td>\n      <td>14.100</td>\n      <td>1.63</td>\n      <td>3.3</td>\n      <td>-1.0</td>\n    </tr>\n    <tr>\n      <th>537</th>\n      <td>Liberia</td>\n      <td>2018</td>\n      <td>4,889,391</td>\n      <td>2,500,972</td>\n      <td>2,388,419</td>\n      <td>51</td>\n      <td>61.0</td>\n      <td>32.706</td>\n      <td>8.793</td>\n      <td>4.336</td>\n      <td>60.9</td>\n      <td>2.0</td>\n    </tr>\n  </tbody>\n</table>\n<p>864 rows × 12 columns</p>\n</div>"
     },
     "execution_count": 64,
     "metadata": {},
     "output_type": "execute_result"
    }
   ],
   "source": [
    "global_data1.sort_values(by='Year', ascending=False)"
   ],
   "metadata": {
    "collapsed": false,
    "ExecuteTime": {
     "end_time": "2023-10-03T09:18:47.064189Z",
     "start_time": "2023-10-03T09:18:46.168746600Z"
    }
   },
   "id": "56aaeff856d0270f"
  },
  {
   "cell_type": "code",
   "execution_count": 65,
   "outputs": [
    {
     "data": {
      "text/plain": "          Country  Year Total Population Urban Population Rural Population  \\\n1072     Zimbabwe  2021       15,993,524        5,166,388       10,827,136   \n1071     Zimbabwe  2020       15,669,666        5,052,214       10,617,452   \n1070     Zimbabwe  2019       15,354,608        4,945,719       10,408,889   \n1069     Zimbabwe  2018       15,052,184        4,848,158       10,204,026   \n1067       Zambia  2021       19,473,125        8,800,295       10,672,830   \n...           ...   ...              ...              ...              ...   \n9         Albania  2021        2,811,666        1,770,478        1,041,188   \n3     Afghanistan  2020       38,972,230       10,142,913       28,829,317   \n2     Afghanistan  2019       37,769,499        9,727,157       28,042,342   \n4     Afghanistan  2021       40,099,462       10,551,772       29,547,690   \n1     Afghanistan  2018       36,686,784        9,353,296       27,333,488   \n\n     Population Density Life Expectancy  Birth Rate  Death Rate  \\\n1072                  -            59.0      30.537       9.057   \n1071                 41            61.0      31.009       8.132   \n1070                 40            61.0      31.518       8.043   \n1069                 39            61.0      32.074       7.972   \n1067                  -            61.0      34.511       6.973   \n...                 ...             ...         ...         ...   \n9                     -            76.0      10.240      11.325   \n3                    60            63.0      36.051       7.113   \n2                    58            64.0      36.466       6.791   \n4                     -            62.0      35.842       7.344   \n1                    56            63.0      36.927       6.981   \n\n     Fertility Rate Infant Mortality Rate Growth Rate  \n1072          3.491                  35.7         2.0  \n1071          3.545                  36.6         2.0  \n1070          3.599                  37.1         2.0  \n1069          3.659                  38.0         2.0  \n1067          4.308                  40.2         3.0  \n...             ...                   ...         ...  \n9              1.39                   8.4        -1.0  \n3              4.75                  44.8         3.0  \n2              4.87                  46.3         3.0  \n4             4.643                  43.4         3.0  \n1             5.002                  47.8         3.0  \n\n[864 rows x 12 columns]",
      "text/html": "<div>\n<style scoped>\n    .dataframe tbody tr th:only-of-type {\n        vertical-align: middle;\n    }\n\n    .dataframe tbody tr th {\n        vertical-align: top;\n    }\n\n    .dataframe thead th {\n        text-align: right;\n    }\n</style>\n<table border=\"1\" class=\"dataframe\">\n  <thead>\n    <tr style=\"text-align: right;\">\n      <th></th>\n      <th>Country</th>\n      <th>Year</th>\n      <th>Total Population</th>\n      <th>Urban Population</th>\n      <th>Rural Population</th>\n      <th>Population Density</th>\n      <th>Life Expectancy</th>\n      <th>Birth Rate</th>\n      <th>Death Rate</th>\n      <th>Fertility Rate</th>\n      <th>Infant Mortality Rate</th>\n      <th>Growth Rate</th>\n    </tr>\n  </thead>\n  <tbody>\n    <tr>\n      <th>1072</th>\n      <td>Zimbabwe</td>\n      <td>2021</td>\n      <td>15,993,524</td>\n      <td>5,166,388</td>\n      <td>10,827,136</td>\n      <td>-</td>\n      <td>59.0</td>\n      <td>30.537</td>\n      <td>9.057</td>\n      <td>3.491</td>\n      <td>35.7</td>\n      <td>2.0</td>\n    </tr>\n    <tr>\n      <th>1071</th>\n      <td>Zimbabwe</td>\n      <td>2020</td>\n      <td>15,669,666</td>\n      <td>5,052,214</td>\n      <td>10,617,452</td>\n      <td>41</td>\n      <td>61.0</td>\n      <td>31.009</td>\n      <td>8.132</td>\n      <td>3.545</td>\n      <td>36.6</td>\n      <td>2.0</td>\n    </tr>\n    <tr>\n      <th>1070</th>\n      <td>Zimbabwe</td>\n      <td>2019</td>\n      <td>15,354,608</td>\n      <td>4,945,719</td>\n      <td>10,408,889</td>\n      <td>40</td>\n      <td>61.0</td>\n      <td>31.518</td>\n      <td>8.043</td>\n      <td>3.599</td>\n      <td>37.1</td>\n      <td>2.0</td>\n    </tr>\n    <tr>\n      <th>1069</th>\n      <td>Zimbabwe</td>\n      <td>2018</td>\n      <td>15,052,184</td>\n      <td>4,848,158</td>\n      <td>10,204,026</td>\n      <td>39</td>\n      <td>61.0</td>\n      <td>32.074</td>\n      <td>7.972</td>\n      <td>3.659</td>\n      <td>38.0</td>\n      <td>2.0</td>\n    </tr>\n    <tr>\n      <th>1067</th>\n      <td>Zambia</td>\n      <td>2021</td>\n      <td>19,473,125</td>\n      <td>8,800,295</td>\n      <td>10,672,830</td>\n      <td>-</td>\n      <td>61.0</td>\n      <td>34.511</td>\n      <td>6.973</td>\n      <td>4.308</td>\n      <td>40.2</td>\n      <td>3.0</td>\n    </tr>\n    <tr>\n      <th>...</th>\n      <td>...</td>\n      <td>...</td>\n      <td>...</td>\n      <td>...</td>\n      <td>...</td>\n      <td>...</td>\n      <td>...</td>\n      <td>...</td>\n      <td>...</td>\n      <td>...</td>\n      <td>...</td>\n      <td>...</td>\n    </tr>\n    <tr>\n      <th>9</th>\n      <td>Albania</td>\n      <td>2021</td>\n      <td>2,811,666</td>\n      <td>1,770,478</td>\n      <td>1,041,188</td>\n      <td>-</td>\n      <td>76.0</td>\n      <td>10.240</td>\n      <td>11.325</td>\n      <td>1.39</td>\n      <td>8.4</td>\n      <td>-1.0</td>\n    </tr>\n    <tr>\n      <th>3</th>\n      <td>Afghanistan</td>\n      <td>2020</td>\n      <td>38,972,230</td>\n      <td>10,142,913</td>\n      <td>28,829,317</td>\n      <td>60</td>\n      <td>63.0</td>\n      <td>36.051</td>\n      <td>7.113</td>\n      <td>4.75</td>\n      <td>44.8</td>\n      <td>3.0</td>\n    </tr>\n    <tr>\n      <th>2</th>\n      <td>Afghanistan</td>\n      <td>2019</td>\n      <td>37,769,499</td>\n      <td>9,727,157</td>\n      <td>28,042,342</td>\n      <td>58</td>\n      <td>64.0</td>\n      <td>36.466</td>\n      <td>6.791</td>\n      <td>4.87</td>\n      <td>46.3</td>\n      <td>3.0</td>\n    </tr>\n    <tr>\n      <th>4</th>\n      <td>Afghanistan</td>\n      <td>2021</td>\n      <td>40,099,462</td>\n      <td>10,551,772</td>\n      <td>29,547,690</td>\n      <td>-</td>\n      <td>62.0</td>\n      <td>35.842</td>\n      <td>7.344</td>\n      <td>4.643</td>\n      <td>43.4</td>\n      <td>3.0</td>\n    </tr>\n    <tr>\n      <th>1</th>\n      <td>Afghanistan</td>\n      <td>2018</td>\n      <td>36,686,784</td>\n      <td>9,353,296</td>\n      <td>27,333,488</td>\n      <td>56</td>\n      <td>63.0</td>\n      <td>36.927</td>\n      <td>6.981</td>\n      <td>5.002</td>\n      <td>47.8</td>\n      <td>3.0</td>\n    </tr>\n  </tbody>\n</table>\n<p>864 rows × 12 columns</p>\n</div>"
     },
     "execution_count": 65,
     "metadata": {},
     "output_type": "execute_result"
    }
   ],
   "source": [
    "global_data1.sort_values(by='Country', ascending=False)"
   ],
   "metadata": {
    "collapsed": false,
    "ExecuteTime": {
     "end_time": "2023-10-03T09:18:47.079843700Z",
     "start_time": "2023-10-03T09:18:46.199999700Z"
    }
   },
   "id": "950e37b317ec6d92"
  },
  {
   "cell_type": "markdown",
   "source": [
    "Выведите название страны, которая имеет максимальную численность населения"
   ],
   "metadata": {
    "collapsed": false
   },
   "id": "891a6d8b5d6e4555"
  },
  {
   "cell_type": "code",
   "execution_count": 66,
   "outputs": [
    {
     "data": {
      "text/plain": "832    Seychelles\nName: Country, dtype: object"
     },
     "execution_count": 66,
     "metadata": {},
     "output_type": "execute_result"
    }
   ],
   "source": [
    "max_population_county = global_data1[global_data1['Total Population'] == global_data1['Total Population'].max()]['Country']\n",
    "max_population_county"
   ],
   "metadata": {
    "collapsed": false,
    "ExecuteTime": {
     "end_time": "2023-10-03T09:18:47.079843700Z",
     "start_time": "2023-10-03T09:18:46.238686Z"
    }
   },
   "id": "98b50ba0c3442982"
  },
  {
   "cell_type": "markdown",
   "source": [
    "Выведите название страны, которая имеет минимальную численность населения"
   ],
   "metadata": {
    "collapsed": false
   },
   "id": "12a1f136fdf3655d"
  },
  {
   "cell_type": "code",
   "execution_count": 67,
   "outputs": [
    {
     "data": {
      "text/plain": "257    Djibouti\nName: Country, dtype: object"
     },
     "execution_count": 67,
     "metadata": {},
     "output_type": "execute_result"
    }
   ],
   "source": [
    "min_population_county = global_data1[global_data1['Total Population'] == global_data1['Total Population'].min()]['Country']\n",
    "min_population_county"
   ],
   "metadata": {
    "collapsed": false,
    "ExecuteTime": {
     "end_time": "2023-10-03T09:18:47.079843700Z",
     "start_time": "2023-10-03T09:18:46.266656600Z"
    }
   },
   "id": "c800b73c9c946601"
  },
  {
   "cell_type": "markdown",
   "source": [
    "Экспорт фрейма в MS Excel"
   ],
   "metadata": {
    "collapsed": false
   },
   "id": "fae50d7520ae21d9"
  },
  {
   "cell_type": "code",
   "execution_count": 68,
   "outputs": [],
   "source": [
    "global_data1.to_excel(r'C:\\Users\\Aiana Sagynbek\\PycharmProjects\\bigDataLabs\\labWork2\\myData.xlsx')"
   ],
   "metadata": {
    "collapsed": false,
    "ExecuteTime": {
     "end_time": "2023-10-03T09:18:48.026568500Z",
     "start_time": "2023-10-03T09:18:46.282293500Z"
    }
   },
   "id": "29f27187bf657f91"
  },
  {
   "cell_type": "markdown",
   "source": [],
   "metadata": {
    "collapsed": false
   },
   "id": "564795d96d3ba2df"
  },
  {
   "cell_type": "code",
   "execution_count": 68,
   "outputs": [],
   "source": [],
   "metadata": {
    "collapsed": false,
    "ExecuteTime": {
     "end_time": "2023-10-03T09:18:48.073447300Z",
     "start_time": "2023-10-03T09:18:47.346600200Z"
    }
   },
   "id": "acd7f83ff5e7e46"
  }
 ],
 "metadata": {
  "kernelspec": {
   "display_name": "Python 3",
   "language": "python",
   "name": "python3"
  },
  "language_info": {
   "codemirror_mode": {
    "name": "ipython",
    "version": 2
   },
   "file_extension": ".py",
   "mimetype": "text/x-python",
   "name": "python",
   "nbconvert_exporter": "python",
   "pygments_lexer": "ipython2",
   "version": "2.7.6"
  }
 },
 "nbformat": 4,
 "nbformat_minor": 5
}
