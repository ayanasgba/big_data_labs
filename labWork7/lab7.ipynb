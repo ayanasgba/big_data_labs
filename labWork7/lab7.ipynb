{
 "cells": [
  {
   "cell_type": "markdown",
   "source": [
    "<h1>Лабораторная работа №7\n",
    "Работа с текстовыми данными.</h1>"
   ],
   "metadata": {
    "collapsed": false
   },
   "id": "57ecb19197dd509f"
  },
  {
   "cell_type": "markdown",
   "source": [
    "<h2>Создайте свой «мешок слов», например, набор из 20-25 отзывов о чем-либо, напишите краткое пояснение к данным.</h2>"
   ],
   "metadata": {
    "collapsed": false
   },
   "id": "dda1b7629659d450"
  },
  {
   "cell_type": "code",
   "execution_count": 31,
   "outputs": [
    {
     "data": {
      "text/plain": "['test', 'train']"
     },
     "execution_count": 31,
     "metadata": {},
     "output_type": "execute_result"
    }
   ],
   "source": [
    "import os\n",
    "os.listdir('lab7')"
   ],
   "metadata": {
    "collapsed": false,
    "ExecuteTime": {
     "end_time": "2023-12-13T17:15:25.995478Z",
     "start_time": "2023-12-13T17:15:25.970180700Z"
    }
   },
   "id": "c492e1427bf8edce"
  },
  {
   "cell_type": "code",
   "execution_count": 32,
   "outputs": [],
   "source": [
    "from sklearn.datasets import load_files\n",
    "reviews_train = load_files('lab7/train/')\n",
    "text_train, y_train = reviews_train.data, reviews_train.target"
   ],
   "metadata": {
    "collapsed": false,
    "ExecuteTime": {
     "end_time": "2023-12-13T17:15:26.722357800Z",
     "start_time": "2023-12-13T17:15:26.566133200Z"
    }
   },
   "id": "9799828c8c0c0e56"
  },
  {
   "cell_type": "code",
   "execution_count": 33,
   "outputs": [
    {
     "name": "stdout",
     "output_type": "stream",
     "text": [
      "type of text_train: <class 'list'>\n",
      "length of text_train: 12\n",
      "text_train[1]:\n",
      "b\"MIT is synonymous with excellence, where academic rigor meets a forward-thinking mindset. The comprehensive curriculum ensures that students not only grasp the fundamentals but also delve into the frontiers of knowledge. The commitment to diversity and inclusion enriches the educational experience, exposing students to a variety of perspectives. The collaborative projects and research opportunities make learning a dynamic and engaging process. MIT isn't just an institution; it's a community that nurtures the next generation of leaders and innovators, equipping them with the skills to address global challenges.\"\n"
     ]
    }
   ],
   "source": [
    "print(\"type of text_train: {}\".format(type(text_train)))\n",
    "print(\"length of text_train: {}\".format(len(text_train)))\n",
    "print(\"text_train[1]:\\n{}\".format(text_train[1]))"
   ],
   "metadata": {
    "collapsed": false,
    "ExecuteTime": {
     "end_time": "2023-12-13T17:15:27.493835900Z",
     "start_time": "2023-12-13T17:15:27.465710300Z"
    }
   },
   "id": "2573949c7876233b"
  },
  {
   "cell_type": "code",
   "execution_count": 34,
   "outputs": [],
   "source": [
    "text_train = [doc.replace(b\"<br />\", b\" \") for doc in text_train]"
   ],
   "metadata": {
    "collapsed": false,
    "ExecuteTime": {
     "end_time": "2023-12-13T17:15:28.257766100Z",
     "start_time": "2023-12-13T17:15:28.232804200Z"
    }
   },
   "id": "adae90d4a6764b2c"
  },
  {
   "cell_type": "code",
   "execution_count": 35,
   "outputs": [
    {
     "name": "stdout",
     "output_type": "stream",
     "text": [
      "text_train[1]:\n",
      "b\"MIT is synonymous with excellence, where academic rigor meets a forward-thinking mindset. The comprehensive curriculum ensures that students not only grasp the fundamentals but also delve into the frontiers of knowledge. The commitment to diversity and inclusion enriches the educational experience, exposing students to a variety of perspectives. The collaborative projects and research opportunities make learning a dynamic and engaging process. MIT isn't just an institution; it's a community that nurtures the next generation of leaders and innovators, equipping them with the skills to address global challenges.\"\n"
     ]
    }
   ],
   "source": [
    "print(\"text_train[1]:\\n{}\".format(text_train[1]))"
   ],
   "metadata": {
    "collapsed": false,
    "ExecuteTime": {
     "end_time": "2023-12-13T17:15:28.899282400Z",
     "start_time": "2023-12-13T17:15:28.884274600Z"
    }
   },
   "id": "4466b475d5ff5166"
  },
  {
   "cell_type": "code",
   "execution_count": 36,
   "outputs": [
    {
     "data": {
      "text/plain": "array([0, 1])"
     },
     "execution_count": 36,
     "metadata": {},
     "output_type": "execute_result"
    }
   ],
   "source": [
    "import numpy as np\n",
    "np.unique(y_train)"
   ],
   "metadata": {
    "collapsed": false,
    "ExecuteTime": {
     "end_time": "2023-12-13T17:15:29.841981900Z",
     "start_time": "2023-12-13T17:15:29.817159400Z"
    }
   },
   "id": "75b947362c8112ad"
  },
  {
   "cell_type": "code",
   "execution_count": 37,
   "outputs": [
    {
     "name": "stdout",
     "output_type": "stream",
     "text": [
      "Количество примеров на класс (обучение - training: [6 6]\n"
     ]
    }
   ],
   "source": [
    "print(\"Количество примеров на класс (обучение - training: {}\".format(np.bincount(y_train)))"
   ],
   "metadata": {
    "collapsed": false,
    "ExecuteTime": {
     "end_time": "2023-12-13T17:15:30.418257Z",
     "start_time": "2023-12-13T17:15:30.401374500Z"
    }
   },
   "id": "5d60cdb95f5e85f6"
  },
  {
   "cell_type": "code",
   "execution_count": 38,
   "outputs": [
    {
     "name": "stdout",
     "output_type": "stream",
     "text": [
      "Количество документов в текстовых данных: 12\n"
     ]
    }
   ],
   "source": [
    "reviews_train = load_files('lab7/test/')\n",
    "text_test, y_test =reviews_train.data, reviews_train.target\n",
    "print(\"Количество документов в текстовых данных: {}\".format(len(text_test)))"
   ],
   "metadata": {
    "collapsed": false,
    "ExecuteTime": {
     "end_time": "2023-12-13T17:15:31.103447200Z",
     "start_time": "2023-12-13T17:15:31.066155800Z"
    }
   },
   "id": "ef50fddc277f95c3"
  },
  {
   "cell_type": "code",
   "execution_count": 39,
   "outputs": [
    {
     "name": "stdout",
     "output_type": "stream",
     "text": [
      "Количество примеров на класс (тест - test): [6 6]\n"
     ]
    }
   ],
   "source": [
    "print(\"Количество примеров на класс (тест - test): {}\".format(np.bincount(y_test)))"
   ],
   "metadata": {
    "collapsed": false,
    "ExecuteTime": {
     "end_time": "2023-12-13T17:15:31.775135Z",
     "start_time": "2023-12-13T17:15:31.764190300Z"
    }
   },
   "id": "a7c6fb97d4a9b25d"
  },
  {
   "cell_type": "code",
   "execution_count": 40,
   "outputs": [],
   "source": [
    "text_test = [doc.replace(b\"<br />\", b\" \") for doc in text_test]"
   ],
   "metadata": {
    "collapsed": false,
    "ExecuteTime": {
     "end_time": "2023-12-13T17:15:32.351987900Z",
     "start_time": "2023-12-13T17:15:32.339033600Z"
    }
   },
   "id": "de40b9afd8461bd5"
  },
  {
   "cell_type": "code",
   "execution_count": 41,
   "outputs": [],
   "source": [
    "from sklearn.feature_extraction.text import CountVectorizer\n",
    "\n",
    "vect = CountVectorizer().fit(text_train)\n",
    "X_train = vect.transform(text_train)"
   ],
   "metadata": {
    "collapsed": false,
    "ExecuteTime": {
     "end_time": "2023-12-13T17:15:32.975233400Z",
     "start_time": "2023-12-13T17:15:32.947354900Z"
    }
   },
   "id": "3aa4fa9495390098"
  },
  {
   "cell_type": "code",
   "execution_count": 42,
   "outputs": [
    {
     "name": "stdout",
     "output_type": "stream",
     "text": [
      "X_train:\n",
      " <12x438 sparse matrix of type '<class 'numpy.int64'>'\n",
      "\twith 794 stored elements in Compressed Sparse Row format>\n"
     ]
    }
   ],
   "source": [
    "print(\"X_train:\\n {}\".format(repr(X_train)))"
   ],
   "metadata": {
    "collapsed": false,
    "ExecuteTime": {
     "end_time": "2023-12-13T17:15:35.398788700Z",
     "start_time": "2023-12-13T17:15:35.390184100Z"
    }
   },
   "id": "e273f43812af0e7d"
  },
  {
   "cell_type": "code",
   "execution_count": 43,
   "outputs": [
    {
     "data": {
      "text/plain": "CountVectorizer()",
      "text/html": "<style>#sk-container-id-1 {color: black;}#sk-container-id-1 pre{padding: 0;}#sk-container-id-1 div.sk-toggleable {background-color: white;}#sk-container-id-1 label.sk-toggleable__label {cursor: pointer;display: block;width: 100%;margin-bottom: 0;padding: 0.3em;box-sizing: border-box;text-align: center;}#sk-container-id-1 label.sk-toggleable__label-arrow:before {content: \"▸\";float: left;margin-right: 0.25em;color: #696969;}#sk-container-id-1 label.sk-toggleable__label-arrow:hover:before {color: black;}#sk-container-id-1 div.sk-estimator:hover label.sk-toggleable__label-arrow:before {color: black;}#sk-container-id-1 div.sk-toggleable__content {max-height: 0;max-width: 0;overflow: hidden;text-align: left;background-color: #f0f8ff;}#sk-container-id-1 div.sk-toggleable__content pre {margin: 0.2em;color: black;border-radius: 0.25em;background-color: #f0f8ff;}#sk-container-id-1 input.sk-toggleable__control:checked~div.sk-toggleable__content {max-height: 200px;max-width: 100%;overflow: auto;}#sk-container-id-1 input.sk-toggleable__control:checked~label.sk-toggleable__label-arrow:before {content: \"▾\";}#sk-container-id-1 div.sk-estimator input.sk-toggleable__control:checked~label.sk-toggleable__label {background-color: #d4ebff;}#sk-container-id-1 div.sk-label input.sk-toggleable__control:checked~label.sk-toggleable__label {background-color: #d4ebff;}#sk-container-id-1 input.sk-hidden--visually {border: 0;clip: rect(1px 1px 1px 1px);clip: rect(1px, 1px, 1px, 1px);height: 1px;margin: -1px;overflow: hidden;padding: 0;position: absolute;width: 1px;}#sk-container-id-1 div.sk-estimator {font-family: monospace;background-color: #f0f8ff;border: 1px dotted black;border-radius: 0.25em;box-sizing: border-box;margin-bottom: 0.5em;}#sk-container-id-1 div.sk-estimator:hover {background-color: #d4ebff;}#sk-container-id-1 div.sk-parallel-item::after {content: \"\";width: 100%;border-bottom: 1px solid gray;flex-grow: 1;}#sk-container-id-1 div.sk-label:hover label.sk-toggleable__label {background-color: #d4ebff;}#sk-container-id-1 div.sk-serial::before {content: \"\";position: absolute;border-left: 1px solid gray;box-sizing: border-box;top: 0;bottom: 0;left: 50%;z-index: 0;}#sk-container-id-1 div.sk-serial {display: flex;flex-direction: column;align-items: center;background-color: white;padding-right: 0.2em;padding-left: 0.2em;position: relative;}#sk-container-id-1 div.sk-item {position: relative;z-index: 1;}#sk-container-id-1 div.sk-parallel {display: flex;align-items: stretch;justify-content: center;background-color: white;position: relative;}#sk-container-id-1 div.sk-item::before, #sk-container-id-1 div.sk-parallel-item::before {content: \"\";position: absolute;border-left: 1px solid gray;box-sizing: border-box;top: 0;bottom: 0;left: 50%;z-index: -1;}#sk-container-id-1 div.sk-parallel-item {display: flex;flex-direction: column;z-index: 1;position: relative;background-color: white;}#sk-container-id-1 div.sk-parallel-item:first-child::after {align-self: flex-end;width: 50%;}#sk-container-id-1 div.sk-parallel-item:last-child::after {align-self: flex-start;width: 50%;}#sk-container-id-1 div.sk-parallel-item:only-child::after {width: 0;}#sk-container-id-1 div.sk-dashed-wrapped {border: 1px dashed gray;margin: 0 0.4em 0.5em 0.4em;box-sizing: border-box;padding-bottom: 0.4em;background-color: white;}#sk-container-id-1 div.sk-label label {font-family: monospace;font-weight: bold;display: inline-block;line-height: 1.2em;}#sk-container-id-1 div.sk-label-container {text-align: center;}#sk-container-id-1 div.sk-container {/* jupyter's `normalize.less` sets `[hidden] { display: none; }` but bootstrap.min.css set `[hidden] { display: none !important; }` so we also need the `!important` here to be able to override the default hidden behavior on the sphinx rendered scikit-learn.org. See: https://github.com/scikit-learn/scikit-learn/issues/21755 */display: inline-block !important;position: relative;}#sk-container-id-1 div.sk-text-repr-fallback {display: none;}</style><div id=\"sk-container-id-1\" class=\"sk-top-container\"><div class=\"sk-text-repr-fallback\"><pre>CountVectorizer()</pre><b>In a Jupyter environment, please rerun this cell to show the HTML representation or trust the notebook. <br />On GitHub, the HTML representation is unable to render, please try loading this page with nbviewer.org.</b></div><div class=\"sk-container\" hidden><div class=\"sk-item\"><div class=\"sk-estimator sk-toggleable\"><input class=\"sk-toggleable__control sk-hidden--visually\" id=\"sk-estimator-id-1\" type=\"checkbox\" checked><label for=\"sk-estimator-id-1\" class=\"sk-toggleable__label sk-toggleable__label-arrow\">CountVectorizer</label><div class=\"sk-toggleable__content\"><pre>CountVectorizer()</pre></div></div></div></div></div>"
     },
     "execution_count": 43,
     "metadata": {},
     "output_type": "execute_result"
    }
   ],
   "source": [
    "vect"
   ],
   "metadata": {
    "collapsed": false,
    "ExecuteTime": {
     "end_time": "2023-12-13T17:15:47.122234300Z",
     "start_time": "2023-12-13T17:15:46.681909Z"
    }
   },
   "id": "8934034290d946f"
  },
  {
   "cell_type": "code",
   "execution_count": 45,
   "outputs": [
    {
     "name": "stdout",
     "output_type": "stream",
     "text": [
      "Количество признаков: 438\n",
      "Первые 20 признаков: \n",
      " ['ability' 'about' 'academia' 'academic' 'accessibility' 'accessing'\n",
      " 'achievable' 'achievement' 'acquiring' 'address' 'adept' 'advancements'\n",
      " 'align' 'all' 'also' 'alumni' 'among' 'an' 'and' 'anxiety']\n"
     ]
    }
   ],
   "source": [
    "feature_names = vect.get_feature_names_out()\n",
    "print(\"Количество признаков: {}\".format(len(feature_names)))\n",
    "print(\"Первые 20 признаков: \\n {}\".format(feature_names[:20]))"
   ],
   "metadata": {
    "collapsed": false,
    "ExecuteTime": {
     "end_time": "2023-12-13T17:16:28.365257Z",
     "start_time": "2023-12-13T17:16:28.332298500Z"
    }
   },
   "id": "310ff2513520d2cd"
  },
  {
   "cell_type": "code",
   "execution_count": 46,
   "outputs": [],
   "source": [
    "from sklearn.model_selection import cross_val_score\n",
    "from sklearn.linear_model import LogisticRegression"
   ],
   "metadata": {
    "collapsed": false,
    "ExecuteTime": {
     "end_time": "2023-12-13T17:16:46.725647200Z",
     "start_time": "2023-12-13T17:16:45.671179900Z"
    }
   },
   "id": "cf37a94ceb59fe93"
  },
  {
   "cell_type": "code",
   "execution_count": 47,
   "outputs": [
    {
     "name": "stdout",
     "output_type": "stream",
     "text": [
      "Mean value of cross_val_score: 0.90\n"
     ]
    }
   ],
   "source": [
    "scores = cross_val_score(LogisticRegression(), X_train, y_train, cv=5)\n",
    "print(\"Mean value of cross_val_score: {:.2f}\".format(np.mean(scores)))"
   ],
   "metadata": {
    "collapsed": false,
    "ExecuteTime": {
     "end_time": "2023-12-13T17:16:54.567033300Z",
     "start_time": "2023-12-13T17:16:54.496727Z"
    }
   },
   "id": "ec62b913547beb6d"
  },
  {
   "cell_type": "code",
   "execution_count": 48,
   "outputs": [
    {
     "name": "stdout",
     "output_type": "stream",
     "text": [
      "The best cross_val: 0.90\n",
      "Best parameters:  {'C': 0.1}\n"
     ]
    }
   ],
   "source": [
    "from sklearn.model_selection import GridSearchCV\n",
    "param_grid = {'C': [0.001, 0.01, 0.1, 1, 10]}\n",
    "grid = GridSearchCV(LogisticRegression(max_iter=100), param_grid, cv=5)\n",
    "grid.fit(X_train, y_train)\n",
    "print(\"The best cross_val: {:.2f}\".format(grid.best_score_))\n",
    "print(\"Best parameters: \", grid.best_params_)"
   ],
   "metadata": {
    "collapsed": false,
    "ExecuteTime": {
     "end_time": "2023-12-13T17:17:04.787653700Z",
     "start_time": "2023-12-13T17:17:04.472680200Z"
    }
   },
   "id": "bf5e660c565578c9"
  },
  {
   "cell_type": "code",
   "execution_count": 49,
   "outputs": [],
   "source": [
    "X_test = vect.transform(text_test)"
   ],
   "metadata": {
    "collapsed": false,
    "ExecuteTime": {
     "end_time": "2023-12-13T17:17:18.312833300Z",
     "start_time": "2023-12-13T17:17:18.295634500Z"
    }
   },
   "id": "1ab64f89088651ab"
  },
  {
   "cell_type": "code",
   "execution_count": 50,
   "outputs": [
    {
     "name": "stdout",
     "output_type": "stream",
     "text": [
      "The best score on test set: 1.00\n"
     ]
    }
   ],
   "source": [
    "print(\"The best score on test set: {:.2f}\".format(grid.score(X_test, y_test)))"
   ],
   "metadata": {
    "collapsed": false,
    "ExecuteTime": {
     "end_time": "2023-12-13T17:17:25.864668400Z",
     "start_time": "2023-12-13T17:17:25.821242400Z"
    }
   },
   "id": "333dc2546b80ad32"
  },
  {
   "cell_type": "markdown",
   "source": [
    "<h2>Создайте словарь стоп-слов, примените стоп-слова к своему «мешку слов»</h2>|"
   ],
   "metadata": {
    "collapsed": false
   },
   "id": "5d29b3991421b3b2"
  },
  {
   "cell_type": "code",
   "execution_count": 51,
   "outputs": [],
   "source": [
    "stop_words = [\"a\",\"an\",\"and\",\"the\", \"is\",\"it\",\"for\",\"of\",\"with\",\"in\",\"on\",\"at\",\"to\",\"from\",\n",
    "\"by\",\"that\",\"this\",\"but\",\"not\",\"no\",\"can\",\"be\",\"has\",\"are\"]"
   ],
   "metadata": {
    "collapsed": false,
    "ExecuteTime": {
     "end_time": "2023-12-13T17:17:46.631562500Z",
     "start_time": "2023-12-13T17:17:46.417240900Z"
    }
   },
   "id": "6a786e6dd86cb0c0"
  },
  {
   "cell_type": "code",
   "execution_count": 52,
   "outputs": [
    {
     "name": "stdout",
     "output_type": "stream",
     "text": [
      "Количество стоп-слов: 24\n"
     ]
    }
   ],
   "source": [
    "print(\"Количество стоп-слов: {}\".format(len(stop_words)))"
   ],
   "metadata": {
    "collapsed": false,
    "ExecuteTime": {
     "end_time": "2023-12-13T17:17:56.351750900Z",
     "start_time": "2023-12-13T17:17:56.342281Z"
    }
   },
   "id": "559912320489bce2"
  },
  {
   "cell_type": "code",
   "execution_count": 53,
   "outputs": [
    {
     "name": "stdout",
     "output_type": "stream",
     "text": [
      "X_train with stop-words: \n",
      " <12x375 sparse matrix of type '<class 'numpy.int64'>'\n",
      "\twith 588 stored elements in Compressed Sparse Row format>\n"
     ]
    }
   ],
   "source": [
    "vect = CountVectorizer(stop_words='english').fit(text_train)\n",
    "X_train = vect.transform(text_train)\n",
    "print(\"X_train with stop-words: \\n {}\".format(repr(X_train)))"
   ],
   "metadata": {
    "collapsed": false,
    "ExecuteTime": {
     "end_time": "2023-12-13T17:18:09.075600900Z",
     "start_time": "2023-12-13T17:18:09.069272200Z"
    }
   },
   "id": "7c7b4d573f3d5e07"
  },
  {
   "cell_type": "code",
   "execution_count": 54,
   "outputs": [
    {
     "name": "stdout",
     "output_type": "stream",
     "text": [
      "The best cross_val: 0.93\n"
     ]
    }
   ],
   "source": [
    "grid = GridSearchCV(LogisticRegression(), param_grid, cv=5)\n",
    "grid.fit(X_train, y_train)\n",
    "print(\"The best cross_val: {:.2f}\".format(grid.best_score_))"
   ],
   "metadata": {
    "collapsed": false,
    "ExecuteTime": {
     "end_time": "2023-12-13T17:18:23.081309700Z",
     "start_time": "2023-12-13T17:18:22.901361100Z"
    }
   },
   "id": "a5add647dd27b369"
  },
  {
   "cell_type": "markdown",
   "source": [
    "<h2>Масштабируйте данные с помощью tf-idf</h2>"
   ],
   "metadata": {
    "collapsed": false
   },
   "id": "6624ab73405442d0"
  },
  {
   "cell_type": "code",
   "execution_count": 55,
   "outputs": [],
   "source": [
    "from sklearn.feature_extraction.text import TfidfVectorizer\n",
    "from sklearn.pipeline import make_pipeline"
   ],
   "metadata": {
    "collapsed": false,
    "ExecuteTime": {
     "end_time": "2023-12-13T17:18:46.358373Z",
     "start_time": "2023-12-13T17:18:46.297545400Z"
    }
   },
   "id": "8a6eb868950bfd19"
  },
  {
   "cell_type": "code",
   "execution_count": 56,
   "outputs": [
    {
     "name": "stdout",
     "output_type": "stream",
     "text": [
      "Haилучшее значение перекрестной проверки: 0.90\n"
     ]
    }
   ],
   "source": [
    "pipe = make_pipeline(TfidfVectorizer(min_df=5, norm=None), LogisticRegression(max_iter=100)) \n",
    "param_grid = {'logisticregression__C': [0.001, 0.01, 0.1, 1, 10]}\n",
    "grid = GridSearchCV(pipe, param_grid, cv=5)\n",
    "grid.fit(text_train, y_train)\n",
    "print(\"Haилучшее значение перекрестной проверки: {:.2f}\".format(grid.best_score_))"
   ],
   "metadata": {
    "collapsed": false,
    "ExecuteTime": {
     "end_time": "2023-12-13T17:18:56.186173100Z",
     "start_time": "2023-12-13T17:18:55.823098700Z"
    }
   },
   "id": "84bb7115afdcaa71"
  },
  {
   "cell_type": "code",
   "execution_count": 57,
   "outputs": [],
   "source": [
    "vectorizer = grid.best_estimator_.named_steps[\"tfidfvectorizer\"] \n",
    "\n",
    "X_train = vectorizer.transform(text_train)\n",
    "\n",
    "max_value = X_train.max(axis=0).toarray().ravel()\n",
    "sorted_by_tfidf = max_value.argsort()"
   ],
   "metadata": {
    "collapsed": false,
    "ExecuteTime": {
     "end_time": "2023-12-13T17:19:53.826070900Z",
     "start_time": "2023-12-13T17:19:53.632824800Z"
    }
   },
   "id": "90ae71594e4b84eb"
  },
  {
   "cell_type": "code",
   "execution_count": 58,
   "outputs": [
    {
     "name": "stdout",
     "output_type": "stream",
     "text": [
      "Признаки с наименьшими значениями fidf:\n",
      "['are' 'alumni' 'accessing' 'academic' 'all' 'academia' 'anxiety' 'also'\n",
      " 'architects' 'ability' 'advancements' 'applicable' 'align'\n",
      " 'accessibility' 'achievable' 'archaic' 'achievement' 'an' 'apart'\n",
      " 'applications']\n",
      "Признаки с наибольшими значениями tfdf: \n",
      "['architects' 'ability' 'advancements' 'applicable' 'align'\n",
      " 'accessibility' 'achievable' 'archaic' 'achievement' 'an' 'apart'\n",
      " 'applications' 'acquiring' 'among' 'about' 'address' 'approach' 'and'\n",
      " 'adept' 'applying']\n"
     ]
    }
   ],
   "source": [
    "print(\"Признаки с наименьшими значениями fidf:\\n{}\".format(feature_names [sorted_by_tfidf[:20]]))\n",
    "print(\"Признаки с наибольшими значениями tfdf: \\n{}\".format(feature_names [sorted_by_tfidf[-20:]]))"
   ],
   "metadata": {
    "collapsed": false,
    "ExecuteTime": {
     "end_time": "2023-12-13T17:19:59.977568500Z",
     "start_time": "2023-12-13T17:19:59.717454600Z"
    }
   },
   "id": "1ac09bd865504b4c"
  },
  {
   "cell_type": "code",
   "execution_count": 62,
   "outputs": [
    {
     "name": "stdout",
     "output_type": "stream",
     "text": [
      "Признаки с наименьшими значениями idƒ:\n",
      "['about' 'applying' 'applicable' 'and' 'among' 'approach' 'anxiety'\n",
      " 'acquiring' 'ability' 'address' 'adept' 'also' 'architects' 'are'\n",
      " 'advancements' 'alumni' 'achievable' 'accessing' 'accessibility'\n",
      " 'academic' 'archaic' 'align' 'achievement' 'an' 'apart' 'applications'\n",
      " 'academia' 'all']\n"
     ]
    }
   ],
   "source": [
    "sorted_by_idf = np.argsort(vectorizer.idf_)\n",
    "print(\"Признаки с наименьшими значениями idƒ:\\n{}\".format(feature_names[sorted_by_idf[:100]]))"
   ],
   "metadata": {
    "collapsed": false,
    "ExecuteTime": {
     "end_time": "2023-12-13T17:20:50.964722500Z",
     "start_time": "2023-12-13T17:20:50.810341800Z"
    }
   },
   "id": "7a4c727a1a6a1c9"
  },
  {
   "cell_type": "code",
   "execution_count": 85,
   "outputs": [],
   "source": [
    "import matplotlib.pyplot as plt\n",
    "\n",
    "# Получите коэффициенты модели\n",
    "coefficients = grid.best_estimator_.named_steps[\"logisticregression\"].coef_\n",
    "\n",
    "# Выведите первые 20 коэффициентов\n",
    "top_coefficients = np.argsort(coefficients.ravel())[-20:]\n",
    "bottom_coefficients = np.argsort(coefficients.ravel())[:20]\n",
    "\n",
    "feature_names = np.array(vectorizer.get_feature_names_out())"
   ],
   "metadata": {
    "collapsed": false,
    "ExecuteTime": {
     "end_time": "2023-12-13T17:37:25.060890200Z",
     "start_time": "2023-12-13T17:37:24.978263300Z"
    }
   },
   "id": "c64fba9fe5116cc5"
  },
  {
   "cell_type": "code",
   "execution_count": 86,
   "outputs": [
    {
     "data": {
      "text/plain": "<Figure size 1500x600 with 1 Axes>",
      "image/png": "[encoded data removed]"
     },
     "metadata": {},
     "output_type": "display_data"
    }
   ],
   "source": [
    "# Визуализация топовых и низких коэффициентов\n",
    "plt.figure(figsize=(15, 6))\n",
    "plt.barh(range(len(top_coefficients)), coefficients.ravel()[top_coefficients], color='red')\n",
    "plt.barh(range(len(bottom_coefficients)), coefficients.ravel()[bottom_coefficients], color='blue')\n",
    "plt.yticks(range(len(top_coefficients)), feature_names[top_coefficients])\n",
    "plt.xlabel(\"Значение коэффициента\")\n",
    "plt.ylabel(\"Признак\")\n",
    "plt.title(\"Топовые и низкие коэффициенты модели\")\n",
    "plt.show()"
   ],
   "metadata": {
    "collapsed": false,
    "ExecuteTime": {
     "end_time": "2023-12-13T17:37:25.777917300Z",
     "start_time": "2023-12-13T17:37:25.435677900Z"
    }
   },
   "id": "bb5214d7086fa824"
  },
  {
   "cell_type": "code",
   "execution_count": 79,
   "outputs": [
    {
     "name": "stdout",
     "output_type": "stream",
     "text": [
      "Размерности коэффициентов модели: (1, 28)\n",
      "Коеффициенты: [-0.08539094  0.10722853  0.03102434 -0.13572459 -0.03381092  0.05257491\n",
      " -0.07390303 -0.08145997 -0.12512892 -0.06100258  0.12815956  0.13585561\n",
      "  0.2123802  -0.1680221   0.05650089 -0.17769533  0.11005649  0.13043917\n",
      "  0.13997945 -0.028138    0.01343013  0.05777847  0.14641992 -0.12037989\n",
      "  0.0844305  -0.073345   -0.00325342  0.03683655]\n"
     ]
    }
   ],
   "source": [
    "coefficients = grid.best_estimator_.named_steps[\"logisticregression\"].coef_\n",
    "print(\"Размерности коэффициентов модели: {}\".format(coefficients.shape))\n",
    "print(\"Коеффициенты: {}\".format(coefficients.ravel()[:]))"
   ],
   "metadata": {
    "collapsed": false,
    "ExecuteTime": {
     "end_time": "2023-12-13T17:34:01.588348800Z",
     "start_time": "2023-12-13T17:34:01.571012500Z"
    }
   },
   "id": "27a712e9446b896b"
  },
  {
   "cell_type": "code",
   "execution_count": 88,
   "outputs": [
    {
     "name": "stdout",
     "output_type": "stream",
     "text": [
      "Best cross-validation score: 1.00\n",
      "Best parameters: \n",
      "{'logisticregression__C': 10, 'tfidfvectorizer__ngram_range': (1, 2)}\n"
     ]
    }
   ],
   "source": [
    "pipe = make_pipeline(TfidfVectorizer(), LogisticRegression()) \n",
    "\n",
    "param_grid = {'logisticregression__C': [0.001, 0.01, 0.1, 1, 10, 100],\n",
    "            'tfidfvectorizer__ngram_range': [(1, 1), (1, 2), (1, 3)]}\n",
    "\n",
    "grid = GridSearchCV(pipe, param_grid, cv=5)\n",
    "grid.fit(text_train, y_train)\n",
    "print(\"Best cross-validation score: {:.2f}\".format(grid.best_score_)) \n",
    "print(\"Best parameters: \\n{}\".format(grid.best_params_))"
   ],
   "metadata": {
    "collapsed": false,
    "ExecuteTime": {
     "end_time": "2023-12-13T17:43:54.508178100Z",
     "start_time": "2023-12-13T17:43:53.142464200Z"
    }
   },
   "id": "63afd7c750f36a7e"
  },
  {
   "cell_type": "code",
   "execution_count": 94,
   "outputs": [
    {
     "data": {
      "text/plain": "<Figure size 1000x600 with 2 Axes>",
      "image/png": "[encoded data removed]"
     },
     "metadata": {},
     "output_type": "display_data"
    }
   ],
   "source": [
    "import seaborn as sns\n",
    "\n",
    "grid_mean_scores = np.array(grid.cv_results_['mean_test_score']).reshape(3, 6)\n",
    "\n",
    "plt.figure(figsize=(10, 6))\n",
    "sns.heatmap(grid_mean_scores, annot=True, fmt=\".3f\", xticklabels=param_grid['logisticregression__C'],\n",
    "            yticklabels=[str(i) for i in param_grid['tfidfvectorizer__ngram_range']], cmap=\"viridis\")\n",
    "plt.xlabel('Параметр C')\n",
    "plt.ylabel('ngram_range')\n",
    "plt.title('Теплокарта для усредненной правильности перекрестной проверки')\n",
    "plt.show()"
   ],
   "metadata": {
    "collapsed": false,
    "ExecuteTime": {
     "end_time": "2023-12-13T17:47:30.376810500Z",
     "start_time": "2023-12-13T17:47:30.056370400Z"
    }
   },
   "id": "6d31c4867a7fcd3a"
  },
  {
   "cell_type": "markdown",
   "source": [
    "<h2>Вывод по лабораторной работе №7. Работа с текстовыми данными</h2>"
   ],
   "metadata": {
    "collapsed": false
   },
   "id": "797d27bda53e0056"
  },
  {
   "cell_type": "markdown",
   "source": [
    "В начале работы создала \"мешок-слов\" из набора негативных и позитивных отзывов об университете MIT. Для этого использовалась библиотека sklearn.datasets для загрузки отзывов, а затем была применена векторизация текста с использованием CountVectorizer. Этот шаг помог представить текст в виде матрицы, где каждый столбец соответствует уникальному слову, а каждая строка - документу."
   ],
   "metadata": {
    "collapsed": false
   },
   "id": "faeb105929da0191"
  },
  {
   "cell_type": "markdown",
   "source": [
    "На полученных данных была применена логистическая регрессия c результатом 90%. Проведен анализ качества модели с использованием кросс-валидации. Далее был проведен поиск оптимальных параметров с использованием GridSearchCV, что позволило улучшить точность предсказаний."
   ],
   "metadata": {
    "collapsed": false
   },
   "id": "75ffd0915b3c1c94"
  },
  {
   "cell_type": "markdown",
   "source": [
    "Для улучшения модели был создан словарь стоп-слов, и они были применены к данным. Стоп-слова позволили избавиться от неинформативных слов. С помощью этого метода получилось улучшить модель на 3%(с 90 до 93)."
   ],
   "metadata": {
    "collapsed": false
   },
   "id": "178925466b281731"
  },
  {
   "cell_type": "markdown",
   "source": [
    "Для учета важности слов в документе была применена техника масштабирования данных с использованием tf-idf (term frequency-inverse document frequency). Это помогло учесть не только частоту слова в документе, но и его важность в контексте всего корпуса текстов. Были выявлены признаки с наименьшими и наибольшими значениями."
   ],
   "metadata": {
    "collapsed": false
   },
   "id": "e6067e685fd66050"
  },
  {
   "cell_type": "markdown",
   "source": [
    "Лабораторная работа позволила ознакомиться с основными этапами работы с текстовыми данными, включая их предобработку, векторизацию, построение модели и оценку ее качества. Эксперименты с параметрами модели и применение различных техник обработки текста позволяют улучшить результаты и сделать модель более эффективной."
   ],
   "metadata": {
    "collapsed": false
   },
   "id": "23635f6ce10c207b"
  },
  {
   "cell_type": "code",
   "execution_count": null,
   "outputs": [],
   "source": [],
   "metadata": {
    "collapsed": false
   },
   "id": "dc94c748173b3286"
  }
 ],
 "metadata": {
  "kernelspec": {
   "display_name": "Python 3",
   "language": "python",
   "name": "python3"
  },
  "language_info": {
   "codemirror_mode": {
    "name": "ipython",
    "version": 2
   },
   "file_extension": ".py",
   "mimetype": "text/x-python",
   "name": "python",
   "nbconvert_exporter": "python",
   "pygments_lexer": "ipython2",
   "version": "2.7.6"
  }
 },
 "nbformat": 4,
 "nbformat_minor": 5
}
