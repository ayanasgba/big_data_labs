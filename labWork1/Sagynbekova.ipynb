{
 "cells": [
  {
   "cell_type": "code",
   "execution_count": 39,
   "id": "a8da255a",
   "metadata": {
    "ExecuteTime": {
     "end_time": "2023-09-15T14:02:33.726887300Z",
     "start_time": "2023-09-15T14:02:33.537457500Z"
    }
   },
   "outputs": [
    {
     "name": "stdout",
     "output_type": "stream",
     "text": [
      "Hello, Aiana!\n"
     ]
    }
   ],
   "source": [
    "print(\"Hello, Aiana!\")"
   ]
  },
  {
   "cell_type": "code",
   "execution_count": 40,
   "id": "3e91f1ee",
   "metadata": {
    "ExecuteTime": {
     "end_time": "2023-09-15T14:02:33.907563800Z",
     "start_time": "2023-09-15T14:02:33.553113500Z"
    }
   },
   "outputs": [],
   "source": [
    "print?"
   ]
  },
  {
   "cell_type": "code",
   "execution_count": 41,
   "id": "326302e7",
   "metadata": {
    "ExecuteTime": {
     "end_time": "2023-09-15T14:02:33.954901100Z",
     "start_time": "2023-09-15T14:02:33.568739100Z"
    }
   },
   "outputs": [
    {
     "name": "stdout",
     "output_type": "stream",
     "text": [
      "11\n"
     ]
    }
   ],
   "source": [
    "i = 11\n",
    "print(i)"
   ]
  },
  {
   "cell_type": "code",
   "execution_count": null,
   "outputs": [],
   "source": [],
   "metadata": {
    "collapsed": false
   },
   "id": "8de762aa7f377b08"
  },
  {
   "cell_type": "code",
   "execution_count": 42,
   "id": "a7c8780b",
   "metadata": {
    "ExecuteTime": {
     "end_time": "2023-09-15T14:02:33.954901100Z",
     "start_time": "2023-09-15T14:02:33.592883900Z"
    }
   },
   "outputs": [
    {
     "name": "stdout",
     "output_type": "stream",
     "text": [
      "<class 'int'>\n"
     ]
    }
   ],
   "source": [
    "a = 10\n",
    "b = type(a)\n",
    "print(b)"
   ]
  },
  {
   "cell_type": "code",
   "execution_count": 1,
   "id": "56f135c7",
   "metadata": {
    "ExecuteTime": {
     "end_time": "2023-09-19T06:39:10.270243300Z",
     "start_time": "2023-09-19T06:39:10.255075600Z"
    }
   },
   "outputs": [
    {
     "data": {
      "text/plain": "int"
     },
     "execution_count": 1,
     "metadata": {},
     "output_type": "execute_result"
    }
   ],
   "source": [
    "i = 55\n",
    "type(i)"
   ]
  },
  {
   "cell_type": "code",
   "execution_count": 2,
   "id": "cf79ee2f",
   "metadata": {
    "scrolled": true,
    "ExecuteTime": {
     "end_time": "2023-09-19T06:39:14.271946800Z",
     "start_time": "2023-09-19T06:39:14.256821500Z"
    }
   },
   "outputs": [
    {
     "data": {
      "text/plain": "float"
     },
     "execution_count": 2,
     "metadata": {},
     "output_type": "execute_result"
    }
   ],
   "source": [
    "f = 5.67\n",
    "type(f)"
   ]
  },
  {
   "cell_type": "code",
   "execution_count": 3,
   "id": "241e98a7",
   "metadata": {
    "ExecuteTime": {
     "end_time": "2023-09-19T06:39:17.620339600Z",
     "start_time": "2023-09-19T06:39:17.604416800Z"
    }
   },
   "outputs": [
    {
     "data": {
      "text/plain": "bool"
     },
     "execution_count": 3,
     "metadata": {},
     "output_type": "execute_result"
    }
   ],
   "source": [
    "b = True\n",
    "type(b)"
   ]
  },
  {
   "cell_type": "code",
   "execution_count": 46,
   "id": "c9c174ea",
   "metadata": {
    "scrolled": false,
    "ExecuteTime": {
     "end_time": "2023-09-15T14:02:33.954901100Z",
     "start_time": "2023-09-15T14:02:33.663430900Z"
    }
   },
   "outputs": [
    {
     "name": "stdout",
     "output_type": "stream",
     "text": [
      "This is my first lab.work!\n"
     ]
    }
   ],
   "source": [
    "s = \"This is my first lab.work!\"\n",
    "type(s)\n",
    "print(s)"
   ]
  },
  {
   "cell_type": "code",
   "execution_count": 47,
   "id": "31f03f16",
   "metadata": {
    "ExecuteTime": {
     "end_time": "2023-09-15T14:02:33.954901100Z",
     "start_time": "2023-09-15T14:02:33.679455600Z"
    }
   },
   "outputs": [
    {
     "name": "stdout",
     "output_type": "stream",
     "text": [
      "[31, 32, 33, 34]\n"
     ]
    }
   ],
   "source": [
    "l = [31,32,33,34]\n",
    "print(l)"
   ]
  },
  {
   "cell_type": "code",
   "execution_count": 48,
   "id": "692ec1b3",
   "metadata": {
    "ExecuteTime": {
     "end_time": "2023-09-15T14:02:33.954901100Z",
     "start_time": "2023-09-15T14:02:33.695206800Z"
    }
   },
   "outputs": [
    {
     "name": "stdout",
     "output_type": "stream",
     "text": [
      "{'aiana': 1, 'sagynbek': 2.3, 's': 'my names dic'}\n"
     ]
    }
   ],
   "source": [
    "d = {'aiana':1, 'sagynbek':2.3, 's':'my names dic'}\n",
    "print(d)"
   ]
  },
  {
   "cell_type": "code",
   "execution_count": 49,
   "id": "2d10b9b0",
   "metadata": {
    "ExecuteTime": {
     "end_time": "2023-09-15T14:02:33.954901100Z",
     "start_time": "2023-09-15T14:02:33.710869900Z"
    }
   },
   "outputs": [
    {
     "name": "stdout",
     "output_type": "stream",
     "text": [
      "2.3\n"
     ]
    }
   ],
   "source": [
    "print(d['sagynbek'])"
   ]
  },
  {
   "cell_type": "code",
   "execution_count": 50,
   "id": "b4c6c8af",
   "metadata": {
    "ExecuteTime": {
     "end_time": "2023-09-15T14:02:33.954901100Z",
     "start_time": "2023-09-15T14:02:33.726887300Z"
    }
   },
   "outputs": [
    {
     "data": {
      "text/plain": "NoneType"
     },
     "execution_count": 50,
     "metadata": {},
     "output_type": "execute_result"
    }
   ],
   "source": [
    "n = None\n",
    "type(n)"
   ]
  },
  {
   "cell_type": "code",
   "execution_count": 51,
   "id": "72ab841e",
   "metadata": {
    "ExecuteTime": {
     "end_time": "2023-09-15T14:02:33.954901100Z",
     "start_time": "2023-09-15T14:02:33.742501900Z"
    }
   },
   "outputs": [
    {
     "name": "stdout",
     "output_type": "stream",
     "text": [
      "The 3th power of 11 =  1331.0\n"
     ]
    }
   ],
   "source": [
    "import math\n",
    "p = math.pow(11,3)\n",
    "print(\"The 3th power of 11 = \", p)"
   ]
  },
  {
   "cell_type": "code",
   "execution_count": 52,
   "id": "6e966b4c",
   "metadata": {
    "ExecuteTime": {
     "end_time": "2023-09-15T14:02:33.954901100Z",
     "start_time": "2023-09-15T14:02:33.758247300Z"
    }
   },
   "outputs": [
    {
     "name": "stdout",
     "output_type": "stream",
     "text": [
      "4\n"
     ]
    }
   ],
   "source": [
    "n = math.ceil(3.54)\n",
    "print(n)"
   ]
  },
  {
   "cell_type": "code",
   "execution_count": 53,
   "id": "632fb201",
   "metadata": {
    "ExecuteTime": {
     "end_time": "2023-09-15T14:02:33.954901100Z",
     "start_time": "2023-09-15T14:02:33.793530700Z"
    }
   },
   "outputs": [
    {
     "name": "stdout",
     "output_type": "stream",
     "text": [
      "179.9998479605043\n"
     ]
    }
   ],
   "source": [
    "nn = math.degrees(3.14159)\n",
    "print(nn)"
   ]
  },
  {
   "cell_type": "code",
   "execution_count": 54,
   "id": "cf1a2392",
   "metadata": {
    "ExecuteTime": {
     "end_time": "2023-09-15T14:02:33.954901100Z",
     "start_time": "2023-09-15T14:02:33.813380500Z"
    }
   },
   "outputs": [
    {
     "name": "stdout",
     "output_type": "stream",
     "text": [
      "3\n"
     ]
    }
   ],
   "source": [
    "n = math.floor(3.54)\n",
    "print(n)"
   ]
  },
  {
   "cell_type": "code",
   "execution_count": 55,
   "id": "fd4fad22",
   "metadata": {
    "ExecuteTime": {
     "end_time": "2023-09-15T14:02:33.954901100Z",
     "start_time": "2023-09-15T14:02:33.829008100Z"
    }
   },
   "outputs": [
    {
     "name": "stdout",
     "output_type": "stream",
     "text": [
      "Our first value is True. Our second value is 99.\n"
     ]
    }
   ],
   "source": [
    "i = 99\n",
    "n = True\n",
    "print(\"Our first value is %s. Our second value is %s.\" %(n,i))"
   ]
  },
  {
   "cell_type": "code",
   "execution_count": 56,
   "id": "87a7e19f",
   "metadata": {
    "ExecuteTime": {
     "end_time": "2023-09-15T14:02:33.954901100Z",
     "start_time": "2023-09-15T14:02:33.844630300Z"
    }
   },
   "outputs": [
    {
     "name": "stdout",
     "output_type": "stream",
     "text": [
      "Both i and f are less than 11 or equal to 11.\n"
     ]
    }
   ],
   "source": [
    "i = 11\n",
    "f = 11\n",
    "if i == 1 and f > 11:\n",
    "    print(\"The value of i is 1 and f is greater than 11.\")\n",
    "elif i > 11 or f > 11:\n",
    "    print(\"i or f both greater than 11.\")\n",
    "else:\n",
    "    print(\"Both i and f are less than 11 or equal to 11.\")"
   ]
  },
  {
   "cell_type": "code",
   "execution_count": 57,
   "id": "2901e4ee",
   "metadata": {
    "ExecuteTime": {
     "end_time": "2023-09-15T14:02:33.954901100Z",
     "start_time": "2023-09-15T14:02:33.860264300Z"
    }
   },
   "outputs": [
    {
     "name": "stdout",
     "output_type": "stream",
     "text": [
      "[22, 33, 44]\n"
     ]
    }
   ],
   "source": [
    "l = [22,33,44]\n",
    "print(l)"
   ]
  },
  {
   "cell_type": "code",
   "execution_count": 58,
   "id": "a55e92ff",
   "metadata": {
    "ExecuteTime": {
     "end_time": "2023-09-15T14:02:33.954901100Z",
     "start_time": "2023-09-15T14:02:33.875879700Z"
    }
   },
   "outputs": [
    {
     "name": "stdout",
     "output_type": "stream",
     "text": [
      "22\n",
      "33\n",
      "44\n"
     ]
    }
   ],
   "source": [
    "for i in l:\n",
    "    print(i)"
   ]
  },
  {
   "cell_type": "code",
   "execution_count": 59,
   "id": "8ade8fb9",
   "metadata": {
    "ExecuteTime": {
     "end_time": "2023-09-15T14:02:33.954901100Z",
     "start_time": "2023-09-15T14:02:33.893527600Z"
    }
   },
   "outputs": [
    {
     "name": "stdout",
     "output_type": "stream",
     "text": [
      "These numbers are from 0 to 99:  0\n",
      "These numbers are from 0 to 99:  1\n",
      "These numbers are from 0 to 99:  2\n",
      "These numbers are from 0 to 99:  3\n",
      "These numbers are from 0 to 99:  4\n",
      "These numbers are from 0 to 99:  5\n",
      "These numbers are from 0 to 99:  6\n",
      "These numbers are from 0 to 99:  7\n",
      "These numbers are from 0 to 99:  8\n",
      "These numbers are from 0 to 99:  9\n",
      "These numbers are from 0 to 99:  10\n",
      "These numbers are from 0 to 99:  11\n",
      "These numbers are from 0 to 99:  12\n",
      "These numbers are from 0 to 99:  13\n",
      "These numbers are from 0 to 99:  14\n",
      "These numbers are from 0 to 99:  15\n",
      "These numbers are from 0 to 99:  16\n",
      "These numbers are from 0 to 99:  17\n",
      "These numbers are from 0 to 99:  18\n",
      "These numbers are from 0 to 99:  19\n",
      "These numbers are from 0 to 99:  20\n",
      "These numbers are from 0 to 99:  21\n",
      "These numbers are from 0 to 99:  22\n",
      "These numbers are from 0 to 99:  23\n",
      "These numbers are from 0 to 99:  24\n",
      "These numbers are from 0 to 99:  25\n",
      "These numbers are from 0 to 99:  26\n",
      "These numbers are from 0 to 99:  27\n",
      "These numbers are from 0 to 99:  28\n",
      "These numbers are from 0 to 99:  29\n",
      "These numbers are from 0 to 99:  30\n",
      "These numbers are from 0 to 99:  31\n",
      "These numbers are from 0 to 99:  32\n"
     ]
    }
   ],
   "source": [
    "for i in range(33):\n",
    "    print(\"These numbers are from 0 to 99: \", i)"
   ]
  },
  {
   "cell_type": "code",
   "execution_count": 60,
   "id": "106d1429",
   "metadata": {
    "ExecuteTime": {
     "end_time": "2023-09-15T14:02:43.997967300Z",
     "start_time": "2023-09-15T14:02:33.907563800Z"
    }
   },
   "outputs": [
    {
     "name": "stdout",
     "output_type": "stream",
     "text": [
      "Number: 0\n",
      "Number: 1\n",
      "Number: 2\n",
      "Number: 3\n",
      "Number: 4\n",
      "Number: 5\n",
      "Number: 6\n",
      "Number: 7\n",
      "Number: 8\n",
      "Number: 9\n"
     ]
    }
   ],
   "source": [
    "import time\n",
    "for n in range(10):\n",
    "    time.sleep(1)\n",
    "    print('Number:', n)"
   ]
  },
  {
   "cell_type": "code",
   "execution_count": 61,
   "id": "84d9b1b1",
   "metadata": {
    "ExecuteTime": {
     "end_time": "2023-09-15T14:02:44.060633200Z",
     "start_time": "2023-09-15T14:02:43.997967300Z"
    }
   },
   "outputs": [
    {
     "name": "stdout",
     "output_type": "stream",
     "text": [
      "3\n",
      "4\n",
      "5\n",
      "6\n",
      "7\n",
      "8\n",
      "9\n"
     ]
    }
   ],
   "source": [
    "count = 3\n",
    "while count<10:\n",
    "    print(count)\n",
    "    count += 1"
   ]
  },
  {
   "cell_type": "code",
   "execution_count": 62,
   "outputs": [
    {
     "data": {
      "text/plain": "15"
     },
     "execution_count": 62,
     "metadata": {},
     "output_type": "execute_result"
    }
   ],
   "source": [
    "def add2(x):\n",
    "    y = x+11\n",
    "    return y\n",
    "i = 4\n",
    "add2(i)"
   ],
   "metadata": {
    "collapsed": false,
    "ExecuteTime": {
     "end_time": "2023-09-15T14:02:44.071183200Z",
     "start_time": "2023-09-15T14:02:44.016165400Z"
    }
   },
   "id": "26a9b15b73fb6a31"
  },
  {
   "cell_type": "code",
   "execution_count": 63,
   "outputs": [
    {
     "data": {
      "text/plain": "81"
     },
     "execution_count": 63,
     "metadata": {},
     "output_type": "execute_result"
    }
   ],
   "source": [
    "square = lambda x: x*x\n",
    "square(9)"
   ],
   "metadata": {
    "collapsed": false,
    "ExecuteTime": {
     "end_time": "2023-09-15T14:02:44.071183200Z",
     "start_time": "2023-09-15T14:02:44.029177Z"
    }
   },
   "id": "63b8540b1c95defe"
  },
  {
   "cell_type": "code",
   "execution_count": 64,
   "outputs": [
    {
     "name": "stdout",
     "output_type": "stream",
     "text": [
      "40\n"
     ]
    }
   ],
   "source": [
    "x = lambda a,b: a*b\n",
    "print(x(10,4))"
   ],
   "metadata": {
    "collapsed": false,
    "ExecuteTime": {
     "end_time": "2023-09-15T14:02:44.071183200Z",
     "start_time": "2023-09-15T14:02:44.045475Z"
    }
   },
   "id": "fe0f794be0307e93"
  },
  {
   "cell_type": "markdown",
   "source": [
    "<h1> Heading1 </h1>\n",
    "<h2> Heading2 </h2>\n",
    "<h3> Heading3 </h3>\n",
    "<h4> Heading4 </h4>\n",
    "<h5> Heading5 </h5>\n",
    "<h6> Heading6 </h6>\n",
    "<img src=\"jupyter.png\" width=320, heigth=240>\n",
    "<br>\n",
    "<img src=\"ff.jpg\" width=320, heigth=240>"
   ],
   "metadata": {
    "collapsed": false
   },
   "id": "1cd489a04f5c5326"
  },
  {
   "cell_type": "markdown",
   "source": [
    "\\begin{equation*}\n",
    "\\left(sum_{k=3}^n  a_k b_k\\right)^2\n",
    "\\end{equation*}"
   ],
   "metadata": {
    "collapsed": false
   },
   "id": "fea3f9c86003c44f"
  },
  {
   "cell_type": "code",
   "execution_count": 65,
   "outputs": [
    {
     "name": "stdout",
     "output_type": "stream",
     "text": [
      "\n",
      "Windows IP Configuration\n",
      "\n",
      "\n",
      "Ethernet adapter Ethernet:\n",
      "\n",
      "   Media State . . . . . . . . . . . : Media disconnected\n",
      "   Connection-specific DNS Suffix  . : \n",
      "\n",
      "Ethernet adapter VirtualBox Host-Only Network:\n",
      "\n",
      "   Connection-specific DNS Suffix  . : \n",
      "   Link-local IPv6 Address . . . . . : fe80::2569:44f1:1ab7:a20a%3\n",
      "   IPv4 Address. . . . . . . . . . . : 192.168.56.1\n",
      "   Subnet Mask . . . . . . . . . . . : 255.255.255.0\n",
      "   Default Gateway . . . . . . . . . : \n",
      "\n",
      "Wireless LAN adapter LAN-Verbindung* 1:\n",
      "\n",
      "   Media State . . . . . . . . . . . : Media disconnected\n",
      "   Connection-specific DNS Suffix  . : \n",
      "\n",
      "Wireless LAN adapter LAN-Verbindung* 2:\n",
      "\n",
      "   Media State . . . . . . . . . . . : Media disconnected\n",
      "   Connection-specific DNS Suffix  . : \n",
      "\n",
      "Wireless LAN adapter WLAN:\n",
      "\n",
      "   Connection-specific DNS Suffix  . : \n",
      "   Link-local IPv6 Address . . . . . : fe80::a43c:ded0:3518:4167%11\n",
      "   IPv4 Address. . . . . . . . . . . : 192.168.43.222\n",
      "   Subnet Mask . . . . . . . . . . . : 255.255.255.0\n",
      "   Default Gateway . . . . . . . . . : 192.168.43.1\n"
     ]
    }
   ],
   "source": [
    "!ipconfig"
   ],
   "metadata": {
    "collapsed": false,
    "ExecuteTime": {
     "end_time": "2023-09-15T14:02:44.203363700Z",
     "start_time": "2023-09-15T14:02:44.060633200Z"
    }
   },
   "id": "84a45673eb2de36a"
  },
  {
   "cell_type": "code",
   "execution_count": 66,
   "outputs": [
    {
     "name": "stdout",
     "output_type": "stream",
     "text": [
      "\n",
      "Pinging kaggle.com [35.244.233.98] with 32 bytes of data:\n",
      "Reply from 35.244.233.98: bytes=32 time=300ms TTL=108\n",
      "Reply from 35.244.233.98: bytes=32 time=102ms TTL=108\n",
      "Reply from 35.244.233.98: bytes=32 time=107ms TTL=108\n",
      "Reply from 35.244.233.98: bytes=32 time=93ms TTL=108\n",
      "\n",
      "Ping statistics for 35.244.233.98:\n",
      "    Packets: Sent = 4, Received = 4, Lost = 0 (0% loss),\n",
      "Approximate round trip times in milli-seconds:\n",
      "    Minimum = 93ms, Maximum = 300ms, Average = 150ms\n"
     ]
    }
   ],
   "source": [
    "! ping kaggle.com"
   ],
   "metadata": {
    "collapsed": false,
    "ExecuteTime": {
     "end_time": "2023-09-15T14:02:47.395634700Z",
     "start_time": "2023-09-15T14:02:44.155622100Z"
    }
   },
   "id": "fdd7276ca106afbf"
  }
 ],
 "metadata": {
  "kernelspec": {
   "display_name": "Python 3 (ipykernel)",
   "language": "python",
   "name": "python3"
  },
  "language_info": {
   "codemirror_mode": {
    "name": "ipython",
    "version": 3
   },
   "file_extension": ".py",
   "mimetype": "text/x-python",
   "name": "python",
   "nbconvert_exporter": "python",
   "pygments_lexer": "ipython3",
   "version": "3.11.4"
  }
 },
 "nbformat": 4,
 "nbformat_minor": 5
}
